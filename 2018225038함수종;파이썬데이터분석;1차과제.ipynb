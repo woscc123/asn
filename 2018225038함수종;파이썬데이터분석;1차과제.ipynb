{
  "cells": [
    {
      "cell_type": "markdown",
      "metadata": {
        "id": "view-in-github",
        "colab_type": "text"
      },
      "source": [
        "<a href=\"https://colab.research.google.com/github/woscc123/asn/blob/master/2018225038%ED%95%A8%EC%88%98%EC%A2%85%3B%ED%8C%8C%EC%9D%B4%EC%8D%AC%EB%8D%B0%EC%9D%B4%ED%84%B0%EB%B6%84%EC%84%9D%3B1%EC%B0%A8%EA%B3%BC%EC%A0%9C.ipynb\" target=\"_parent\"><img src=\"https://colab.research.google.com/assets/colab-badge.svg\" alt=\"Open In Colab\"/></a>"
      ]
    },
    {
      "cell_type": "markdown",
      "metadata": {
        "id": "vqrDBzPG3sXv"
      },
      "source": [
        "# (실습) 프로그래밍 시작하기"
      ]
    },
    {
      "cell_type": "markdown",
      "metadata": {
        "id": "MgBCG_zE0A9f"
      },
      "source": [
        "**주의 사항**\n",
        "\n",
        "* 실습 파일명을 아래의 형식(학번_이름)으로 변경하세요.  \n",
        "    \n",
        "    > 123456789_이름.ipynb\n",
        "\n",
        "* 기존에 작성된 텍스트셀은 수정하지 않는다.\n",
        "\n",
        "* 필요하면 코드셀 또는 텍스트셀을 추가할 수 있다.\n",
        "\n",
        "* 실습 파일을 구글 드라이브에서 링크로 누구가 공유할 수 있도록 설정하세요."
      ]
    },
    {
      "cell_type": "markdown",
      "metadata": {
        "id": "VBel4zM03sX6"
      },
      "source": [
        "**문제 1** \n",
        "\n",
        "아래 명령문들을 실행한 결과를 설명하라.\n",
        "\n",
        "```python\n",
        "print(\"Hello World\"\n",
        "print(\"Hello World)\n",
        "print('Hello World\")\n",
        "print(+2)\n",
        "print(2++2)\n",
        "print(023)\n",
        "print(21 8)\n",
        "```"
      ]
    },
    {
      "cell_type": "code",
      "execution_count": null,
      "metadata": {
        "id": "SeZecewi3sX8",
        "colab": {
          "base_uri": "https://localhost:8080/"
        },
        "outputId": "18f72112-cdb8-44a0-c75c-ea0c65f4c00f"
      },
      "outputs": [
        {
          "output_type": "stream",
          "name": "stdout",
          "text": [
            "Hello World\n",
            "Hello World\n",
            "Hello World\n",
            "2\n",
            "4\n",
            "23\n",
            "218\n"
          ]
        }
      ],
      "source": [
        "# 1행: 괄호의 짝이 맞지 않으므로 오류\n",
        "print(\"Hello World\")\n",
        "\n",
        "# 2행: 따옴표의 짝이 맞지 않으므로 오류\n",
        "print(\"Hello World\")\n",
        "\n",
        "# 3행: 따옴표의 짝이 맞지 않으므로 오류\n",
        "print(\"Hello World\")\n",
        "\n",
        "# 4행 (오류 없음)\n",
        "print(+2)       # 양수 2\n",
        "\n",
        "# 5행 (오류 없음)\n",
        "print(2 + +2)   # 양수 2\n",
        "\n",
        "# 6행: 정수형은 0으로 시작할 수 없다.\n",
        "print(23)\n",
        "\n",
        "# 7행: 정수형은 띄어쓰기를 할 수 없다.\n",
        "print(218)"
      ]
    },
    {
      "cell_type": "markdown",
      "metadata": {
        "id": "tJVzvnAb3sX-"
      },
      "source": [
        "**문제 2** \n",
        "\n",
        "변수 선언과 할당 관련 주의해야할 점들을 다룬다.\n",
        "아래 명령문들을 실행하였을 때 무슨 일이 발생하는지를 확인하라.\n",
        "\n",
        "```python\n",
        "23 = n\n",
        "x = y = 1\n",
        "x = 2;\n",
        "y = x + 1.\n",
        "z = x y\n",
        "```"
      ]
    },
    {
      "cell_type": "code",
      "execution_count": null,
      "metadata": {
        "id": "pm_-synz3sYA"
      },
      "outputs": [],
      "source": [
        "# 1행: 잘못된 대입 연산자 사용\n",
        "n = 23\n",
        "\n",
        "# 2행 (오류 없음)\n",
        "x = y = 1       # 1이 y에 대입된 다음, y가 x에 대입된다.\n",
        "\n",
        "# 3행 (오류 없음)\n",
        "x = 2;          # 같은 줄에 다른 코드를 이어쓰지 않는 한, 파이썬에서 세미콜론을 사용할 필요는 없다.\n",
        "\n",
        "# 4행 (오류 없음)\n",
        "y = x + 1.      # 1.은 부동소수점 1.0과 같다.\n",
        "\n",
        "# 5행: 띄어쓰기 불가능"
      ]
    },
    {
      "cell_type": "markdown",
      "metadata": {
        "id": "6jxFns8v0EeE"
      },
      "source": [
        "**문제 3**\n",
        "\n",
        "연산자를 이용해 수식으로 표현해보고 그 결과를 확인하여라.\n",
        "\n",
        "* 정수 25와 정수 12를 더하시오.\n",
        "* 정수 13에서 정수 19를 빼시오.\n",
        "* 정수 92과 부동소수점 8.0 을 곱하시오.\n",
        "* 부동소수점 81.5을 부동소수점 2.0으로 나누시오.\n",
        "* 정수 7를 5로 나눴을 때, 몫을 구하시오.\n",
        "* 정수 100을 정수 7로 나눈 나머지를 구하시오.\n",
        "* 정수 3의 세제곱을 구하시오."
      ]
    },
    {
      "cell_type": "code",
      "execution_count": null,
      "metadata": {
        "id": "WVDJG6ZC3sYC",
        "colab": {
          "base_uri": "https://localhost:8080/"
        },
        "outputId": "03ef49c2-9f5a-4f6d-8a84-a43371fffd72"
      },
      "outputs": [
        {
          "output_type": "stream",
          "name": "stdout",
          "text": [
            "37\n",
            "-6\n",
            "736.0\n",
            "40.75\n",
            "1\n",
            "2\n",
            "27\n"
          ]
        }
      ],
      "source": [
        "print(25 + 12)\n",
        "print(13 - 19)\n",
        "print(92 * 8.0)\n",
        "print(81.5 / 2.0)\n",
        "print(7 // 5)\n",
        "print(100 % 7)\n",
        "print(3 ** 3)"
      ]
    },
    {
      "cell_type": "markdown",
      "metadata": {
        "id": "xygzJ5410LMv"
      },
      "source": [
        "**문제 4**\n",
        "\n",
        "다음 각각의 자료형을 말하고, 코드를 작성하여 결과를 확인하여라.\n",
        "\n",
        "* `3`\n",
        "* `3.0`\n",
        "* `'3'`\n",
        "* `'3.0'`\n",
        "* `\"3\"`\n",
        "* `\"3.0\"`"
      ]
    },
    {
      "cell_type": "markdown",
      "source": [
        "|값|자료형|\n",
        "|-|-|\n",
        "|3|int|\n",
        "|3.0|int|\n",
        "|'3'|int|\n",
        "|'3.0'|int|\n",
        "|\"3\"|int|\n",
        "|\"3.0\"|int|"
      ],
      "metadata": {
        "id": "HIllTz6z4rR1"
      }
    },
    {
      "cell_type": "code",
      "execution_count": null,
      "metadata": {
        "id": "Zb9qvdi73sYK",
        "colab": {
          "base_uri": "https://localhost:8080/"
        },
        "outputId": "0ba40ee2-510b-4000-e609-da902737496a"
      },
      "outputs": [
        {
          "output_type": "stream",
          "name": "stdout",
          "text": [
            "<class 'int'> <class 'float'> <class 'str'> <class 'str'> <class 'str'> <class 'str'>\n"
          ]
        }
      ],
      "source": [
        "print(type(3),\n",
        "      type(3.0),\n",
        "      type('3'),\n",
        "      type('3.0'),\n",
        "      type(\"3\"),\n",
        "      type(\"3.0\"))"
      ]
    },
    {
      "cell_type": "markdown",
      "metadata": {
        "id": "0zhLdfNV3sYM"
      },
      "source": [
        "**문제 5** \n",
        "\n",
        "아래와 같이 변수들이 선언 및 할당되었다고 가정하자.\n",
        "\n",
        "```python\n",
        "width = 17\n",
        "height = 12.0\n",
        "delimiter = '.'\n",
        "```\n",
        "\n",
        "다음에 오는 각각의 표현식들에 대해, 표현식의 값과 (표현식의 값이 갖는) 자료형을 확인하라.\n",
        "\n",
        "```python\n",
        "width//2\n",
        "width/2\n",
        "width/2.0\n",
        "height/3\n",
        "1+2*5\n",
        "delimiter*5\n",
        "```"
      ]
    },
    {
      "cell_type": "code",
      "execution_count": null,
      "metadata": {
        "id": "zbAofB6k3sYN",
        "colab": {
          "base_uri": "https://localhost:8080/"
        },
        "outputId": "9c450aaa-a152-4fbf-d749-f2437d223f97"
      },
      "outputs": [
        {
          "output_type": "stream",
          "name": "stdout",
          "text": [
            "8 <class 'int'>\n",
            "8.5 <class 'float'>\n",
            "8.5 <class 'float'>\n",
            "4.0 <class 'float'>\n",
            "10 <class 'int'>\n",
            "..... <class 'str'>\n"
          ]
        }
      ],
      "source": [
        "width = 17\n",
        "height = 12.0\n",
        "delimiter = '.'\n",
        "\n",
        "print(width // 2,       type(width // 2))\n",
        "print(width / 2,        type(width / 2))\n",
        "print(width / 2.0,      type(width / 2.0))\n",
        "print(height/ 3,        type(height / 3))\n",
        "print(1 * 2 * 5,        type(1 * 2 * 5))\n",
        "print(delimiter * 5,    type(delimiter * 5))"
      ]
    },
    {
      "cell_type": "markdown",
      "metadata": {
        "id": "BR35apnL0Tf9"
      },
      "source": [
        "**문제 6**\n",
        "\n",
        "1$\\text{m}^2$는 0.3025평이다. \n",
        "84$\\text{m}^2$는 몇 평인가? \n",
        "반대로 30평은 몇 $\\text{m}^2$인가?"
      ]
    },
    {
      "cell_type": "code",
      "execution_count": null,
      "metadata": {
        "id": "HiP5vuXn3sYP",
        "colab": {
          "base_uri": "https://localhost:8080/"
        },
        "outputId": "904aa7fe-91a9-40bf-87bd-9baa5cd92fa5"
      },
      "outputs": [
        {
          "output_type": "stream",
          "name": "stdout",
          "text": [
            "84 m2는 25.41평이다.\n",
            "30평은 99.17355371900827m2 이다.\n"
          ]
        }
      ],
      "source": [
        "const = 0.3025\n",
        "print(f\"84 m2는 {84 * 0.3025}평이다.\")\n",
        "print(f\"30평은 {30 / 0.3025}m2 이다.\")"
      ]
    },
    {
      "cell_type": "markdown",
      "metadata": {
        "id": "ZH4Xviwf0O_s"
      },
      "source": [
        "**문제 7**\n",
        "\n",
        "우유 가격은 820원이고, 아이스크림 가격은 1500원이다.\n",
        "아이스크림은 3개이상 구입시 5%를 할인해준다.\n",
        "우유 2개와 아이스크림 3개를 구입할 때 지불해야 하는 가격을 변수를 활용하여 코드로 작성하여라."
      ]
    },
    {
      "cell_type": "code",
      "execution_count": null,
      "metadata": {
        "id": "Qzuo5mzc3sYa",
        "colab": {
          "base_uri": "https://localhost:8080/"
        },
        "outputId": "d4ae4d14-deb0-4cf5-e103-1234fcf074d4"
      },
      "outputs": [
        {
          "output_type": "stream",
          "name": "stdout",
          "text": [
            "5915.0\n"
          ]
        }
      ],
      "source": [
        "milk_price = 820\n",
        "ice_price = 1500\n",
        "milk_count = 2\n",
        "ice_count = 3\n",
        "\n",
        "result = milk_price * milk_count + (ice_price * ice_count * 0.95)\n",
        "print(result)"
      ]
    },
    {
      "cell_type": "markdown",
      "metadata": {
        "id": "DxP4L1g30ZpC"
      },
      "source": [
        "**문제 8**\n",
        "\n",
        "100만원을 월이율 3%인 예금에 1년간 복리로 은행에 맡겼다.\n",
        "1년후에 받는 돈은 얼마인지를 확인하는 코드를 작성하여라.\n",
        "단, 다음 형식으로 출력하라.\n",
        "\n",
        "> 1년 후 받는 원금 + 이자는 OOO원입니다."
      ]
    },
    {
      "cell_type": "code",
      "execution_count": null,
      "metadata": {
        "id": "Bh33c6Lr3sYe",
        "colab": {
          "base_uri": "https://localhost:8080/"
        },
        "outputId": "4bc3176b-8f81-4a9d-b224-c516f2b78804"
      },
      "outputs": [
        {
          "output_type": "stream",
          "name": "stdout",
          "text": [
            "1년 후 받는 원금 + 이자는 1425760.8868461794원입니다.\n"
          ]
        }
      ],
      "source": [
        "principal = 1_000_000\n",
        "interest = 0.03\n",
        "result = principal * ((1 + interest) ** 12)\n",
        "print(f\"1년 후 받는 원금 + 이자는 {result}원입니다.\")"
      ]
    },
    {
      "cell_type": "markdown",
      "metadata": {
        "id": "v1Z9csmB0dNW"
      },
      "source": [
        "**문제 9**\n",
        "\n",
        "문자열 연산을 이용하여 다음의 실행결과가 나오도록 코드를 \n",
        "다양한 방식으로 작성하여라\n",
        "\n",
        "1. 변수할당과 문자열 `*` 연산자를 활용한다.\n",
        "\n",
        "    ```\n",
        "    안녕하세요. 안녕하세요. 안녕하세요.\n",
        "    ```\n",
        "\n",
        "1. 줄바꾸기 문자, 문자열 `+`, `*` 연산자를 활용한다.\n",
        "\n",
        "    ```\n",
        "    안녕하세요.\n",
        "    안녕하세요.\n",
        "    안녕하세요.\n",
        "    안녕하세요.\n",
        "    안녕하세요.\n",
        "    ```"
      ]
    },
    {
      "cell_type": "code",
      "execution_count": null,
      "metadata": {
        "id": "RPnMq-0s3sYg",
        "colab": {
          "base_uri": "https://localhost:8080/"
        },
        "outputId": "9ad53d09-2ed6-4e1e-c74c-6d5e64981e65"
      },
      "outputs": [
        {
          "output_type": "stream",
          "name": "stdout",
          "text": [
            "안녕하세요. 안녕하세요. 안녕하세요. \n",
            "안녕하세요. \n",
            "안녕하세요. \n",
            "안녕하세요. \n",
            "안녕하세요. \n",
            "안녕하세요. \n",
            "\n"
          ]
        }
      ],
      "source": [
        "hello = \"안녕하세요. \"\n",
        "\n",
        "print(hello *  3)\n",
        "print((hello + \"\\n\") * 5)"
      ]
    },
    {
      "cell_type": "markdown",
      "metadata": {
        "id": "PRQLSWmi0sAF"
      },
      "source": [
        "**문제 10**\n",
        "\n",
        "`dogs`와 `cats` 두 개의 변수가 다음과 같이 선언되었다.\n",
        "\n",
        "```python\n",
        "dogs, cats = '12', '7'\n",
        "```\n",
        "\n",
        "1. `dogs`와 `cats` 변수에 할당된 값의 자료형을 확인하여라.  \n",
        "1. 강아지가 고양이보다 몇 마리 더 많은지 확인하는 코드를 작성하여라. \n",
        "    출력된 결과는 아래와 같은 형식이어야 한다.\n",
        "\n",
        "    > 강아지가 고양이보다 n 마리 더 많다.\n",
        "\n",
        "힌트: `int()` 함수 또는 `float()` 함수를 이용할 수 있다."
      ]
    },
    {
      "cell_type": "code",
      "execution_count": null,
      "metadata": {
        "id": "pbeu2Ljd3sYh",
        "colab": {
          "base_uri": "https://localhost:8080/"
        },
        "outputId": "1e5b91e4-86c7-4dc8-dbf5-c35ab2baac0b"
      },
      "outputs": [
        {
          "output_type": "stream",
          "name": "stdout",
          "text": [
            "<class 'str'> <class 'str'>\n",
            "강아지가 고양이보다 5마리 더 많다.\n"
          ]
        }
      ],
      "source": [
        "dogs, cats = \"12\", \"7\"\n",
        "print(type(dogs), type(cats))\n",
        "sub = int(dogs) - int(cats)\n",
        "print(f\"강아지가 고양이보다 {sub}마리 더 많다.\")"
      ]
    },
    {
      "cell_type": "markdown",
      "metadata": {
        "id": "oMsxIe_500xd"
      },
      "source": [
        "**문제 11**\n",
        "\n",
        "1. 변수할당과 연산기호를 이용해 아래 내용을 논리식으로 표현하라.\n",
        "\n",
        "    - `p1`: `3`과 `4`가 다른지 여부 판단<br>\n",
        "    - `p2`: `\"hello\"`와 `\"hi\"`가 같은지 여부 판단<br>\n",
        "    - `p3`: `2`가 `8`보다 작거나 같은지 여부 판단<br>\n",
        "    - `p4`: `12`가 `20`보다 큰지 여부 판단<br><br>\n",
        "\n",
        "1. 아래의 결과가 `True`인지 `False`인지 판단하는 논리식을 작성하라.\n",
        "\n",
        "    - (1) `and` (3)\n",
        "    - (2) `and not` (4)\n",
        "    - (3) `or` (4) "
      ]
    },
    {
      "cell_type": "code",
      "execution_count": null,
      "metadata": {
        "id": "eZU9ZFDA3sYj",
        "colab": {
          "base_uri": "https://localhost:8080/"
        },
        "outputId": "063b38a4-a14a-4edf-febc-508950a8bfd6"
      },
      "outputs": [
        {
          "output_type": "stream",
          "name": "stdout",
          "text": [
            "True\n",
            "False\n",
            "True\n"
          ]
        }
      ],
      "source": [
        "p1 = 3 != 4\n",
        "p2 = \"hello\" == \"hi\"\n",
        "p3 = 2 <= 8\n",
        "p4 = 12 > 20\n",
        "print(p1 and p3)\n",
        "print(p2 and not p4)\n",
        "print(p3 or p4)"
      ]
    },
    {
      "cell_type": "markdown",
      "metadata": {
        "id": "jLCnfgsk06WQ"
      },
      "source": [
        "**문제 12**\n",
        "\n",
        "15, 28이 각각 짝수인지 홀수인지를 판별하는 코드를 작성하여라.\n",
        "출력된 결과는 아래와 같은 형식이다.\n",
        "\n",
        "> 15는 짝수인가요? False  \n",
        "> 28은 짝수인가요? True"
      ]
    },
    {
      "cell_type": "code",
      "source": [
        "def is_even(n):\n",
        "    if n % 2 != 0:\n",
        "        return False\n",
        "    return True\n",
        "\n",
        "print(\"15는 짝수인가요?\", is_even(15))\n",
        "print(\"28는 짝수인가요?\", is_even(28))"
      ],
      "metadata": {
        "colab": {
          "base_uri": "https://localhost:8080/"
        },
        "id": "CPIgTPLt-2_u",
        "outputId": "6cfe774b-e8ff-4734-8cfe-4a2b14d535cc"
      },
      "execution_count": null,
      "outputs": [
        {
          "output_type": "stream",
          "name": "stdout",
          "text": [
            "15는 짝수인가요? False\n",
            "28는 짝수인가요? True\n"
          ]
        }
      ]
    },
    {
      "cell_type": "markdown",
      "metadata": {
        "id": "SjFpmZ5r0_zh"
      },
      "source": [
        "**문제 13**\n",
        "\n",
        "아래의 표는 어느 마트의 단위당 판매 가격이다.\n",
        "\n",
        " |제목|단위|가격|\n",
        " |:----:|:----:|----|\n",
        " |사과|1개|5,400원|\n",
        " |돼지고기|100g|2,480원|\n",
        " |달걀|10개|7,980원|\n",
        " |우유|1개|2,560원|\n",
        " |오이|1개|2,250원|\n",
        "\n",
        " A는 이 마트에서 사과 3개와 돼지고기 600g, 달걀 5개를 구매하려고 한다. \n",
        " A는 총 비용을 구하는 프로그램을 작성하기 위해 아래와 같이 변수를 선언하였다.\n",
        " \n",
        "```python\n",
        "apple = '3'\n",
        "pork = '600'\n",
        "egg = '5'\n",
        "```\n",
        "\n",
        "위 변수들을 활용하여 \n",
        "아래와 같은 형식으로 총 비용을 출력하는 프로그램을 작성하라.\n",
        "\n",
        "> 사과 3개, 돼지고기 600g, 달걀 5개를 구매하는 총 비용은 OOO 원이다. "
      ]
    },
    {
      "cell_type": "code",
      "execution_count": null,
      "metadata": {
        "id": "4QvZaOU13sYl",
        "colab": {
          "base_uri": "https://localhost:8080/"
        },
        "outputId": "5e23a1d4-e0ae-407d-c81d-9d83d6c42043"
      },
      "outputs": [
        {
          "output_type": "stream",
          "name": "stdout",
          "text": [
            "사과 3개, 돼지고기 600g, 달걀 5개를 구매하는 총 비용은 35070.0 원이다.\n"
          ]
        }
      ],
      "source": [
        "apple = '3'\n",
        "pork = '600'\n",
        "egg = '5'\n",
        "\n",
        "apple_price = 5400\n",
        "pork_price = 2480 / 100\n",
        "egg_price = 7980 / 10\n",
        "\n",
        "result = int(apple) * apple_price + int(pork) * pork_price + int(egg) * egg_price\n",
        "print(f\"사과 {apple}개, 돼지고기 {pork}g, 달걀 {egg}개를 구매하는 총 비용은 {result} 원이다.\")"
      ]
    },
    {
      "cell_type": "markdown",
      "metadata": {
        "id": "fNq4WUh13sYm"
      },
      "source": [
        "**문제 14**\n",
        "\n",
        "반지름이 r인 구의 부피는 $\\frac{4}{3} \\pi r^3$ 이다. 반지름이 5인 구의 부피는 얼마인가? "
      ]
    },
    {
      "cell_type": "code",
      "execution_count": null,
      "metadata": {
        "id": "tFtRKJ563sYm",
        "colab": {
          "base_uri": "https://localhost:8080/"
        },
        "outputId": "d63ca8f6-c138-4798-e16e-4da5fd12e62a"
      },
      "outputs": [
        {
          "output_type": "stream",
          "name": "stdout",
          "text": [
            "반지름이 5인 구의 부피는 523.5987755982989이다.\n"
          ]
        }
      ],
      "source": [
        "from math import pi\n",
        "\n",
        "r = 5\n",
        "result = 4 / 3 * pi * r ** 3\n",
        "print(f\"반지름이 {r}인 구의 부피는 {result}이다.\") "
      ]
    },
    {
      "cell_type": "markdown",
      "metadata": {
        "id": "UqU41YDp3sYm"
      },
      "source": [
        "**문제 15**\n",
        "\n",
        "책의 정가는 권당 24,950원이지만, 각 권당 10% 의 할인을 받는다고 가정하자.\n",
        "첫 한 권의 운송료는 2,000원 이고, 두 권째 부터는 권당 500원을 추가로 내야 한다.\n",
        "60권을 사서 배송을 받고자 하면 얼마를 지불해야 하는가?"
      ]
    },
    {
      "cell_type": "code",
      "execution_count": null,
      "metadata": {
        "id": "JihbNpBi3sYn",
        "colab": {
          "base_uri": "https://localhost:8080/"
        },
        "outputId": "316bff55-53c5-4935-a627-b9e506722340"
      },
      "outputs": [
        {
          "output_type": "stream",
          "name": "stdout",
          "text": [
            "1378800.0원 필요\n"
          ]
        }
      ],
      "source": [
        "cost = 24_950\n",
        "discount_price = cost * 0.9\n",
        "book_count = 60\n",
        "\n",
        "book_cost = book_count * discount_price\n",
        "delivery_cost = 2000 + 500 * 59\n",
        "entire_cost = book_cost + delivery_cost\n",
        "print(f\"{entire_cost}원 필요\")"
      ]
    },
    {
      "cell_type": "markdown",
      "metadata": {
        "id": "xYJYB9p83sYn"
      },
      "source": [
        "**문제 16**\n",
        "\n",
        "오전 6:52 에 집을 떠나서, 가볍게 (km당 8분 15초 소요) 1km를 뛰고, \n",
        "이어서 좀 빠르게 (km당 7분 12초 소요) 3km를 뛴 후, 다시 가볍게 1km를 마저 달린다면, \n",
        "아침 식사를 위해 집에 돌아오는 시간은 언제인가?"
      ]
    },
    {
      "cell_type": "code",
      "execution_count": null,
      "metadata": {
        "id": "-yulElYC3sYn",
        "colab": {
          "base_uri": "https://localhost:8080/"
        },
        "outputId": "bf26f1c7-73ae-4ef4-cbed-ae64c93664bc"
      },
      "outputs": [
        {
          "output_type": "stream",
          "name": "stdout",
          "text": [
            "38.1분 소요\n",
            "7시 30.1분\n"
          ]
        }
      ],
      "source": [
        "slowly = 8.25\n",
        "fast = 7.2\n",
        "result = slowly * 1 + fast * 3 + slowly * 1\n",
        "\n",
        "print(f\"{result}분 소요\")\n",
        "\n",
        "current = 6 * 60 + 52\n",
        "s = current + result\n",
        "print(f\"{int(s // 60)}시 {s % 60:0.1f}분\")"
      ]
    },
    {
      "cell_type": "markdown",
      "metadata": {
        "id": "RS7xhLHZ3sYn"
      },
      "source": [
        "**문제 17**\n",
        "\n",
        "만약 10 킬로미터를 43분 30초 만에 달렸다면, 마일당 소요 시간은 얼마인가? \n",
        "시간당 마일로 계산한 평균 속도는 얼마인가? \n",
        "단, 1마일은 1.61 킬로미터로 계산한다."
      ]
    },
    {
      "cell_type": "code",
      "execution_count": null,
      "metadata": {
        "id": "zutPJTSv3sYo",
        "colab": {
          "base_uri": "https://localhost:8080/"
        },
        "outputId": "d2acece9-22b7-44c0-a9a8-901bd0ac1118"
      },
      "outputs": [
        {
          "output_type": "stream",
          "name": "stdout",
          "text": [
            "마일 당 소요 시간은 7.003500000000001분\n",
            "한 시간에 8.567144998929106마일을 갈 수 있다.\n"
          ]
        }
      ],
      "source": [
        "const = 1.61\n",
        "mile = 10 / const\n",
        "requirement = 43.5 / mile\n",
        "print(f\"마일 당 소요 시간은 {requirement}분\")\n",
        "rate = 60 / requirement\n",
        "print(f\"한 시간에 {rate}마일을 갈 수 있다.\")"
      ]
    }
  ],
  "metadata": {
    "colab": {
      "collapsed_sections": [],
      "name": "2018225038함수종;파이썬데이터분석;1차과제",
      "provenance": [],
      "include_colab_link": true
    },
    "kernelspec": {
      "display_name": "Python 3 (ipykernel)",
      "language": "python",
      "name": "python3"
    },
    "language_info": {
      "codemirror_mode": {
        "name": "ipython",
        "version": 3
      },
      "file_extension": ".py",
      "mimetype": "text/x-python",
      "name": "python",
      "nbconvert_exporter": "python",
      "pygments_lexer": "ipython3",
      "version": "3.9.7"
    }
  },
  "nbformat": 4,
  "nbformat_minor": 0
}