{
  "cells": [
    {
      "cell_type": "markdown",
      "metadata": {
        "id": "view-in-github",
        "colab_type": "text"
      },
      "source": [
        "<a href=\"https://colab.research.google.com/github/woscc123/asn/blob/master/2016250012_%EA%B9%80%EC%A7%84%EC%83%81_%ED%8C%8C%EC%9D%B4%EC%8D%AC_5%EC%B0%A8_2.ipynb\" target=\"_parent\"><img src=\"https://colab.research.google.com/assets/colab-badge.svg\" alt=\"Open In Colab\"/></a>"
      ]
    },
    {
      "cell_type": "markdown",
      "id": "2d03d247-e2d3-4afe-ab5e-83dc989ed62d",
      "metadata": {
        "id": "2d03d247-e2d3-4afe-ab5e-83dc989ed62d"
      },
      "source": [
        "# (실습) 반복문"
      ]
    },
    {
      "cell_type": "markdown",
      "id": "9909a5d0",
      "metadata": {
        "id": "9909a5d0"
      },
      "source": [
        "**문제 1**"
      ]
    },
    {
      "cell_type": "markdown",
      "id": "df1ed4a2",
      "metadata": {
        "id": "df1ed4a2"
      },
      "source": [
        "양의 정수가 입력되면 1 부터 n 까지의 정수의 합을 구하는 `sum_n()` 함수를 구현하라."
      ]
    },
    {
      "cell_type": "code",
      "execution_count": null,
      "id": "adc83a94",
      "metadata": {
        "id": "adc83a94"
      },
      "outputs": [],
      "source": [
        "# pass 와 None 을 각각 적절한 명령문과 반환값으로 대체하라.\n",
        "\n",
        "def sum_n(n):\n",
        "  if type(n) is int and n > 0:   # 양의 정수를 확인합니다.\n",
        "    sum = 0                      # 합을 저장할 변수입니다.\n",
        "    for i in range(1, n+1):      # 1부터 n까지 반복하여\n",
        "      sum += i                   # sum에 더하면서 업데이트합니다.\n",
        "\n",
        "    return sum                # 더한 합을 반환합니다."
      ]
    },
    {
      "cell_type": "code",
      "source": [
        "assert sum_n(3) == 6           # 오류가 발생하지 않습니다.\n",
        "assert sum_n(5) == 15\n",
        "assert sum_n(10) == 55"
      ],
      "metadata": {
        "id": "PoqZRn_IKO36"
      },
      "id": "PoqZRn_IKO36",
      "execution_count": null,
      "outputs": []
    },
    {
      "cell_type": "code",
      "execution_count": null,
      "id": "07d8fadc",
      "metadata": {
        "id": "07d8fadc"
      },
      "outputs": [],
      "source": [
        "# 주석기호를 제거하고 실행할 때 오류가 발생하지 않아야 한다.\n",
        "\n",
        "# assert sum_n(3) == 6\n",
        "# assert sum_n(5) == 15\n",
        "# assert sum_n(10) == 55"
      ]
    },
    {
      "cell_type": "markdown",
      "id": "7e7c231a",
      "metadata": {
        "id": "7e7c231a"
      },
      "source": [
        "**문제 2**"
      ]
    },
    {
      "cell_type": "markdown",
      "id": "61c09282",
      "metadata": {
        "id": "61c09282"
      },
      "source": [
        "양의 정수가 입력되면 1 부터 n 까지의 정수의 제곱의 합을 구하는 `square_sum()` 함수를 구현하라."
      ]
    },
    {
      "cell_type": "code",
      "execution_count": null,
      "id": "97b66fb7",
      "metadata": {
        "id": "97b66fb7"
      },
      "outputs": [],
      "source": [
        "# pass 와 None 을 각각 적절한 명령문과 반환값으로 대체하라.\n",
        "\n",
        "def square_sum(n):\n",
        "    if type(n) is int and n > 0:   # 양의 정수를 확인합니다.\n",
        "      sum = 0                      # 합을 저장할 변수입니다.\n",
        "      for i in range(1, n+1):      # 1부터 n까지 반복하여\n",
        "        sum += i**2                # 제곱한 값을 sum에 더하면서 업데이트합니다.\n",
        "\n",
        "      return sum                # 각각의 제곱을 더한 합을 반환합니다.\n"
      ]
    },
    {
      "cell_type": "code",
      "source": [
        "assert square_sum(1) == 1         # 오류가 발생하지 않습니다.\n",
        "assert square_sum(3) == 14\n",
        "assert square_sum(5) == 55"
      ],
      "metadata": {
        "id": "_3s1my8IOMsG"
      },
      "id": "_3s1my8IOMsG",
      "execution_count": null,
      "outputs": []
    },
    {
      "cell_type": "code",
      "execution_count": null,
      "id": "f8d8994e",
      "metadata": {
        "id": "f8d8994e"
      },
      "outputs": [],
      "source": [
        "# 주석기호를 제거하고 실행할 때 오류가 발생하지 않아야 한다.\n",
        "\n",
        "# assert square_sum(1) == 1\n",
        "# assert square_sum(3) == 14\n",
        "# assert square_sum(5) == 55"
      ]
    },
    {
      "cell_type": "markdown",
      "id": "c8f0287d",
      "metadata": {
        "id": "c8f0287d"
      },
      "source": [
        "**문제 3**"
      ]
    },
    {
      "cell_type": "markdown",
      "id": "816111e8",
      "metadata": {
        "id": "816111e8"
      },
      "source": [
        "양의 정수가 입력되면 1 부터 n 까지의 정수의 제곱의 합을 \n",
        "음의 정수가 입력되면 n 부터 -n 까지의 정수의 제곱의 합을 구하는 `square_sum_abs()` 함수를 구현하라."
      ]
    },
    {
      "cell_type": "code",
      "execution_count": null,
      "id": "dfb05d2c",
      "metadata": {
        "id": "dfb05d2c"
      },
      "outputs": [],
      "source": [
        "# pass 와 None 을 각각 적절한 명령문과 반환값으로 대체하라.\n",
        "\n",
        "def square_sum_abs(n):\n",
        "    if type(n) is int and n > 0:        # 양의 정수가 입력된 경우. 2번의 경우와 같습니다.\n",
        "      sum = 0                      # 합을 저장할 변수입니다.\n",
        "      for i in range(1, n+1):      # 1부터 n까지 반복하여\n",
        "        sum += i**2                # 제곱한 값을 sum에 더하면서 업데이트합니다.\n",
        "\n",
        "      return sum                # 각각의 제곱을 더한 합을 반환합니다.\n",
        "\n",
        "    elif type(n) is int and n < 0:   # 음의 정수가 입력된 경우.\n",
        "      sum = 0                        # 합을 저장할 변수입니다.\n",
        "      for i in range(n, -n+1):       # 이번에는 range 범위를 n부터 -n까지 반복시킵니다.\n",
        "        sum += i**2                  # 각각을 제곱하여 sum에 더해주면서 계속 업데이트 시킵니다.\n",
        "    \n",
        "      return sum                   # 더해준 합을 저장한 sum을 반환합니다."
      ]
    },
    {
      "cell_type": "code",
      "source": [
        "assert square_sum_abs(-1) == 2       # 오류가 발생하지 않습니다.\n",
        "assert square_sum_abs(-3) == 28\n",
        "assert square_sum_abs(5) == 55\n",
        "assert square_sum_abs(-5) == 110"
      ],
      "metadata": {
        "id": "JWXZTxNuPR-I"
      },
      "id": "JWXZTxNuPR-I",
      "execution_count": null,
      "outputs": []
    },
    {
      "cell_type": "code",
      "execution_count": null,
      "id": "804a87b1",
      "metadata": {
        "id": "804a87b1"
      },
      "outputs": [],
      "source": [
        "# 주석기호를 제거하고 실행할 때 오류가 발생하지 않아야 한다.\n",
        "\n",
        "# assert square_sum_abs(-1) == 2\n",
        "# assert square_sum_abs(-3) == 28\n",
        "# assert square_sum_abs(5) == 55\n",
        "# assert square_sum_abs(-5) == 110"
      ]
    },
    {
      "cell_type": "markdown",
      "id": "9287aea1",
      "metadata": {
        "id": "9287aea1"
      },
      "source": [
        "**문제 4**"
      ]
    },
    {
      "cell_type": "markdown",
      "id": "4bbf0706",
      "metadata": {
        "id": "4bbf0706"
      },
      "source": [
        "얌체공을 높은 곳에서 놓아 자연낙하 시키면 바닥에 닿을 때마다 원래 높이의 2/3 만큼 튀어 오른다.\n",
        "하지만 바닥으로부터 1 cm 이하 높이가 되면 더 이상 튀어오르지 않는다.\n",
        "\n",
        "얌체공을 n cm 높이에서 자유낙하 시키면 더 이상 튀어오르지 않을 때까지 튀어오른 공의 높이를 모두 \n",
        "합한 결과를 반환하는 `bouncy()` 함수를 구현하라.\n",
        "단, 반환값은 소숫점 이하 셋째자리에서 반올림한다.\n",
        "\n",
        "힌트: [`round()` 함수](https://www.w3schools.com/python/ref_func_round.asp) 참고"
      ]
    },
    {
      "cell_type": "code",
      "execution_count": null,
      "id": "0a2d3a78",
      "metadata": {
        "id": "0a2d3a78"
      },
      "outputs": [],
      "source": [
        "# pass 와 None 을 각각 적절한 명령문과 반환값으로 대체하라.\n",
        "\n",
        "def bouncy(n):\n",
        "\n",
        "    sum = 0            # 튀어오른 높이를 저장할 변수\n",
        "\n",
        "    while n > 1:         # 바닥으로 부터 높이가 1cm이상이면 계속 반복한다.\n",
        "      n *= 2/3           # 튀어오르는 높이가 원래의 2/3만큼만 된다.\n",
        "      sum += n           # 튀어오른 높이를 더해준다.\n",
        "\n",
        "    return round(sum, 2)      # 소수점 이하 셋째자리에서 반올림한다."
      ]
    },
    {
      "cell_type": "code",
      "source": [
        "assert bouncy(1) == 0           # 오류가 발생하지 않는다.\n",
        "assert bouncy(2) == 2.22\n",
        "assert bouncy(10) == 18.24"
      ],
      "metadata": {
        "id": "tgKK_ij8VFQk"
      },
      "id": "tgKK_ij8VFQk",
      "execution_count": null,
      "outputs": []
    },
    {
      "cell_type": "code",
      "execution_count": null,
      "id": "10434f20",
      "metadata": {
        "id": "10434f20"
      },
      "outputs": [],
      "source": [
        "# 주석기호를 제거하고 실행할 때 오류가 발생하지 않아야 한다.\n",
        "\n",
        "# assert bouncy(1) == 0\n",
        "# assert bouncy(2) == 2.22\n",
        "# assert bouncy(10) == 18.24"
      ]
    },
    {
      "cell_type": "markdown",
      "id": "f4e7fd14",
      "metadata": {
        "id": "f4e7fd14"
      },
      "source": [
        "**문제 5**"
      ]
    },
    {
      "cell_type": "markdown",
      "id": "a75a4330",
      "metadata": {
        "id": "a75a4330"
      },
      "source": [
        "[반복문](https://codingalzi.github.io/pybook/iterations.html)에서 소개한 \n",
        "`collatz()` 함수는 다음과 같다.\n",
        "\n",
        "```python\n",
        "def collatz(n):\n",
        "    while n != 1:\n",
        "        print(n, end=\" -> \")\n",
        "        if n%2 == 0:\n",
        "            n = n//2\n",
        "        else:\n",
        "            n = n*3 + 1\n",
        "            \n",
        "    print(1)\n",
        "```\n",
        "\n",
        "`while` 반복문이 실행된 횟수를 반환하도록 위 함수를 수정하라.\n",
        "단, 100번 이상 반복하면 실행을 멈추고 -1을 반환하도록 한다."
      ]
    },
    {
      "cell_type": "code",
      "execution_count": null,
      "id": "966ba37e",
      "metadata": {
        "id": "966ba37e"
      },
      "outputs": [],
      "source": [
        "# pass 와 None 을 각각 적절한 명령문과 반환값으로 대체하라.\n",
        "\n",
        "def collatz(n):\n",
        "\n",
        "    count = 0                        # while이 실행된 횟수를 저장할 변수이다.\n",
        "\n",
        "    while n != 1:                   # 기본적으로 while 반복문의 작동은 똑같다.\n",
        "        count += 1                  # while이 돌때마다 count변수를 1증가시켜주는 다음의 코드를 추가 해주기만 한다.\n",
        "\n",
        "        if count >= 100:             # 100회 이상이 반복되면\n",
        "          return -1                 # -1 반환\n",
        "                        \n",
        "        #print(n, end=\" -> \")       #  반복문 횟수 반환에 목적이 있는 함수를 구현하고 있으므로 print()함수들은 일단 주석 처리를 해준다. \n",
        "        if n%2 == 0:\n",
        "            n = n//2\n",
        "        else:\n",
        "            n = n*3 + 1\n",
        "\n",
        "    #print(1)\n",
        "     \n",
        "\n",
        "    return count                        # while 반복문의 횟수를 저장한 변수를 반환한다."
      ]
    },
    {
      "cell_type": "code",
      "source": [
        "assert collatz(17) == 12            # 오류가 발생하지 않는다.\n",
        "assert collatz(117) == 20\n",
        "assert collatz(1117) == 44\n",
        "assert collatz(11117) == -1"
      ],
      "metadata": {
        "id": "j3uFc82GVrkJ"
      },
      "id": "j3uFc82GVrkJ",
      "execution_count": null,
      "outputs": []
    },
    {
      "cell_type": "code",
      "execution_count": null,
      "id": "0761ee90",
      "metadata": {
        "id": "0761ee90"
      },
      "outputs": [],
      "source": [
        "# 주석기호를 제거하고 실행할 때 오류가 발생하지 않아야 한다.\n",
        "\n",
        "# assert collatz(17) == 12\n",
        "# assert collatz(117) == 20\n",
        "# assert collatz(1117) == 44\n",
        "# assert collatz(11117) == -1"
      ]
    },
    {
      "cell_type": "markdown",
      "id": "4c18eb28",
      "metadata": {
        "id": "4c18eb28"
      },
      "source": [
        "**문제 6**"
      ]
    },
    {
      "cell_type": "markdown",
      "id": "06ea6e08",
      "metadata": {
        "id": "06ea6e08"
      },
      "source": [
        "철로 양끝에 서로 마주보고 있는 두 대의 기차 A 와 B 가 있고,\n",
        "기차 A 의 기관차 앞에는 파리 한 마리가 붙어 있다.\n",
        "두 기차 사이의 거리는 d 미터이다.\n",
        "\n",
        "두 기차 A 와 B 가 서로를 향해 달릴 때, \n",
        "파리는 기차 A 에서 기차 B 까지 날아가다가 기차 B 와 부딪히기 직전\n",
        "방향을 바꿔 기차 A 에게 날아가고 다시 기차 A 와 부딪히기 직전 \n",
        "기차 B를 향해 날아가기를 기차 A 와 B 가 부딪힐 때까지 반복한다.\n",
        "기차 A 의 속력은 a m/s, 기차 B의 속력은 b m/s, 파리의 속력은 c m/s 이다.\n",
        "단, c 가 a, b 보다 커서 파리가 기차보다 빨리 달리며,\n",
        "두 기차 사이의 거리 d 가 c 보다 크다.\n",
        "즉, 다음이 성립한다. \n",
        "\n",
        "```\n",
        "a, b < c < d\n",
        "```\n",
        "\n",
        "네 개의 자연수 a, b, c, d 가 주어졌을 때, 두 기차가 충돌하기 직전까지 파리가 날아다닌 거리(m)를 \n",
        "계산하여 반환하는 `fly()`  함수를 구현하라.\n",
        "단, `while` 반복문을 사용해야 한다."
      ]
    },
    {
      "cell_type": "code",
      "execution_count": null,
      "id": "72af3c7e",
      "metadata": {
        "id": "72af3c7e"
      },
      "outputs": [],
      "source": [
        "# pass 와 None 을 각각 적절한 명령문과 반환값으로 대체하라.\n",
        "def fly(a, b, c, d):\n",
        "    assert a < c < d\n",
        "    assert b < c\n",
        "\n",
        "    distance = 0         # 파리가 달린 거리를 저장할 변수\n",
        "    \n",
        "    turn = 0               # 파리가 이동하는 방향을 나타냄. 0이면  A기차에서 B기차로, 1이면 B기차에서 A기차로 파리가 이동한다.\n",
        "\n",
        "    while d > 0 :              # 두 기차가 부딪히기 직전까지 반복한다.\n",
        "      if turn == 0 :          # A기차에서 B기차로 이동할 때 \n",
        "        t = d / (b+c)         # 파리가 B기차를 만나기 직전 시간\n",
        "        turn = 1              # 파리 방향을 바꾸어 준다.\n",
        "        distance += c * t     # 그 동안 달린 파리의 거리를 더해준다.\n",
        "        d -= (a+b) * t        # 그 시간 동안 A기차와 B기차가 달려서 줄어든 거리를 반영한다.\n",
        "      else:                   # B기차에서 A기차로 이동할 때 \n",
        "        t = d / (a+c)          # 이번에는 A기차와 만나기 직전 시간이다.\n",
        "        turn = 1              # 다시 파리의 방향을 바꾸어준다.\n",
        "        distance += c * t     # 밑 부분은 똑같다.\n",
        "        d -= (a+b) * t\n",
        "\n",
        "    return round(distance)        # 파리가 이동한 거리를 반환한다. 부동소수점이 나오므로 round로 정수형으로 바꿔준다.    "
      ]
    },
    {
      "cell_type": "markdown",
      "source": [
        "바로 밑에 코드들은 반환할 때 round()함수를 사용하지 않고, 부동소수점을 반환하도록 한 함수를 이용해 동작시킨 부분이다. 부동소수점 연산을 하여 정확하지 않은 값이 나와서 결국 assert 문에서 오류가 발생함을 보여준다. "
      ],
      "metadata": {
        "id": "IdEufbh4kPZz"
      },
      "id": "IdEufbh4kPZz"
    },
    {
      "cell_type": "code",
      "source": [
        "fly(3, 5, 8, 16)"
      ],
      "metadata": {
        "colab": {
          "base_uri": "https://localhost:8080/"
        },
        "id": "sQyr0PIIhvbp",
        "outputId": "a73809f3-c63d-46a0-888c-8e6ac63921f7"
      },
      "id": "sQyr0PIIhvbp",
      "execution_count": null,
      "outputs": [
        {
          "output_type": "execute_result",
          "data": {
            "text/plain": [
              "16.000000000000004"
            ]
          },
          "metadata": {},
          "execution_count": 23
        }
      ]
    },
    {
      "cell_type": "code",
      "source": [
        "fly( 5, 8, 11, 39) "
      ],
      "metadata": {
        "colab": {
          "base_uri": "https://localhost:8080/"
        },
        "id": "lJOF6u5JjQaF",
        "outputId": "c951c2f6-5d1a-4aaf-d1ad-ee288fedeea6"
      },
      "id": "lJOF6u5JjQaF",
      "execution_count": null,
      "outputs": [
        {
          "output_type": "execute_result",
          "data": {
            "text/plain": [
              "32.99999999999999"
            ]
          },
          "metadata": {},
          "execution_count": 25
        }
      ]
    },
    {
      "cell_type": "code",
      "source": [
        "assert fly(3, 5, 8, 16) == 16\n",
        "assert fly( 5, 8, 11, 39) == 33"
      ],
      "metadata": {
        "colab": {
          "base_uri": "https://localhost:8080/",
          "height": 190
        },
        "id": "lblYxRpsbbqD",
        "outputId": "159f5f54-80f2-45bf-b009-d13543866749"
      },
      "id": "lblYxRpsbbqD",
      "execution_count": null,
      "outputs": [
        {
          "output_type": "error",
          "ename": "AssertionError",
          "evalue": "ignored",
          "traceback": [
            "\u001b[0;31m---------------------------------------------------------------------------\u001b[0m",
            "\u001b[0;31mAssertionError\u001b[0m                            Traceback (most recent call last)",
            "\u001b[0;32m<ipython-input-26-1aececc9fa2f>\u001b[0m in \u001b[0;36m<module>\u001b[0;34m()\u001b[0m\n\u001b[0;32m----> 1\u001b[0;31m \u001b[0;32massert\u001b[0m \u001b[0mfly\u001b[0m\u001b[0;34m(\u001b[0m\u001b[0;36m3\u001b[0m\u001b[0;34m,\u001b[0m \u001b[0;36m5\u001b[0m\u001b[0;34m,\u001b[0m \u001b[0;36m8\u001b[0m\u001b[0;34m,\u001b[0m \u001b[0;36m16\u001b[0m\u001b[0;34m)\u001b[0m \u001b[0;34m==\u001b[0m \u001b[0;36m16\u001b[0m\u001b[0;34m\u001b[0m\u001b[0;34m\u001b[0m\u001b[0m\n\u001b[0m\u001b[1;32m      2\u001b[0m \u001b[0;32massert\u001b[0m \u001b[0mfly\u001b[0m\u001b[0;34m(\u001b[0m \u001b[0;36m5\u001b[0m\u001b[0;34m,\u001b[0m \u001b[0;36m8\u001b[0m\u001b[0;34m,\u001b[0m \u001b[0;36m11\u001b[0m\u001b[0;34m,\u001b[0m \u001b[0;36m39\u001b[0m\u001b[0;34m)\u001b[0m \u001b[0;34m==\u001b[0m \u001b[0;36m33\u001b[0m\u001b[0;34m\u001b[0m\u001b[0;34m\u001b[0m\u001b[0m\n",
            "\u001b[0;31mAssertionError\u001b[0m: "
          ]
        }
      ]
    },
    {
      "cell_type": "markdown",
      "source": [
        "최종 수정한 round()함수를 이용하여 반환한 결과들을 보여준다. 잘 작동한다."
      ],
      "metadata": {
        "id": "V8g3WCvZkiQJ"
      },
      "id": "V8g3WCvZkiQJ"
    },
    {
      "cell_type": "code",
      "source": [
        "fly(3, 5, 8, 16)"
      ],
      "metadata": {
        "colab": {
          "base_uri": "https://localhost:8080/"
        },
        "id": "xDzkmTg3kh4S",
        "outputId": "d728fa8b-0ddd-4974-9b37-0000374f63e7"
      },
      "id": "xDzkmTg3kh4S",
      "execution_count": null,
      "outputs": [
        {
          "output_type": "execute_result",
          "data": {
            "text/plain": [
              "16"
            ]
          },
          "metadata": {},
          "execution_count": 28
        }
      ]
    },
    {
      "cell_type": "code",
      "source": [
        "fly( 5, 8, 11, 39) "
      ],
      "metadata": {
        "colab": {
          "base_uri": "https://localhost:8080/"
        },
        "id": "hLUcU-Prko6u",
        "outputId": "6338d0f2-bef0-47af-898a-1115748120f1"
      },
      "id": "hLUcU-Prko6u",
      "execution_count": null,
      "outputs": [
        {
          "output_type": "execute_result",
          "data": {
            "text/plain": [
              "33"
            ]
          },
          "metadata": {},
          "execution_count": 29
        }
      ]
    },
    {
      "cell_type": "code",
      "source": [
        "assert fly(3, 5, 8, 16) == 16        # 오류가 발생하지 않는다.\n",
        "assert fly( 5, 8, 11, 39) == 33"
      ],
      "metadata": {
        "id": "-MRjDEubkqiH"
      },
      "id": "-MRjDEubkqiH",
      "execution_count": null,
      "outputs": []
    },
    {
      "cell_type": "code",
      "execution_count": null,
      "id": "e2c14755",
      "metadata": {
        "id": "e2c14755"
      },
      "outputs": [],
      "source": [
        "# 주석기호를 제거하고 실행할 때 오류가 발생하지 않아야 한다.\n",
        "\n",
        "# assert fly(3, 5, 8, 16) == 16\n",
        "# assert fly( 5, 8, 11, 39) == 33"
      ]
    },
    {
      "cell_type": "markdown",
      "id": "c7fa01d2",
      "metadata": {
        "id": "c7fa01d2"
      },
      "source": [
        "**문제 7**"
      ]
    },
    {
      "cell_type": "markdown",
      "id": "d0abbd52",
      "metadata": {
        "id": "d0abbd52"
      },
      "source": [
        "500원, 100원, 50원, 10원 짜리 동전으로 거스름돈을 지급할 때\n",
        "동전의 개수를 최소화하고자 한다.\n",
        "거슬러 줘야 하는 금액이 n 원일 때, 필요한 동전의 최소 개수를 반환하는\n",
        "`change()` 함수를 구현하라.\n",
        "단, n 은 10의 배수이며 5000보다 작은 정수고, 모든 동전은 무한히 많이 있다고 가정한다. \n",
        "\n",
        "힌트: [탐욕 알고리즘](https://code-lab1.tistory.com/11) 참고. `while` 반복문 활용."
      ]
    },
    {
      "cell_type": "code",
      "execution_count": null,
      "id": "d51bb9a3",
      "metadata": {
        "id": "d51bb9a3"
      },
      "outputs": [],
      "source": [
        "# pass 와 None 을 각각 적절한 명령문과 반환값으로 대체하라.\n",
        "def change(n):\n",
        "    assert (n%10 == 0 and n < 5000)            \n",
        "    \n",
        "    coin = 0   # 동전의 개수를 저장할 변수\n",
        "\n",
        "                        # 가장 큰 동전부터 차례로 거슬러 주면 가장 적은 개수의 동전으로 거슬러 줄 수 있다. \n",
        "\n",
        "    while n >= 500 :    # 먼저 500원짜리로 거슬러 준다.\n",
        "      coin += 1          # 동전을 1개 증가시킨다.\n",
        "      n -= 500          # 거슬러 줘야할 금액에서 500을 빼준다.\n",
        "    while n >= 100 :    # 남은 금액은 100원짜리로 거슬러 준다.\n",
        "      coin += 1         # 같은 방식이다.\n",
        "      n -= 100\n",
        "    while n >= 50 :      # 또 남은 금액은 50원짜리로 거슬러 준다.\n",
        "      coin += 1\n",
        "      n -= 50\n",
        "    while n >= 10 :       # 마지막으로 남은 금액은 10원짜리로 거슬러 준다.\n",
        "      coin += 1\n",
        "      n -= 10             # n은 10의 배수이므로 가진 동전으로 n금액을 모두 거슬러 줄수 있다.\n",
        "\n",
        "\n",
        "    return coin         # 동전 갯수를 반환한다."
      ]
    },
    {
      "cell_type": "code",
      "source": [
        "assert change(1730) == 8      # 오류가 발생하지 않는다."
      ],
      "metadata": {
        "id": "qaKScGJomjhL"
      },
      "id": "qaKScGJomjhL",
      "execution_count": null,
      "outputs": []
    },
    {
      "cell_type": "code",
      "execution_count": null,
      "id": "6ae649ba",
      "metadata": {
        "id": "6ae649ba"
      },
      "outputs": [],
      "source": [
        "# 아래 주석을 제거하고 실행할 때 오류가 발생하지 않아야 한다.\n",
        "\n",
        "# assert change(1730) == 8"
      ]
    },
    {
      "cell_type": "markdown",
      "id": "024460ab",
      "metadata": {
        "id": "024460ab"
      },
      "source": [
        "**문제 8**"
      ]
    },
    {
      "cell_type": "markdown",
      "id": "93f005ad",
      "metadata": {
        "id": "93f005ad"
      },
      "source": [
        "아래 `findChar()` 함수는 문자열(`word`)에 특정 문자(`char`)가 포함되어 있으면\n",
        "위치한 곳의 인덱스를, 그렇지 않으면 -1을 반환한다.\n",
        "코드에 사용된 `len()` 함수는 주어진 문자열의 길이, 즉 문자열에\n",
        "포함된 문자의 개수를 반환한다."
      ]
    },
    {
      "cell_type": "code",
      "execution_count": null,
      "id": "d587d3e6",
      "metadata": {
        "id": "d587d3e6"
      },
      "outputs": [],
      "source": [
        "def findChar(word, char):\n",
        "    idx = 0\n",
        "\n",
        "    while idx < len(word):\n",
        "        if word[idx] == char:\n",
        "            return idx\n",
        "    \n",
        "        idx = idx + 1\n",
        "    \n",
        "    return -1"
      ]
    },
    {
      "cell_type": "markdown",
      "id": "61d4cdf0",
      "metadata": {
        "id": "61d4cdf0"
      },
      "source": [
        "`findChar()` 함수를 `for` 반복문을 이용하여 구현하라."
      ]
    },
    {
      "cell_type": "code",
      "execution_count": null,
      "id": "b4f746f7",
      "metadata": {
        "id": "b4f746f7"
      },
      "outputs": [],
      "source": [
        "# pass 와 None 을 각각 적절한 명령문과 반환값으로 대체하라.\n",
        "\n",
        "def findChar_for(word, char):\n",
        "  idx = -1                  # index를 저장할 변수\n",
        "\n",
        "  for letter in word:    # 문자열을 한 문자씩 앞에서부터 반복한다.\n",
        "    idx += 1             # for문을 돌 때마다 인덱스를 1씩 증가 시킨다.\n",
        "    if letter == char:    # 그 문자가 주어진 문자와 일치하면\n",
        "        return idx         # 인덱스를 반환한다.\n",
        "\n",
        "  return -1            # 없을 경우 -1을 반환한다."
      ]
    },
    {
      "cell_type": "code",
      "source": [
        "assert findChar_for(\"python\", \"o\") == 4\n",
        "assert findChar_for(\"파이썬이 좋아요\", \"아\") == 6"
      ],
      "metadata": {
        "id": "Xc2agludoZHj"
      },
      "id": "Xc2agludoZHj",
      "execution_count": null,
      "outputs": []
    },
    {
      "cell_type": "code",
      "execution_count": null,
      "id": "4c2c4c76",
      "metadata": {
        "id": "4c2c4c76"
      },
      "outputs": [],
      "source": [
        "# 아래 주석을 제거하고 실행할 때 오류가 발생하지 않아야 한다.\n",
        "# assert findChar_for(\"python\", \"o\") == 4\n",
        "# assert findChar_for(\"파이썬이 좋아요\", \"아\") == 6"
      ]
    },
    {
      "cell_type": "markdown",
      "id": "9d60ccc4",
      "metadata": {
        "id": "9d60ccc4"
      },
      "source": [
        "**문제 9**"
      ]
    },
    {
      "cell_type": "markdown",
      "id": "29399e6a",
      "metadata": {
        "id": "29399e6a"
      },
      "source": [
        "아래 조건을 만족시키도록 `findChar()` 함수를 수정하여\n",
        "`findChar_pos()` 함수를 구현하라.\n",
        "\n",
        "* 정수를 입력받는 `position` 매개변수를 추가한다.\n",
        "* `position`을 통해 전달된 정수는 탐색을 시작할 위치를 나타낸다.\n",
        "    즉, 앞서 정의된 `findChar()` 함수는 `position`이 0인 특수한 경우가 되도록 한다."
      ]
    },
    {
      "cell_type": "code",
      "execution_count": null,
      "id": "01e7642b",
      "metadata": {
        "id": "01e7642b"
      },
      "outputs": [],
      "source": [
        "# pass 와 None 을 각각 적절한 명령문과 반환값으로 대체하라.\n",
        "\n",
        "def findChar_pos(word, char, pos):\n",
        "    idx = pos                    # idx를 pos로 처음에 초기화 하면 그 위치에서부터 탐색을 시작한다. 나머지는 똑같다.\n",
        "\n",
        "    while idx < len(word):\n",
        "        if word[idx] == char:\n",
        "            return idx\n",
        "    \n",
        "        idx = idx + 1\n",
        "    \n",
        "    return -1    "
      ]
    },
    {
      "cell_type": "code",
      "source": [
        "assert findChar_pos(\"hello world\", \"o\", 0) == 4   # 오류가 발생하지 않는다.\n",
        "assert findChar_pos(\"hello world\", \"o\", 5) == 7"
      ],
      "metadata": {
        "id": "RqsAHLSTposl"
      },
      "id": "RqsAHLSTposl",
      "execution_count": null,
      "outputs": []
    },
    {
      "cell_type": "code",
      "execution_count": null,
      "id": "bf77b148",
      "metadata": {
        "id": "bf77b148"
      },
      "outputs": [],
      "source": [
        "# 아래 주석을 제거하고 실행할 때 오류가 발생하지 않아야 한다.\n",
        "\n",
        "# assert findChar_pos(\"hello world\", \"o\", 0) == 4\n",
        "# assert findChar_pos(\"hello world\", \"o\", 5) == 7"
      ]
    },
    {
      "cell_type": "markdown",
      "id": "0c4249f0",
      "metadata": {
        "id": "0c4249f0"
      },
      "source": [
        "**문제 10**"
      ]
    },
    {
      "cell_type": "markdown",
      "id": "bb90a39c",
      "metadata": {
        "id": "bb90a39c"
      },
      "source": [
        "`findChar_pos()` 함수를 `for` 반복문을 이용하여 구현하라."
      ]
    },
    {
      "cell_type": "code",
      "execution_count": null,
      "id": "3e46c579",
      "metadata": {
        "id": "3e46c579"
      },
      "outputs": [],
      "source": [
        "# pass 와 None 을 각각 적절한 명령문과 반환값으로 대체하라.\n",
        "\n",
        "def findChar_pos_for(word, char, pos):\n",
        "\n",
        "  for i in range(pos, len(word)):    # 문자열을 주어진 시작 위치에서부터 한 문자씩 차례대로 반복한다\n",
        "    if word[i] == char:    # 그 문자가 주어진 문자와 일치하면\n",
        "        return i         # 해당 인덱스를 반환한다.\n",
        "\n",
        "  return -1            # 없을 경우 -1을 반환한다.    "
      ]
    },
    {
      "cell_type": "code",
      "source": [
        "assert findChar_pos_for(\"hello world\", \"o\", 0) == 4           # 오류가 발생하지 않는다.\n",
        "assert findChar_pos_for(\"hello world\", \"o\", 5) == 7"
      ],
      "metadata": {
        "id": "vG4wP1mKvjC1"
      },
      "id": "vG4wP1mKvjC1",
      "execution_count": null,
      "outputs": []
    },
    {
      "cell_type": "code",
      "execution_count": null,
      "id": "82ed8277",
      "metadata": {
        "id": "82ed8277"
      },
      "outputs": [],
      "source": [
        "# 아래 주석을 제거하고 실행할 때 오류가 발생하지 않아야 한다.\n",
        "\n",
        "# assert findChar_pos_for(\"hello world\", \"o\", 0) == 4\n",
        "# assert findChar_pos_for(\"hello world\", \"o\", 5) == 7"
      ]
    },
    {
      "cell_type": "markdown",
      "id": "b06334af",
      "metadata": {
        "id": "b06334af"
      },
      "source": [
        "**문제 11**"
      ]
    },
    {
      "cell_type": "markdown",
      "id": "2f97c92d",
      "metadata": {
        "id": "2f97c92d"
      },
      "source": [
        "ROT13 은 단어의 각 문자를 13 자리만큼 회전시키는 방식의 간단한 암호 법이다. \n",
        "\n",
        "문자를 회전한다는 것은 알파벳 상의 위치를 이동한다는 뜻이다. \n",
        "예를 들어, `'a'` 를 3 만큼 이동하면 `'d'` 가, \n",
        "`'z'` 를 1 만큼 이동하면 `'a'` 가 된다.\n",
        "음수에 대해서는 역으로 회전한다.\n",
        "예를 들어, `'d'` 를 -3 만큼 이동하면 `'a'` 가 되고, `'a'` 를 -2 만큼 회전시키면 \n",
        "`'y'` 가 된다.\n",
        "\n",
        "다음 조건을 만족하는 `rotateWord()` 함수를 구현하라.\n",
        "\n",
        "- 문자열과 정수를 인자로 사용한다.\n",
        "- 지정된 정수만큼 문자열을 회전시킨다.\n",
        "\n",
        "힌트: 알파벳과 아스키 코드 사이의 관계를 이어주는\n",
        "[`ord()` 함수와 `chr()` 함수](https://ghdwn0217.tistory.com/60)를 이용한다."
      ]
    },
    {
      "cell_type": "code",
      "execution_count": null,
      "id": "e1efd7f0",
      "metadata": {
        "id": "e1efd7f0"
      },
      "outputs": [],
      "source": [
        "# pass 와 None 을 각각 적절한 명령문과 반환값으로 대체하라.\n",
        "\n",
        "def rotateWord(word, num):\n",
        "\n",
        "    results = \"\"                    # 최종 문자열 반환을 위한 변수\n",
        "    if num >= 0:                      # 26씩 회전할 때마다 계속 반복 되므로 나머지를 이용한다.\n",
        "      num = num % 26                  # 양수 일 때와 음수 일 때 다르므로 if문을 이용한다.\n",
        "    else:\n",
        "      num = abs(num) % 26 * (-1)        \n",
        "\n",
        "    for i in range(len(word)):             # 문자열의 길이만큼 각각의 문자에 대해 반복합니다.\n",
        "      i_num = ord(word[i]) - 97 + num      # 각각의 문자에 대해 주어진 수만큼 회전하였을 때 소문자 알파벳 전체에서 몇 번째인지 파악합니다.\n",
        "      if i_num >= 0:                       # 양수 번째라면 소문자 a부터 순서대로 몇번 째인지 아스키코드에서 파악한다.\n",
        "        alpa_num = i_num +97\n",
        "      else:                                # 음수 번째라면 소문자 z부터 역으로 몇 번째 인지 아스키코드에서 파악한다.\n",
        "        alpa_num = 123 + i_num\n",
        "\n",
        "      result = chr(alpa_num)               # 알파벳으로 바꾸어줍니다.\n",
        "      results += result                    # 반환할 문자열에 추가시켜줍니다.\n",
        "\n",
        "    return results                         # 최종적으로 구한 문자열을 반환합니다."
      ]
    },
    {
      "cell_type": "code",
      "source": [
        "assert rotateWord(\"cheer\", 7) == \"jolly\"     # 오류가 발생하지 않습니다.\n",
        "assert rotateWord(\"melon\", -10) == \"cubed\""
      ],
      "metadata": {
        "id": "6wM782ITxT3b"
      },
      "id": "6wM782ITxT3b",
      "execution_count": null,
      "outputs": []
    },
    {
      "cell_type": "code",
      "execution_count": null,
      "id": "160f48fa",
      "metadata": {
        "id": "160f48fa"
      },
      "outputs": [],
      "source": [
        "# 아래 주석을 제거하고 실행할 때 오류가 발생하지 않아야 한다.\n",
        "\n",
        "# assert rotateWord(\"cheer\", 7) == \"jolly\"\n",
        "# assert rotateWord(\"melon\", -10) == \"cubed\""
      ]
    },
    {
      "cell_type": "markdown",
      "id": "48251666",
      "metadata": {
        "id": "48251666"
      },
      "source": [
        "**문제 12**"
      ]
    },
    {
      "cell_type": "markdown",
      "id": "6324ad42",
      "metadata": {
        "id": "6324ad42"
      },
      "source": [
        "다음과 같은 방법으로 (세 자리 수) $\\times$ (세 자리 수) 를 계산할 수 있다.<br><br>\n",
        "\n",
        "<div align=\"center\">\n",
        "<img src=\"https://raw.githubusercontent.com/hj617kim/core_pybook/master/images/ch04/pro01.png\" style=\"width:150px;\">\n",
        "</div>  \n",
        "\n",
        "두 개의 세 자리 수 a 와 b 가 주어질 때, &#9312;, &#9313;, &#9314;, &#9315;에 들어갈 값을 \n",
        "각각 줄변경하여 출력하는 `mult()` 함수를 구현하라.\n",
        "반환값은 두 수의 곱이다.\n",
        "\n",
        "힌트: 문자열 인덱싱과 `for` 반복문 활용"
      ]
    },
    {
      "cell_type": "code",
      "execution_count": null,
      "id": "d5f99b2f",
      "metadata": {
        "id": "d5f99b2f"
      },
      "outputs": [],
      "source": [
        "# pass 와 None 을 각각 적절한 명령문과 반환값으로 대체하라.\n",
        "def mult(a, b):\n",
        "    assert 100 <= a <= 999 \n",
        "    assert 100 <= b <= 999     \n",
        "\n",
        "    for i in range(3):        # 3자리 이므로 3번 반복한다.\n",
        "      order = str(b)[2-i]     # b를 문자열로 바꾼 후 인덱싱을 이용해 반복문이 반복될 때마다 다음 일의 자릿수부터 순서대로 가져온다.\n",
        "      result = a *  int(order)   # 뽑아낸 자릿수 숫자를 int형으로 바꿔주고 a와 곱해서 결과를 저장합니다. \n",
        "      print(f\"({i+1}) {result}\")    # 포멧팅을 이용해 양식에 맞게 출력합니다.\n",
        "\n",
        "    print(f\"(4) {a*b}\")\n",
        "\n",
        "    return a * b                 # 반환값은 a와 b의 곱입니다."
      ]
    },
    {
      "cell_type": "code",
      "execution_count": null,
      "id": "aea9c2f0",
      "metadata": {
        "id": "aea9c2f0"
      },
      "outputs": [],
      "source": [
        "# 주석기호를 삭제하고 실행하라.\n",
        "\n",
        "# mult(265, 112)"
      ]
    },
    {
      "cell_type": "code",
      "source": [
        "mult(265, 112)\n",
        "\n",
        "pass"
      ],
      "metadata": {
        "colab": {
          "base_uri": "https://localhost:8080/"
        },
        "id": "_J8fAn9r5IGo",
        "outputId": "4b35d16d-362c-4828-d141-f0eb74eb2c67"
      },
      "id": "_J8fAn9r5IGo",
      "execution_count": null,
      "outputs": [
        {
          "output_type": "stream",
          "name": "stdout",
          "text": [
            "(1) 530\n",
            "(2) 265\n",
            "(3) 265\n",
            "(4) 29680\n"
          ]
        }
      ]
    },
    {
      "cell_type": "markdown",
      "id": "7d591fa8",
      "metadata": {
        "id": "7d591fa8"
      },
      "source": [
        "출력 결과는 다음과 같아야 한다.\n",
        "\n",
        "```python\n",
        "(1) 530   \n",
        "(2) 265  \n",
        "(3) 265 \n",
        "(4) 29680\n",
        "```"
      ]
    }
  ],
  "metadata": {
    "kernelspec": {
      "display_name": "Python 3 (ipykernel)",
      "language": "python",
      "name": "python3"
    },
    "language_info": {
      "codemirror_mode": {
        "name": "ipython",
        "version": 3
      },
      "file_extension": ".py",
      "mimetype": "text/x-python",
      "name": "python",
      "nbconvert_exporter": "python",
      "pygments_lexer": "ipython3",
      "version": "3.9.7"
    },
    "toc-autonumbering": true,
    "toc-showcode": false,
    "toc-showmarkdowntxt": false,
    "colab": {
      "name": "2016250012 김진상 파이썬 5차-2 ",
      "provenance": [],
      "collapsed_sections": [],
      "include_colab_link": true
    }
  },
  "nbformat": 4,
  "nbformat_minor": 5
}