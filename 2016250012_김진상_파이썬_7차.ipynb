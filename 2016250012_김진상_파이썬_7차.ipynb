{
  "cells": [
    {
      "cell_type": "markdown",
      "metadata": {
        "id": "view-in-github",
        "colab_type": "text"
      },
      "source": [
        "<a href=\"https://colab.research.google.com/github/woscc123/asn/blob/master/2016250012_%EA%B9%80%EC%A7%84%EC%83%81_%ED%8C%8C%EC%9D%B4%EC%8D%AC_7%EC%B0%A8.ipynb\" target=\"_parent\"><img src=\"https://colab.research.google.com/assets/colab-badge.svg\" alt=\"Open In Colab\"/></a>"
      ]
    },
    {
      "cell_type": "markdown",
      "id": "72ba1600",
      "metadata": {
        "id": "72ba1600"
      },
      "source": [
        "# (실습) 객체 지향 프로그래밍"
      ]
    },
    {
      "cell_type": "markdown",
      "id": "bcc8fd8e",
      "metadata": {
        "id": "bcc8fd8e"
      },
      "source": [
        "**참고**\n",
        "\n",
        "[객체 지향 프로그래밍](https://codingalzi.github.io/pybook/oop.html)에서\n",
        "소개한 `Fraction` 클래스와 연관된 문제들이다."
      ]
    },
    {
      "cell_type": "code",
      "execution_count": null,
      "id": "8911fdf9",
      "metadata": {
        "id": "8911fdf9"
      },
      "outputs": [],
      "source": [
        "def gcd(m, n):\n",
        "    while m % n != 0:\n",
        "        m, n = n, m % n\n",
        "    return n\n",
        "\n",
        "class Fraction:\n",
        "    \"\"\"Fraction 클래스\"\"\"\n",
        "\n",
        "    def __init__(self, top, bottom):\n",
        "        \"\"\"생성자 메서드\n",
        "        top: 분자\n",
        "        bottom: 분모\n",
        "        \"\"\"\n",
        "        self.num = top\n",
        "        self.den = bottom\n",
        "\n",
        "    def __str__(self):\n",
        "        return f\"{self.num}/{self.den}\"\n",
        "\n",
        "    def __add__(self, other_fraction):\n",
        "        new_num = self.num * other_fraction.den + \\\n",
        "                     self.den * other_fraction.num\n",
        "        new_den = self.den * other_fraction.den\n",
        "        common = gcd(new_num, new_den)\n",
        "        \n",
        "        return Fraction(new_num // common, new_den // common)\n",
        "\n",
        "    def __eq__(self, other_fraction):\n",
        "        first_num = self.num * other_fraction.den\n",
        "        second_num = other_fraction.num * self.den\n",
        "\n",
        "        return first_num == second_num"
      ]
    },
    {
      "cell_type": "markdown",
      "id": "6d31d67f",
      "metadata": {
        "id": "6d31d67f"
      },
      "source": [
        "**문제 1**"
      ]
    },
    {
      "cell_type": "markdown",
      "id": "5c70afac",
      "metadata": {
        "id": "5c70afac"
      },
      "source": [
        "`f1`, `f2`가 아래와 같이 정의된다."
      ]
    },
    {
      "cell_type": "code",
      "execution_count": null,
      "id": "fad5a847",
      "metadata": {
        "id": "fad5a847"
      },
      "outputs": [],
      "source": [
        "f1 = Fraction(1, 4)\n",
        "f2 = Fraction(1, 2)"
      ]
    },
    {
      "cell_type": "markdown",
      "id": "afe5d098",
      "metadata": {
        "id": "afe5d098"
      },
      "source": [
        "그런데 `f1 + f2`의 결과를 직접 확인하려 하면 원하는 대로 보여지지 않는다."
      ]
    },
    {
      "cell_type": "code",
      "execution_count": null,
      "id": "e842f714",
      "metadata": {
        "id": "e842f714",
        "outputId": "6028372d-bd66-4dad-fdaf-36049c850d1a",
        "colab": {
          "base_uri": "https://localhost:8080/"
        }
      },
      "outputs": [
        {
          "output_type": "execute_result",
          "data": {
            "text/plain": [
              "<__main__.Fraction at 0x7f47b6c7ac90>"
            ]
          },
          "metadata": {},
          "execution_count": 3
        }
      ],
      "source": [
        "f1 + f2"
      ]
    },
    {
      "cell_type": "markdown",
      "id": "6d0c54e5",
      "metadata": {
        "id": "6d0c54e5"
      },
      "source": [
        "어떤 매직 메서드를 구현하면 되는지 확인하고 직접 구현하라.\n",
        "\n",
        "힌트: `__repr__()` 메서드가 `__str__()` 메서드와 어떻게 다른지 확인하라."
      ]
    },
    {
      "cell_type": "markdown",
      "source": [
        "`__str__()` 메서드를 `__repr__()` 메서드로 바꾸어 보겠습니다."
      ],
      "metadata": {
        "id": "32N_YlMrQmhP"
      },
      "id": "32N_YlMrQmhP"
    },
    {
      "cell_type": "code",
      "execution_count": null,
      "metadata": {
        "id": "hQOh41_VQiiK"
      },
      "outputs": [],
      "source": [
        "def gcd(m, n):\n",
        "    while m % n != 0:\n",
        "        m, n = n, m % n\n",
        "    return n\n",
        "\n",
        "class Fraction:\n",
        "    \"\"\"Fraction 클래스\"\"\"\n",
        "\n",
        "    def __init__(self, top, bottom):\n",
        "        \"\"\"생성자 메서드\n",
        "        top: 분자\n",
        "        bottom: 분모\n",
        "        \"\"\"\n",
        "        self.num = top\n",
        "        self.den = bottom\n",
        "\n",
        "    def __repr__(self):               # __str__()을 __repr()__ 로 변경\n",
        "        return f\"{self.num}/{self.den}\"\n",
        "\n",
        "    def __add__(self, other_fraction):\n",
        "        new_num = self.num * other_fraction.den + \\\n",
        "                     self.den * other_fraction.num\n",
        "        new_den = self.den * other_fraction.den\n",
        "        common = gcd(new_num, new_den)\n",
        "        \n",
        "        return Fraction(new_num // common, new_den // common)\n",
        "\n",
        "    def __eq__(self, other_fraction):\n",
        "        first_num = self.num * other_fraction.den\n",
        "        second_num = other_fraction.num * self.den\n",
        "\n",
        "        return first_num == second_num"
      ],
      "id": "hQOh41_VQiiK"
    },
    {
      "cell_type": "code",
      "source": [
        "f1 + f2         # 원하는 결과 인 분수를 보여준다."
      ],
      "metadata": {
        "colab": {
          "base_uri": "https://localhost:8080/"
        },
        "id": "D14RGk1eQuio",
        "outputId": "8f51bd90-a42d-41dd-9a99-3dbd2747c22c"
      },
      "id": "D14RGk1eQuio",
      "execution_count": null,
      "outputs": [
        {
          "output_type": "execute_result",
          "data": {
            "text/plain": [
              "3/4"
            ]
          },
          "metadata": {},
          "execution_count": 5
        }
      ]
    },
    {
      "cell_type": "markdown",
      "source": [
        "위에서 `__str__()`을 구현한 결과와 다른 것을 확인 할 수 있습니다. 즉, `__repr__()`를 구현해야합니다."
      ],
      "metadata": {
        "id": "QZrvQCfgTdNV"
      },
      "id": "QZrvQCfgTdNV"
    },
    {
      "cell_type": "markdown",
      "id": "28f88f21",
      "metadata": {
        "id": "28f88f21"
      },
      "source": [
        "**문제 2**"
      ]
    },
    {
      "cell_type": "markdown",
      "id": "37eb9d1c",
      "metadata": {
        "id": "37eb9d1c"
      },
      "source": [
        "`Fraction` 클래스의 객체인 분수로부터 분자와 분모를 반환하는 `get_num()` 메서드와\n",
        "`get_den()` 메서드를 구현하고 활용예제를 제시하라."
      ]
    },
    {
      "cell_type": "code",
      "execution_count": null,
      "metadata": {
        "id": "JkRRJQqBTw1-"
      },
      "outputs": [],
      "source": [
        "def gcd(m, n):\n",
        "    while m % n != 0:\n",
        "        m, n = n, m % n\n",
        "    return n\n",
        "\n",
        "class Fraction:\n",
        "    \"\"\"Fraction 클래스\"\"\"\n",
        "\n",
        "    def __init__(self, top, bottom):\n",
        "        \"\"\"생성자 메서드\n",
        "        top: 분자\n",
        "        bottom: 분모\n",
        "        \"\"\"\n",
        "        self.num = top\n",
        "        self.den = bottom\n",
        "\n",
        "    def __repr__(self):               # __str__()을 __repr()__ 로 변경\n",
        "        return f\"{self.num}/{self.den}\"\n",
        "\n",
        "    def __add__(self, other_fraction):\n",
        "        new_num = self.num * other_fraction.den + \\\n",
        "                     self.den * other_fraction.num\n",
        "        new_den = self.den * other_fraction.den\n",
        "        common = gcd(new_num, new_den)\n",
        "        \n",
        "        return Fraction(new_num // common, new_den // common)\n",
        "\n",
        "    def __eq__(self, other_fraction):\n",
        "        first_num = self.num * other_fraction.den\n",
        "        second_num = other_fraction.num * self.den\n",
        "\n",
        "        return first_num == second_num\n",
        "    \n",
        "    def get_num(self):            # 분자를 반환하는 메소드\n",
        "      return self.num\n",
        "\n",
        "    def get_den(self):            # 분모를 반환하는 메소드\n",
        "      return self.den"
      ],
      "id": "JkRRJQqBTw1-"
    },
    {
      "cell_type": "code",
      "source": [
        "# 활용 예제\n",
        "\n",
        "f1 = Fraction(6, 17)           # 임의의 Fraction 객체를 만든다.\n",
        "\n",
        "print(f1.get_num()) # 분자를 반환하는 메소드의 결과를 출력\n",
        "print(f1.get_den()) # 분모를 반환하는 메소드의 결과를 출력"
      ],
      "metadata": {
        "colab": {
          "base_uri": "https://localhost:8080/"
        },
        "id": "chh51hWqUIip",
        "outputId": "7372724c-fc06-400b-8015-5ad1161a2b2a"
      },
      "id": "chh51hWqUIip",
      "execution_count": null,
      "outputs": [
        {
          "output_type": "stream",
          "name": "stdout",
          "text": [
            "6\n",
            "17\n"
          ]
        }
      ]
    },
    {
      "cell_type": "markdown",
      "id": "bef9ea1a",
      "metadata": {
        "id": "bef9ea1a"
      },
      "source": [
        "**문제 3**"
      ]
    },
    {
      "cell_type": "markdown",
      "id": "bfdcfce5",
      "metadata": {
        "id": "bfdcfce5"
      },
      "source": [
        "`Fraction` 클래스의 객체가 항상 기약분수의 형태로 분모와 분자를 사용하도록 \n",
        "`__init__()` 메서드를 수정하고 활용예제를 제시하라. \n",
        "\n",
        "힌트: 최대공약수를 계산하는 함수를 활용해야 한다.\n",
        "또한 `__add__()` 함수에서는 더 이상 기약분수로 변환할 필요가 없어진다."
      ]
    },
    {
      "cell_type": "code",
      "execution_count": null,
      "metadata": {
        "id": "4QgQvemNEu5a"
      },
      "outputs": [],
      "source": [
        "def gcd(m, n):\n",
        "    while m % n != 0:\n",
        "        m, n = n, m % n\n",
        "    return n\n",
        "\n",
        "class Fraction:\n",
        "    \"\"\"Fraction 클래스\"\"\"\n",
        "\n",
        "    def __init__(self, top, bottom):\n",
        "        \"\"\"생성자 메서드\n",
        "        top: 분자\n",
        "        bottom: 분모\n",
        "        \"\"\"\n",
        "\n",
        "        common = gcd(top, bottom)        #  분자와 분모의 최대공약수를 찾습니다.\n",
        "\n",
        "        self.num = top // common          # 분자를 최대공약수로 나누어 줍니다.\n",
        "        self.den = bottom // common          # 분모를 최대공약수로 나누어 줍니다. 결국 기약 분수 꼴입니다.\n",
        "\n",
        "        \n",
        "\n",
        "    def __repr__(self):               # __str__()을 __repr()__ 로 변경\n",
        "        return f\"{self.num}/{self.den}\"\n",
        "\n",
        "    def __add__(self, other_fraction):\n",
        "        new_num = self.num * other_fraction.den + \\\n",
        "                     self.den * other_fraction.num\n",
        "        new_den = self.den * other_fraction.den\n",
        "        #common = gcd(new_num, new_den)      add에서도 최대공약수를 찾을 필요 없습니다.\n",
        "        \n",
        "        return Fraction(new_num, new_den)\n",
        "\n",
        "    def __eq__(self, other_fraction):\n",
        "        first_num = self.num * other_fraction.den\n",
        "        second_num = other_fraction.num * self.den\n",
        "\n",
        "        return first_num == second_num\n",
        "    \n",
        "    def get_num(self):            # 분자를 반환하는 메소드\n",
        "      return self.num\n",
        "\n",
        "    def get_den(self):            # 분모를 반환하는 메소드\n",
        "      return self.den"
      ],
      "id": "4QgQvemNEu5a"
    },
    {
      "cell_type": "code",
      "source": [
        "f1 = Fraction(6, 17)\n",
        "f2 = Fraction(6, 36)\n",
        "f3 = Fraction(2, 12)\n",
        "f4 = Fraction(15, 5)\n",
        "\n",
        "print(f1, f2, f3, f4)           # 기약 분수 꼴로 나타남을 확인할 수 있습니다.\n"
      ],
      "metadata": {
        "colab": {
          "base_uri": "https://localhost:8080/"
        },
        "id": "YKubI_wWFl-F",
        "outputId": "ea3c8f95-a5fb-4d6d-9553-b7f1413372ce"
      },
      "id": "YKubI_wWFl-F",
      "execution_count": null,
      "outputs": [
        {
          "output_type": "stream",
          "name": "stdout",
          "text": [
            "6/17 1/6 1/6 3/1\n"
          ]
        }
      ]
    },
    {
      "cell_type": "markdown",
      "id": "7966e144",
      "metadata": {
        "id": "7966e144"
      },
      "source": [
        "**문제 4**"
      ]
    },
    {
      "cell_type": "markdown",
      "id": "af75811c",
      "metadata": {
        "id": "af75811c"
      },
      "source": [
        "다음 연산자들을 구현하고 활용예제를 제시하라.\n",
        "\n",
        "`__sub__()`, `__mul__()`, `__truediv__()`"
      ]
    },
    {
      "cell_type": "code",
      "execution_count": null,
      "metadata": {
        "id": "7484WDriGVmO"
      },
      "outputs": [],
      "source": [
        "def gcd(m, n):\n",
        "    while m % n != 0:\n",
        "        m, n = n, m % n\n",
        "    return n\n",
        "\n",
        "class Fraction:\n",
        "    \"\"\"Fraction 클래스\"\"\"\n",
        "\n",
        "    def __init__(self, top, bottom):\n",
        "        \"\"\"생성자 메서드\n",
        "        top: 분자\n",
        "        bottom: 분모\n",
        "        \"\"\"\n",
        "\n",
        "        common = gcd(top, bottom)        #  분자와 분모의 최대공약수를 찾습니다.\n",
        "\n",
        "        self.num = top // common          # 분자를 최대공약수로 나누어 줍니다.\n",
        "        self.den = bottom // common          # 분모를 최대공약수로 나누어 줍니다. 결국 기약 분수 꼴입니다.\n",
        "\n",
        "        \n",
        "\n",
        "    def __repr__(self):               # __str__()을 __repr()__ 로 변경\n",
        "        return f\"{self.num}/{self.den}\"\n",
        "\n",
        "    def __add__(self, other_fraction):\n",
        "        new_num = self.num * other_fraction.den + \\\n",
        "                     self.den * other_fraction.num\n",
        "        new_den = self.den * other_fraction.den\n",
        "        #common = gcd(new_num, new_den)      add에서도 최대공약수를 찾을 필요 없습니다.\n",
        "        \n",
        "        return Fraction(new_num, new_den)\n",
        "    \n",
        "    def __sub__(self, other_fraction):                       # 빼기를 구현한 메서드 입니다.\n",
        "      new_num = self.num * other_fraction.den - \\\n",
        "                  self.den * other_fraction.num\n",
        "      new_den = self.den * other_fraction.den\n",
        "\n",
        "      return Fraction(new_num, new_den)\n",
        "    \n",
        "    def __mul__(self, other_fraction):                          # 곱하기를 구현한 메서드 입니다.\n",
        "      new_num = self.num * other_fraction.num\n",
        "      new_den = self.den * other_fraction.den\n",
        "\n",
        "      return Fraction(new_num, new_den)\n",
        "\n",
        "    def __truediv__(self, other_fraction):                      # 나누기를 구현한 메서드 입니다.\n",
        "      new_num = self.num * other_fraction.den\n",
        "      new_den = self.den * other_fraction.num\n",
        "\n",
        "      return Fraction(new_num, new_den)\n",
        "\n",
        "    def __eq__(self, other_fraction):\n",
        "        first_num = self.num * other_fraction.den\n",
        "        second_num = other_fraction.num * self.den\n",
        "\n",
        "        return first_num == second_num\n",
        "    \n",
        "    def get_num(self):            # 분자를 반환하는 메소드\n",
        "      return self.num\n",
        "\n",
        "    def get_den(self):            # 분모를 반환하는 메소드\n",
        "      return self.den"
      ],
      "id": "7484WDriGVmO"
    },
    {
      "cell_type": "code",
      "source": [
        "f1 = Fraction(1, 2)\n",
        "f2 = Fraction(3, 7)\n",
        "\n",
        "print(f1 - f2)           # 빼기 연산입니다. f1.__sub__(f2)와 같습니다.\n",
        "print(f1 * f2)           # 곱하기 연산입니다. f1.__mul__(f2)와 같습니다.\n",
        "print(f1 / f2)           # 나누기 연산입니다. f1.__truediv__(f2)와 같습니다.\n",
        "\n"
      ],
      "metadata": {
        "colab": {
          "base_uri": "https://localhost:8080/"
        },
        "id": "kTX9x2IxGQPt",
        "outputId": "dfdc3cda-3298-4858-b72a-af010668d0a0"
      },
      "id": "kTX9x2IxGQPt",
      "execution_count": null,
      "outputs": [
        {
          "output_type": "stream",
          "name": "stdout",
          "text": [
            "1/14\n",
            "3/14\n",
            "7/6\n"
          ]
        }
      ]
    },
    {
      "cell_type": "markdown",
      "id": "0698802b",
      "metadata": {
        "id": "0698802b"
      },
      "source": [
        "**문제 5**"
      ]
    },
    {
      "cell_type": "markdown",
      "id": "7d29daf5",
      "metadata": {
        "id": "7d29daf5"
      },
      "source": [
        "다음 비교 연산자들을 구현하고 활용예제를 제시하라.\n",
        "\n",
        "`__gt__()`, `__ge__()`, `__lt__()`, `__le__()`, `__ne__()`"
      ]
    },
    {
      "cell_type": "code",
      "execution_count": null,
      "metadata": {
        "id": "BG-LwgjKJN_i"
      },
      "outputs": [],
      "source": [
        "def gcd(m, n):\n",
        "    while m % n != 0:\n",
        "        m, n = n, m % n\n",
        "    return n\n",
        "\n",
        "class Fraction:\n",
        "    \"\"\"Fraction 클래스\"\"\"\n",
        "\n",
        "    def __init__(self, top, bottom):\n",
        "        \"\"\"생성자 메서드\n",
        "        top: 분자\n",
        "        bottom: 분모\n",
        "        \"\"\"\n",
        "\n",
        "        common = gcd(top, bottom)        #  분자와 분모의 최대공약수를 찾습니다.\n",
        "\n",
        "        self.num = top // common          # 분자를 최대공약수로 나누어 줍니다.\n",
        "        self.den = bottom // common          # 분모를 최대공약수로 나누어 줍니다. 결국 기약 분수 꼴입니다.\n",
        "\n",
        "        \n",
        "\n",
        "    def __repr__(self):               # __str__()을 __repr()__ 로 변경\n",
        "        return f\"{self.num}/{self.den}\"\n",
        "\n",
        "    def __add__(self, other_fraction):\n",
        "        new_num = self.num * other_fraction.den + \\\n",
        "                     self.den * other_fraction.num\n",
        "        new_den = self.den * other_fraction.den\n",
        "        #common = gcd(new_num, new_den)      add에서도 최대공약수를 찾을 필요 없습니다.\n",
        "        \n",
        "        return Fraction(new_num, new_den)\n",
        "    \n",
        "    def __sub__(self, other_fraction):                       # 빼기를 구현한 메서드 입니다.\n",
        "      new_num = self.num * other_fraction.den - \\\n",
        "                  self.den * other_fraction.num\n",
        "      new_den = self.den * other_fraction.den\n",
        "\n",
        "      return Fraction(new_num, new_den)\n",
        "    \n",
        "    def __mul__(self, other_fraction):                          # 곱하기를 구현한 메서드 입니다.\n",
        "      new_num = self.num * other_fraction.num\n",
        "      new_den = self.den * other_fraction.den\n",
        "\n",
        "      return Fraction(new_num, new_den)\n",
        "\n",
        "    def __truediv__(self, other_fraction):                      # 나누기를 구현한 메서드 입니다.\n",
        "      new_num = self.num * other_fraction.den\n",
        "      new_den = self.den * other_fraction.num\n",
        "\n",
        "      return Fraction(new_num, new_den)\n",
        "\n",
        "    def __eq__(self, other_fraction):\n",
        "        first_num = self.num * other_fraction.den\n",
        "        second_num = other_fraction.num * self.den\n",
        "\n",
        "        return first_num == second_num\n",
        "\n",
        "    # __gt__(), __ge__(), __lt__(), __le__(), __ne__()\n",
        "\n",
        "    def __gt__(self, other_fraction):                  # > 비교연산자를 구현합니다. 즉, 큰 경우 True를 반환합니다.\n",
        "      first_num = self.num * other_fraction.den\n",
        "      second_num = other_fraction.num * self.den\n",
        "\n",
        "      return first_num > second_num\n",
        "    \n",
        "    def __ge__(self, other_fraction):                  # >= 비교연산자를 구현합니다. 즉, 크거나 같은 경우 True를 반환합니다.\n",
        "      first_num = self.num * other_fraction.den\n",
        "      second_num = other_fraction.num * self.den\n",
        "\n",
        "      return first_num >= second_num\n",
        "\n",
        "    def __lt__(self, other_fraction):                  # < 비교연산자를 구현합니다. 즉, 작은 경우 True를 반환합니다.\n",
        "      first_num = self.num * other_fraction.den\n",
        "      second_num = other_fraction.num * self.den\n",
        "\n",
        "      return first_num < second_num\n",
        "\n",
        "    def __le__(self, other_fraction):                  # <= 비교연산자를 구현합니다. 즉, 작거나 같은 경우 True를 반환합니다.\n",
        "      first_num = self.num * other_fraction.den\n",
        "      second_num = other_fraction.num * self.den\n",
        "\n",
        "      return first_num <= second_num\n",
        "\n",
        "    def __ne__(self, other_fraction):                    # != 비교연산자를 구현합니다. 즉, 다른 경우 True를 반환합니다.\n",
        "        first_num = self.num * other_fraction.den\n",
        "        second_num = other_fraction.num * self.den\n",
        "\n",
        "        return first_num != second_num\n",
        "\n",
        "\n",
        "    \n",
        "    def get_num(self):            # 분자를 반환하는 메소드\n",
        "      return self.num\n",
        "\n",
        "    def get_den(self):            # 분모를 반환하는 메소드\n",
        "      return self.den"
      ],
      "id": "BG-LwgjKJN_i"
    },
    {
      "cell_type": "code",
      "source": [
        "# 비교연산자 활용예제\n",
        "\n",
        "f1 = Fraction(1, 2)\n",
        "f2 = Fraction(2, 3)\n",
        "\n",
        "print(f1 > f2)   # False가 나와야 합니다.\n",
        "print(f1 >= f2)  # False가 나와야 합니다.\n",
        "print(f1 < f2)   # True가 나와야 합니다.\n",
        "print(f1 <= f2)  # True가 나와야 합니다.\n",
        "print(f1 != f2)  # True가 나와야 합니다.\n",
        "\n",
        "print(f1 >= Fraction(2, 4))  # True 가 나와야 합니다.\n",
        "print(f2 <= Fraction(4, 6))  # True 가 나와야 합니다."
      ],
      "metadata": {
        "colab": {
          "base_uri": "https://localhost:8080/"
        },
        "id": "ejyLmBTVK48U",
        "outputId": "db831ccd-8ba9-4be5-a50d-70df053e423f"
      },
      "id": "ejyLmBTVK48U",
      "execution_count": null,
      "outputs": [
        {
          "output_type": "stream",
          "name": "stdout",
          "text": [
            "False\n",
            "False\n",
            "True\n",
            "True\n",
            "True\n",
            "True\n",
            "True\n"
          ]
        }
      ]
    },
    {
      "cell_type": "markdown",
      "id": "bf3417ac",
      "metadata": {
        "id": "bf3417ac"
      },
      "source": [
        "**문제 6**"
      ]
    },
    {
      "cell_type": "markdown",
      "id": "717b466a",
      "metadata": {
        "id": "717b466a"
      },
      "source": [
        "분자와 분모로 입력된 값이 정수임을 확인하도록 생성자 메서드를 수정하고 활용예제를 제시하라.\n",
        "정수 이외의 값이 입력되면 예외가 발생하도록 해야 한다. "
      ]
    },
    {
      "cell_type": "code",
      "execution_count": null,
      "metadata": {
        "id": "pcAW1QnvLmDl"
      },
      "outputs": [],
      "source": [
        "def gcd(m, n):\n",
        "    while m % n != 0:\n",
        "        m, n = n, m % n\n",
        "    return n\n",
        "\n",
        "class Fraction:\n",
        "    \"\"\"Fraction 클래스\"\"\"\n",
        "\n",
        "    def __init__(self, top, bottom):\n",
        "        \"\"\"생성자 메서드\n",
        "        top: 분자\n",
        "        bottom: 분모\n",
        "        \"\"\"\n",
        "        if isinstance(top, int) and isinstance(bottom, int):     # 분모와 분자의 값 정수인지 확인합니다. \n",
        "\n",
        "          common = gcd(top, bottom)        #  분자와 분모의 최대공약수를 찾습니다.\n",
        "\n",
        "          self.num = top // common          # 분자를 최대공약수로 나누어 줍니다.\n",
        "          self.den = bottom // common          # 분모를 최대공약수로 나누어 줍니다. 결국 기약 분수 꼴입니다.\n",
        "\n",
        "        else:                                                    # 정수 이외의 값이 입력되면 예외가 발생합니다.\n",
        "          raise TypeError(\"분자와 분모는 정수값만 가능합니다.\")\n",
        "\n",
        "        \n",
        "\n",
        "    def __repr__(self):               # __str__()을 __repr()__ 로 변경\n",
        "        return f\"{self.num}/{self.den}\"\n",
        "\n",
        "    def __add__(self, other_fraction):\n",
        "        new_num = self.num * other_fraction.den + \\\n",
        "                     self.den * other_fraction.num\n",
        "        new_den = self.den * other_fraction.den\n",
        "        #common = gcd(new_num, new_den)      add에서도 최대공약수를 찾을 필요 없습니다.\n",
        "        \n",
        "        return Fraction(new_num, new_den)\n",
        "    \n",
        "    def __sub__(self, other_fraction):                       # 빼기를 구현한 메서드 입니다.\n",
        "      new_num = self.num * other_fraction.den - \\\n",
        "                  self.den * other_fraction.num\n",
        "      new_den = self.den * other_fraction.den\n",
        "\n",
        "      return Fraction(new_num, new_den)\n",
        "    \n",
        "    def __mul__(self, other_fraction):                          # 곱하기를 구현한 메서드 입니다.\n",
        "      new_num = self.num * other_fraction.num\n",
        "      new_den = self.den * other_fraction.den\n",
        "\n",
        "      return Fraction(new_num, new_den)\n",
        "\n",
        "    def __truediv__(self, other_fraction):                      # 나누기를 구현한 메서드 입니다.\n",
        "      new_num = self.num * other_fraction.den\n",
        "      new_den = self.den * other_fraction.num\n",
        "\n",
        "      return Fraction(new_num, new_den)\n",
        "\n",
        "    def __eq__(self, other_fraction):\n",
        "        first_num = self.num * other_fraction.den\n",
        "        second_num = other_fraction.num * self.den\n",
        "\n",
        "        return first_num == second_num\n",
        "\n",
        "    # __gt__(), __ge__(), __lt__(), __le__(), __ne__()\n",
        "\n",
        "    def __gt__(self, other_fraction):                  # > 비교연산자를 구현합니다. 즉, 큰 경우 True를 반환합니다.\n",
        "      first_num = self.num * other_fraction.den\n",
        "      second_num = other_fraction.num * self.den\n",
        "\n",
        "      return first_num > second_num\n",
        "    \n",
        "    def __ge__(self, other_fraction):                  # >= 비교연산자를 구현합니다. 즉, 크거나 같은 경우 True를 반환합니다.\n",
        "      first_num = self.num * other_fraction.den\n",
        "      second_num = other_fraction.num * self.den\n",
        "\n",
        "      return first_num >= second_num\n",
        "\n",
        "    def __lt__(self, other_fraction):                  # < 비교연산자를 구현합니다. 즉, 작은 경우 True를 반환합니다.\n",
        "      first_num = self.num * other_fraction.den\n",
        "      second_num = other_fraction.num * self.den\n",
        "\n",
        "      return first_num < second_num\n",
        "\n",
        "    def __le__(self, other_fraction):                  # <= 비교연산자를 구현합니다. 즉, 작거나 같은 경우 True를 반환합니다.\n",
        "      first_num = self.num * other_fraction.den\n",
        "      second_num = other_fraction.num * self.den\n",
        "\n",
        "      return first_num <= second_num\n",
        "\n",
        "    def __ne__(self, other_fraction):                    # != 비교연산자를 구현합니다. 즉, 다른 경우 True를 반환합니다.\n",
        "        first_num = self.num * other_fraction.den\n",
        "        second_num = other_fraction.num * self.den\n",
        "\n",
        "        return first_num != second_num\n",
        "\n",
        "\n",
        "    \n",
        "    def get_num(self):            # 분자를 반환하는 메소드\n",
        "      return self.num\n",
        "\n",
        "    def get_den(self):            # 분모를 반환하는 메소드\n",
        "      return self.den"
      ],
      "id": "pcAW1QnvLmDl"
    },
    {
      "cell_type": "code",
      "source": [
        "f1 = Fraction(\"a\", 3)  #  분자에 문자열 때문에 오류 발생"
      ],
      "metadata": {
        "colab": {
          "base_uri": "https://localhost:8080/",
          "height": 299
        },
        "id": "WBDDTKI_SBfl",
        "outputId": "ffe211e7-2aef-4ddd-91f5-e691c0a96332"
      },
      "id": "WBDDTKI_SBfl",
      "execution_count": null,
      "outputs": [
        {
          "output_type": "error",
          "ename": "TypeError",
          "evalue": "ignored",
          "traceback": [
            "\u001b[0;31m---------------------------------------------------------------------------\u001b[0m",
            "\u001b[0;31mTypeError\u001b[0m                                 Traceback (most recent call last)",
            "\u001b[0;32m<ipython-input-15-b9f8027d52e7>\u001b[0m in \u001b[0;36m<module>\u001b[0;34m()\u001b[0m\n\u001b[0;32m----> 1\u001b[0;31m \u001b[0mf1\u001b[0m \u001b[0;34m=\u001b[0m \u001b[0mFraction\u001b[0m\u001b[0;34m(\u001b[0m\u001b[0;34m\"a\"\u001b[0m\u001b[0;34m,\u001b[0m \u001b[0;36m3\u001b[0m\u001b[0;34m)\u001b[0m  \u001b[0;31m#  분자에 문자열 때문에 오류 발생\u001b[0m\u001b[0;34m\u001b[0m\u001b[0;34m\u001b[0m\u001b[0m\n\u001b[0m",
            "\u001b[0;32m<ipython-input-14-88523461dd49>\u001b[0m in \u001b[0;36m__init__\u001b[0;34m(self, top, bottom)\u001b[0m\n\u001b[1;32m     20\u001b[0m \u001b[0;34m\u001b[0m\u001b[0m\n\u001b[1;32m     21\u001b[0m         \u001b[0;32melse\u001b[0m\u001b[0;34m:\u001b[0m                                                    \u001b[0;31m# 정수 이외의 값이 입력되면 예외가 발생합니다.\u001b[0m\u001b[0;34m\u001b[0m\u001b[0;34m\u001b[0m\u001b[0m\n\u001b[0;32m---> 22\u001b[0;31m           \u001b[0;32mraise\u001b[0m \u001b[0mTypeError\u001b[0m\u001b[0;34m(\u001b[0m\u001b[0;34m\"분자와 분모는 정수값만 가능합니다.\"\u001b[0m\u001b[0;34m)\u001b[0m\u001b[0;34m\u001b[0m\u001b[0;34m\u001b[0m\u001b[0m\n\u001b[0m\u001b[1;32m     23\u001b[0m \u001b[0;34m\u001b[0m\u001b[0m\n\u001b[1;32m     24\u001b[0m \u001b[0;34m\u001b[0m\u001b[0m\n",
            "\u001b[0;31mTypeError\u001b[0m: 분자와 분모는 정수값만 가능합니다."
          ]
        }
      ]
    },
    {
      "cell_type": "code",
      "source": [
        "f2 = Fraction(3.2, 3)    # 분자에 flaot형 자료형 때문에 오류발생"
      ],
      "metadata": {
        "colab": {
          "base_uri": "https://localhost:8080/",
          "height": 299
        },
        "id": "TUq6wPrFSJKQ",
        "outputId": "b30c71e3-8e9a-4319-c461-e17b7654c4b0"
      },
      "id": "TUq6wPrFSJKQ",
      "execution_count": null,
      "outputs": [
        {
          "output_type": "error",
          "ename": "TypeError",
          "evalue": "ignored",
          "traceback": [
            "\u001b[0;31m---------------------------------------------------------------------------\u001b[0m",
            "\u001b[0;31mTypeError\u001b[0m                                 Traceback (most recent call last)",
            "\u001b[0;32m<ipython-input-16-2855c1eeb3c8>\u001b[0m in \u001b[0;36m<module>\u001b[0;34m()\u001b[0m\n\u001b[0;32m----> 1\u001b[0;31m \u001b[0mf2\u001b[0m \u001b[0;34m=\u001b[0m \u001b[0mFraction\u001b[0m\u001b[0;34m(\u001b[0m\u001b[0;36m3.2\u001b[0m\u001b[0;34m,\u001b[0m \u001b[0;36m3\u001b[0m\u001b[0;34m)\u001b[0m    \u001b[0;31m# 분자에 flaot형 자료형 때문에 오류발생\u001b[0m\u001b[0;34m\u001b[0m\u001b[0;34m\u001b[0m\u001b[0m\n\u001b[0m",
            "\u001b[0;32m<ipython-input-14-88523461dd49>\u001b[0m in \u001b[0;36m__init__\u001b[0;34m(self, top, bottom)\u001b[0m\n\u001b[1;32m     20\u001b[0m \u001b[0;34m\u001b[0m\u001b[0m\n\u001b[1;32m     21\u001b[0m         \u001b[0;32melse\u001b[0m\u001b[0;34m:\u001b[0m                                                    \u001b[0;31m# 정수 이외의 값이 입력되면 예외가 발생합니다.\u001b[0m\u001b[0;34m\u001b[0m\u001b[0;34m\u001b[0m\u001b[0m\n\u001b[0;32m---> 22\u001b[0;31m           \u001b[0;32mraise\u001b[0m \u001b[0mTypeError\u001b[0m\u001b[0;34m(\u001b[0m\u001b[0;34m\"분자와 분모는 정수값만 가능합니다.\"\u001b[0m\u001b[0;34m)\u001b[0m\u001b[0;34m\u001b[0m\u001b[0;34m\u001b[0m\u001b[0m\n\u001b[0m\u001b[1;32m     23\u001b[0m \u001b[0;34m\u001b[0m\u001b[0m\n\u001b[1;32m     24\u001b[0m \u001b[0;34m\u001b[0m\u001b[0m\n",
            "\u001b[0;31mTypeError\u001b[0m: 분자와 분모는 정수값만 가능합니다."
          ]
        }
      ]
    },
    {
      "cell_type": "code",
      "source": [
        "f3 = Fraction(2, 5.0) # 분모에 flaot형 자료형 때문에 오류발생"
      ],
      "metadata": {
        "colab": {
          "base_uri": "https://localhost:8080/",
          "height": 299
        },
        "id": "MkSkVR1lSQa-",
        "outputId": "6a97cb6d-99da-4484-c811-01a2f208bc83"
      },
      "id": "MkSkVR1lSQa-",
      "execution_count": null,
      "outputs": [
        {
          "output_type": "error",
          "ename": "TypeError",
          "evalue": "ignored",
          "traceback": [
            "\u001b[0;31m---------------------------------------------------------------------------\u001b[0m",
            "\u001b[0;31mTypeError\u001b[0m                                 Traceback (most recent call last)",
            "\u001b[0;32m<ipython-input-17-2323f565b11f>\u001b[0m in \u001b[0;36m<module>\u001b[0;34m()\u001b[0m\n\u001b[0;32m----> 1\u001b[0;31m \u001b[0mf3\u001b[0m \u001b[0;34m=\u001b[0m \u001b[0mFraction\u001b[0m\u001b[0;34m(\u001b[0m\u001b[0;36m2\u001b[0m\u001b[0;34m,\u001b[0m \u001b[0;36m5.0\u001b[0m\u001b[0;34m)\u001b[0m \u001b[0;31m# 분모에 flaot형 자료형 때문에 오류발생\u001b[0m\u001b[0;34m\u001b[0m\u001b[0;34m\u001b[0m\u001b[0m\n\u001b[0m",
            "\u001b[0;32m<ipython-input-14-88523461dd49>\u001b[0m in \u001b[0;36m__init__\u001b[0;34m(self, top, bottom)\u001b[0m\n\u001b[1;32m     20\u001b[0m \u001b[0;34m\u001b[0m\u001b[0m\n\u001b[1;32m     21\u001b[0m         \u001b[0;32melse\u001b[0m\u001b[0;34m:\u001b[0m                                                    \u001b[0;31m# 정수 이외의 값이 입력되면 예외가 발생합니다.\u001b[0m\u001b[0;34m\u001b[0m\u001b[0;34m\u001b[0m\u001b[0m\n\u001b[0;32m---> 22\u001b[0;31m           \u001b[0;32mraise\u001b[0m \u001b[0mTypeError\u001b[0m\u001b[0;34m(\u001b[0m\u001b[0;34m\"분자와 분모는 정수값만 가능합니다.\"\u001b[0m\u001b[0;34m)\u001b[0m\u001b[0;34m\u001b[0m\u001b[0;34m\u001b[0m\u001b[0m\n\u001b[0m\u001b[1;32m     23\u001b[0m \u001b[0;34m\u001b[0m\u001b[0m\n\u001b[1;32m     24\u001b[0m \u001b[0;34m\u001b[0m\u001b[0m\n",
            "\u001b[0;31mTypeError\u001b[0m: 분자와 분모는 정수값만 가능합니다."
          ]
        }
      ]
    },
    {
      "cell_type": "markdown",
      "id": "cc260fe7",
      "metadata": {
        "id": "cc260fe7"
      },
      "source": [
        "**문제 7**"
      ]
    },
    {
      "cell_type": "markdown",
      "id": "4a1e4f5c",
      "metadata": {
        "id": "4a1e4f5c"
      },
      "source": [
        "앞서 사용한 유클리드 호젯법 알고리즘은 양의 정수에 대해서만 옳바르게 작동한다.\n",
        "예를 들어 아래의 경우처럼 잘못 계산한다. \n",
        "참고로 최대공약수는 항상 양수이어야 한다.\n",
        "\n",
        "```python\n",
        ">> gcd(8, -2)\n",
        "-2\n",
        "```\n",
        "\n",
        "이는 음의 분수를 사용할 때 `Fraction` 클래스의 기능에 문제가 발생할 수 있음을 의미한다.\n",
        "\n",
        "유클리드 호젯법 대신에 다른 알고리즘을 사용하는 `gcd()` 함수를 구현하고\n",
        "이를 `Fraction` 클래스에 활용하는 예제를 제시하라.\n",
        "단, 양수, 음수 모두 문제없이 처리해야 한다."
      ]
    },
    {
      "cell_type": "code",
      "execution_count": null,
      "metadata": {
        "id": "t4rqzLKLWQWT"
      },
      "outputs": [],
      "source": [
        "def gcd(m, n):        # 유클리드 호젯법이 아닌 다른 알고리즘을 사용합니다.   \n",
        "  if m < 0:          # 음수인 m과 n을 다 양수로 바꾸어줍니다.\n",
        "    m = -m\n",
        "  if n < 0:\n",
        "    n = -n \n",
        "  for i in range(min(m,n),0,-1): \n",
        "    \n",
        "    if m%i==0 and n%i==0: \n",
        "      return i\n",
        "\n",
        "class Fraction:\n",
        "    \"\"\"Fraction 클래스\"\"\"\n",
        "\n",
        "    def __init__(self, top, bottom):\n",
        "        \"\"\"생성자 메서드\n",
        "        top: 분자\n",
        "        bottom: 분모\n",
        "        \"\"\"\n",
        "        if isinstance(top, int) and isinstance(bottom, int):     # 분모와 분자의 값 정수인지 확인합니다.\n",
        "\n",
        "          if bottom < 0:             # 분모가 음수이면 양수로 만들고 분자에 그 바꾼 부호를 반영해 준다.\n",
        "            bottom = -bottom\n",
        "            top = -top\n",
        "             \n",
        "\n",
        "          common = gcd(top, bottom)        #  분자와 분모의 최대공약수를 찾습니다.\n",
        "\n",
        "          self.num = top // common          # 분자를 최대공약수로 나누어 줍니다.\n",
        "          self.den = bottom // common          # 분모를 최대공약수로 나누어 줍니다. 결국 기약 분수 꼴입니다.\n",
        "\n",
        "        else:                                                    # 정수 이외의 값이 입력되면 예외가 발생합니다.\n",
        "          raise TypeError(\"분자와 분모는 정수값만 가능합니다.\")\n",
        "\n",
        "        \n",
        "\n",
        "    def __repr__(self):               # __str__()을 __repr()__ 로 변경\n",
        "        return f\"{self.num}/{self.den}\"\n",
        "\n",
        "    def __add__(self, other_fraction):\n",
        "        new_num = self.num * other_fraction.den + \\\n",
        "                     self.den * other_fraction.num\n",
        "        new_den = self.den * other_fraction.den\n",
        "        #common = gcd(new_num, new_den)      add에서도 최대공약수를 찾을 필요 없습니다.\n",
        "        \n",
        "        return Fraction(new_num, new_den)\n",
        "    \n",
        "    def __sub__(self, other_fraction):                       # 빼기를 구현한 메서드 입니다.\n",
        "      new_num = self.num * other_fraction.den - \\\n",
        "                  self.den * other_fraction.num\n",
        "      new_den = self.den * other_fraction.den\n",
        "\n",
        "      return Fraction(new_num, new_den)\n",
        "    \n",
        "    def __mul__(self, other_fraction):                          # 곱하기를 구현한 메서드 입니다.\n",
        "      new_num = self.num * other_fraction.num\n",
        "      new_den = self.den * other_fraction.den\n",
        "\n",
        "      return Fraction(new_num, new_den)\n",
        "\n",
        "    def __truediv__(self, other_fraction):                      # 나누기를 구현한 메서드 입니다.\n",
        "      new_num = self.num * other_fraction.den\n",
        "      new_den = self.den * other_fraction.num\n",
        "\n",
        "      return Fraction(new_num, new_den)\n",
        "\n",
        "    def __eq__(self, other_fraction):\n",
        "        first_num = self.num * other_fraction.den\n",
        "        second_num = other_fraction.num * self.den\n",
        "\n",
        "        return first_num == second_num\n",
        "\n",
        "    # __gt__(), __ge__(), __lt__(), __le__(), __ne__()\n",
        "\n",
        "    def __gt__(self, other_fraction):                  # > 비교연산자를 구현합니다. 즉, 큰 경우 True를 반환합니다.\n",
        "      first_num = self.num * other_fraction.den\n",
        "      second_num = other_fraction.num * self.den\n",
        "\n",
        "      return first_num > second_num\n",
        "    \n",
        "    def __ge__(self, other_fraction):                  # >= 비교연산자를 구현합니다. 즉, 크거나 같은 경우 True를 반환합니다.\n",
        "      first_num = self.num * other_fraction.den\n",
        "      second_num = other_fraction.num * self.den\n",
        "\n",
        "      return first_num >= second_num\n",
        "\n",
        "    def __lt__(self, other_fraction):                  # < 비교연산자를 구현합니다. 즉, 작은 경우 True를 반환합니다.\n",
        "      first_num = self.num * other_fraction.den\n",
        "      second_num = other_fraction.num * self.den\n",
        "\n",
        "      return first_num < second_num\n",
        "\n",
        "    def __le__(self, other_fraction):                  # <= 비교연산자를 구현합니다. 즉, 작거나 같은 경우 True를 반환합니다.\n",
        "      first_num = self.num * other_fraction.den\n",
        "      second_num = other_fraction.num * self.den\n",
        "\n",
        "      return first_num <= second_num\n",
        "\n",
        "    def __ne__(self, other_fraction):                    # != 비교연산자를 구현합니다. 즉, 다른 경우 True를 반환합니다.\n",
        "        first_num = self.num * other_fraction.den\n",
        "        second_num = other_fraction.num * self.den\n",
        "\n",
        "        return first_num != second_num\n",
        "\n",
        "\n",
        "    \n",
        "    def get_num(self):            # 분자를 반환하는 메소드\n",
        "      return self.num\n",
        "\n",
        "    def get_den(self):            # 분모를 반환하는 메소드\n",
        "      return self.den"
      ],
      "id": "t4rqzLKLWQWT"
    },
    {
      "cell_type": "code",
      "source": [
        "print(gcd(-3, -18))       # 두 수가 음수일 때도 양수 인 최대공약수를 잘 찾는다\n",
        "print(gcd(-3, 18))          # 하나만 음수 인 경우도 잘 찾는다.\n",
        "print(gcd(3, -18))\n",
        "print(gcd(3, 18))         # 양수인 경우도 잘 찾는다."
      ],
      "metadata": {
        "colab": {
          "base_uri": "https://localhost:8080/"
        },
        "id": "uWZXcFimdi_P",
        "outputId": "8c2b8e12-08ec-4456-cc39-efb7f33f03ca"
      },
      "id": "uWZXcFimdi_P",
      "execution_count": null,
      "outputs": [
        {
          "output_type": "stream",
          "name": "stdout",
          "text": [
            "3\n",
            "3\n",
            "3\n",
            "3\n"
          ]
        }
      ]
    },
    {
      "cell_type": "code",
      "source": [
        "print(Fraction(-3, -18))        # 두 수가 음수 일 때도 잘 작동한다.\n",
        "print(Fraction(-3, 18))       # 하나가 음수 인 경우도 잘 작동한다.\n",
        "print(Fraction(3, -18))\n",
        "print(Fraction(3, 18))         # 양수인 경우도 문제없다."
      ],
      "metadata": {
        "colab": {
          "base_uri": "https://localhost:8080/"
        },
        "id": "NHG0mMbLZXsx",
        "outputId": "096a2dcf-304f-4f59-8f98-b7a459123963"
      },
      "id": "NHG0mMbLZXsx",
      "execution_count": null,
      "outputs": [
        {
          "output_type": "stream",
          "name": "stdout",
          "text": [
            "1/6\n",
            "-1/6\n",
            "-1/6\n",
            "1/6\n"
          ]
        }
      ]
    },
    {
      "cell_type": "markdown",
      "id": "098257b4",
      "metadata": {
        "id": "098257b4"
      },
      "source": [
        "**문제 8**"
      ]
    },
    {
      "cell_type": "markdown",
      "id": "86c07a11",
      "metadata": {
        "id": "86c07a11"
      },
      "source": [
        "`__radd__()` 메서드가 `__add__()` 어떻게 다른지 확인하고\n",
        "활용예제를 제시하라."
      ]
    },
    {
      "cell_type": "code",
      "source": [
        "class ExampleClass1:                   # __add__()메서드만 구현한 예제 메서드이다.\n",
        "  def __init__(self, value):\n",
        "    self.value = value\n",
        "\n",
        "  def __add__(self, add1):\n",
        "    return self.value + add1"
      ],
      "metadata": {
        "id": "8JuGZ4LigFQU"
      },
      "id": "8JuGZ4LigFQU",
      "execution_count": null,
      "outputs": []
    },
    {
      "cell_type": "code",
      "source": [
        "Ex1 = ExampleClass1(3)        # 3의 값을 가지는 ExampleClass1 클래스의 객체 생성\n",
        "\n",
        "Ex1 + 6                      # \"클래스 객체 + \" 형식의 연산을 수행하니 문제없이 수행된다."
      ],
      "metadata": {
        "colab": {
          "base_uri": "https://localhost:8080/"
        },
        "id": "-YMxlXqwg-Aw",
        "outputId": "3b45910d-30c9-4fce-8961-95106bfd1552"
      },
      "id": "-YMxlXqwg-Aw",
      "execution_count": null,
      "outputs": [
        {
          "output_type": "execute_result",
          "data": {
            "text/plain": [
              "9"
            ]
          },
          "metadata": {},
          "execution_count": 22
        }
      ]
    },
    {
      "cell_type": "code",
      "source": [
        "6 + Ex1                    # \"+ 클래스 객체\" 형식의 연산은 요류가 발생한다. + 연산 앞 뒤의 순서가 바뀌었는데 오류가 발생한다."
      ],
      "metadata": {
        "colab": {
          "base_uri": "https://localhost:8080/",
          "height": 172
        },
        "id": "FNUkV0RHhQmR",
        "outputId": "9bb3f5a0-11f8-4226-9c5d-7c8cf9c380e6"
      },
      "id": "FNUkV0RHhQmR",
      "execution_count": null,
      "outputs": [
        {
          "output_type": "error",
          "ename": "TypeError",
          "evalue": "ignored",
          "traceback": [
            "\u001b[0;31m---------------------------------------------------------------------------\u001b[0m",
            "\u001b[0;31mTypeError\u001b[0m                                 Traceback (most recent call last)",
            "\u001b[0;32m<ipython-input-23-2c277ae1231d>\u001b[0m in \u001b[0;36m<module>\u001b[0;34m()\u001b[0m\n\u001b[0;32m----> 1\u001b[0;31m \u001b[0;36m6\u001b[0m \u001b[0;34m+\u001b[0m \u001b[0mEx1\u001b[0m                    \u001b[0;31m# \"+ 클래스 객체\" 형식의 연산은 요류가 발생한다. + 연산 앞 뒤의 순서가 바뀌었는데 오류가 발생한다.\u001b[0m\u001b[0;34m\u001b[0m\u001b[0;34m\u001b[0m\u001b[0m\n\u001b[0m",
            "\u001b[0;31mTypeError\u001b[0m: unsupported operand type(s) for +: 'int' and 'ExampleClass1'"
          ]
        }
      ]
    },
    {
      "cell_type": "code",
      "source": [
        "class ExampleClass2:                 # __radd__()메서드만 구현한 예제 클래스이다\n",
        "  def __init__(self, value):\n",
        "    self.value = value\n",
        "\n",
        "  def __radd__(self, add1):\n",
        "    return self.value + add1"
      ],
      "metadata": {
        "id": "cCAxkcKfg1tB"
      },
      "id": "cCAxkcKfg1tB",
      "execution_count": null,
      "outputs": []
    },
    {
      "cell_type": "code",
      "source": [
        "Ex2 = ExampleClass2(3)        # 3의 값을 가지는 ExampleClass2 클래스의 객체 생성\n",
        "\n",
        "6 + Ex2                      # 이번에는 \"+ 클래스의 객체 \" 형식의 연산을 수행하니 문제없이 수행된다."
      ],
      "metadata": {
        "colab": {
          "base_uri": "https://localhost:8080/"
        },
        "id": "Zp61_Xpmhjnx",
        "outputId": "d915b0be-f101-403e-ac69-67d3e62fac39"
      },
      "id": "Zp61_Xpmhjnx",
      "execution_count": null,
      "outputs": [
        {
          "output_type": "execute_result",
          "data": {
            "text/plain": [
              "9"
            ]
          },
          "metadata": {},
          "execution_count": 25
        }
      ]
    },
    {
      "cell_type": "code",
      "source": [
        "Ex2 + 6                # 순서를 바꿔서 해보니 이번에는 반대로 \"클래스의 객체 +\" 형식의 연산이 오류가 난다. "
      ],
      "metadata": {
        "colab": {
          "base_uri": "https://localhost:8080/",
          "height": 172
        },
        "id": "EgoAbZ9Gh07-",
        "outputId": "e3f55327-65a9-409b-ab6c-032bfdc2954b"
      },
      "id": "EgoAbZ9Gh07-",
      "execution_count": null,
      "outputs": [
        {
          "output_type": "error",
          "ename": "TypeError",
          "evalue": "ignored",
          "traceback": [
            "\u001b[0;31m---------------------------------------------------------------------------\u001b[0m",
            "\u001b[0;31mTypeError\u001b[0m                                 Traceback (most recent call last)",
            "\u001b[0;32m<ipython-input-26-9a72fbc72df6>\u001b[0m in \u001b[0;36m<module>\u001b[0;34m()\u001b[0m\n\u001b[0;32m----> 1\u001b[0;31m \u001b[0mEx2\u001b[0m \u001b[0;34m+\u001b[0m \u001b[0;36m6\u001b[0m                \u001b[0;31m# 순서를 바꿔서 해보니 이번에는 반대로 \"클래스의 객체 +\" 형식의 연산이 오류가 난다.\u001b[0m\u001b[0;34m\u001b[0m\u001b[0;34m\u001b[0m\u001b[0m\n\u001b[0m",
            "\u001b[0;31mTypeError\u001b[0m: unsupported operand type(s) for +: 'ExampleClass2' and 'int'"
          ]
        }
      ]
    },
    {
      "cell_type": "markdown",
      "source": [
        "즉, `__add__()` 메서드는 클래스의 객체 다음에 나오는 + 연산을 지원하고\n",
        "`__radd__()` 클래스의 객체 앞에 나오는 + 연산을 지원합니다."
      ],
      "metadata": {
        "id": "9nxZE6pqiBGe"
      },
      "id": "9nxZE6pqiBGe"
    },
    {
      "cell_type": "markdown",
      "source": [
        "Fraction 클래스에 `__radd__()` 메서드를 구현해 활용 해보겠습니다."
      ],
      "metadata": {
        "id": "H5zjjSR-tsoE"
      },
      "id": "H5zjjSR-tsoE"
    },
    {
      "cell_type": "markdown",
      "source": [
        "다른 클래스와의 덧셈에서 순서가 반영되어 중요하고, 같은 클래스에 대해서 + 연산을 할 때는 add가 실행됩니다. 즉, 기준만 바뀌므로 add만 있어도 충분합니다."
      ],
      "metadata": {
        "id": "LaDprLJVyT3D"
      },
      "id": "LaDprLJVyT3D"
    },
    {
      "cell_type": "code",
      "execution_count": null,
      "metadata": {
        "id": "nWbjpTfStr39"
      },
      "outputs": [],
      "source": [
        "def gcd(m, n):        # 유클리드 호젯법이 아닌 다른 알고리즘을 사용합니다.   \n",
        "  if m < 0:          # 음수인 m과 n을 다 양수로 바꾸어줍니다.\n",
        "    m = -m\n",
        "  if n < 0:\n",
        "    n = -n \n",
        "  for i in range(min(m,n),0,-1): \n",
        "    \n",
        "    if m%i==0 and n%i==0: \n",
        "      return i\n",
        "\n",
        "class Fraction:\n",
        "    \"\"\"Fraction 클래스\"\"\"\n",
        "\n",
        "    def __init__(self, top, bottom):\n",
        "        \"\"\"생성자 메서드\n",
        "        top: 분자\n",
        "        bottom: 분모\n",
        "        \"\"\"\n",
        "        if isinstance(top, int) and isinstance(bottom, int):     # 분모와 분자의 값 정수인지 확인합니다.\n",
        "\n",
        "          if bottom < 0:             # 분모가 음수이면 양수로 만들고 분자에 그 바꾼 부호를 반영해 준다.\n",
        "            bottom = -bottom\n",
        "            top = -top\n",
        "             \n",
        "\n",
        "          common = gcd(top, bottom)        #  분자와 분모의 최대공약수를 찾습니다.\n",
        "\n",
        "          self.num = top // common          # 분자를 최대공약수로 나누어 줍니다.\n",
        "          self.den = bottom // common          # 분모를 최대공약수로 나누어 줍니다. 결국 기약 분수 꼴입니다.\n",
        "\n",
        "        else:                                                    # 정수 이외의 값이 입력되면 예외가 발생합니다.\n",
        "          raise TypeError(\"분자와 분모는 정수값만 가능합니다.\")\n",
        "\n",
        "        \n",
        "\n",
        "    def __repr__(self):               # __str__()을 __repr()__ 로 변경\n",
        "        return f\"{self.num}/{self.den}\"\n",
        "\n",
        "    def __add__(self, other_fraction):\n",
        "        new_num = self.num * other_fraction.den + \\\n",
        "                     self.den * other_fraction.num\n",
        "        new_den = self.den * other_fraction.den\n",
        "        #common = gcd(new_num, new_den)      add에서도 최대공약수를 찾을 필요 없습니다.\n",
        "        \n",
        "        return Fraction(new_num, new_den)\n",
        "    \n",
        "    def __radd__(self, int_value):           # __radd__() 메서드를 구현합니다.\n",
        "                                                  # 같은 Fraction 클래스끼리의 덧셈은 __add__()가 적용되므로 정수 + Fraction 클래스를 정의하겠습니다.\n",
        "        new_num = self.num + \\\n",
        "                  self.den * int_value            # 분수의 분자에 정수만큼을 더해줍니다.\n",
        "        new_den = self.den \n",
        "        #common = gcd(new_num, new_den)      radd에서도 최대공약수를 찾을 필요 없습니다.\n",
        "        \n",
        "        return Fraction(new_num, new_den)\n",
        "    \n",
        "    def __sub__(self, other_fraction):                       # 빼기를 구현한 메서드 입니다.\n",
        "      new_num = self.num * other_fraction.den - \\\n",
        "                  self.den * other_fraction.num\n",
        "      new_den = self.den * other_fraction.den\n",
        "\n",
        "      return Fraction(new_num, new_den)\n",
        "    \n",
        "    def __mul__(self, other_fraction):                          # 곱하기를 구현한 메서드 입니다.\n",
        "      new_num = self.num * other_fraction.num\n",
        "      new_den = self.den * other_fraction.den\n",
        "\n",
        "      return Fraction(new_num, new_den)\n",
        "\n",
        "    def __truediv__(self, other_fraction):                      # 나누기를 구현한 메서드 입니다.\n",
        "      new_num = self.num * other_fraction.den\n",
        "      new_den = self.den * other_fraction.num\n",
        "\n",
        "      return Fraction(new_num, new_den)\n",
        "\n",
        "    def __eq__(self, other_fraction):\n",
        "        first_num = self.num * other_fraction.den\n",
        "        second_num = other_fraction.num * self.den\n",
        "\n",
        "        return first_num == second_num\n",
        "\n",
        "    # __gt__(), __ge__(), __lt__(), __le__(), __ne__()\n",
        "\n",
        "    def __gt__(self, other_fraction):                  # > 비교연산자를 구현합니다. 즉, 큰 경우 True를 반환합니다.\n",
        "      first_num = self.num * other_fraction.den\n",
        "      second_num = other_fraction.num * self.den\n",
        "\n",
        "      return first_num > second_num\n",
        "    \n",
        "    def __ge__(self, other_fraction):                  # >= 비교연산자를 구현합니다. 즉, 크거나 같은 경우 True를 반환합니다.\n",
        "      first_num = self.num * other_fraction.den\n",
        "      second_num = other_fraction.num * self.den\n",
        "\n",
        "      return first_num >= second_num\n",
        "\n",
        "    def __lt__(self, other_fraction):                  # < 비교연산자를 구현합니다. 즉, 작은 경우 True를 반환합니다.\n",
        "      first_num = self.num * other_fraction.den\n",
        "      second_num = other_fraction.num * self.den\n",
        "\n",
        "      return first_num < second_num\n",
        "\n",
        "    def __le__(self, other_fraction):                  # <= 비교연산자를 구현합니다. 즉, 작거나 같은 경우 True를 반환합니다.\n",
        "      first_num = self.num * other_fraction.den\n",
        "      second_num = other_fraction.num * self.den\n",
        "\n",
        "      return first_num <= second_num\n",
        "\n",
        "    def __ne__(self, other_fraction):                    # != 비교연산자를 구현합니다. 즉, 다른 경우 True를 반환합니다.\n",
        "        first_num = self.num * other_fraction.den\n",
        "        second_num = other_fraction.num * self.den\n",
        "\n",
        "        return first_num != second_num\n",
        "\n",
        "\n",
        "    \n",
        "    def get_num(self):            # 분자를 반환하는 메소드\n",
        "      return self.num\n",
        "\n",
        "    def get_den(self):            # 분모를 반환하는 메소드\n",
        "      return self.den"
      ],
      "id": "nWbjpTfStr39"
    },
    {
      "cell_type": "code",
      "source": [
        "# 활용예제\n",
        "\n",
        "f1 = Fraction(2, 3)           # 분수 2/3입니다.\n",
        "\n",
        "3 + f1             # 정수 3을 더해줍니다. "
      ],
      "metadata": {
        "colab": {
          "base_uri": "https://localhost:8080/"
        },
        "id": "rsaf4SFP1n2r",
        "outputId": "75b8327b-bb41-4c5c-afa2-0889d188ebbc"
      },
      "id": "rsaf4SFP1n2r",
      "execution_count": null,
      "outputs": [
        {
          "output_type": "execute_result",
          "data": {
            "text/plain": [
              "11/3"
            ]
          },
          "metadata": {},
          "execution_count": 28
        }
      ]
    },
    {
      "cell_type": "markdown",
      "id": "280719fb",
      "metadata": {
        "id": "280719fb"
      },
      "source": [
        "**문제 9**"
      ]
    },
    {
      "cell_type": "markdown",
      "id": "5e89e34a",
      "metadata": {
        "id": "5e89e34a"
      },
      "source": [
        "`__iadd__()` 메서드가 `__add__()` 어떻게 다른지 확인하고\n",
        "활용예제를 제시하라."
      ]
    },
    {
      "cell_type": "markdown",
      "source": [
        "`__iadd__()` 메서드는 변경할 수 있는 클래스에서만 사용가능합니다. 문자열이나 정수형 같이 변경할 수 없는 클래스의 경우에는 += 연산자를 사용할 수 있습니다."
      ],
      "metadata": {
        "id": "apt1loTCnVKR"
      },
      "id": "apt1loTCnVKR"
    },
    {
      "cell_type": "code",
      "source": [
        "a = [1]                    # a를 임의의 리스트로 주었습니다. \n",
        "print(a.__add__([2]))      # __add__() 메서드를 실행해 보겠습니다.\n",
        "print(a)                   # a를 확인해보겠습니다.\n",
        "print(a.__iadd__([3]))     # __iadd__() 메서드를 실행해 보겠습니다.\n",
        "print(a)                   # a를 확인해보겠습니다.\n"
      ],
      "metadata": {
        "colab": {
          "base_uri": "https://localhost:8080/"
        },
        "id": "Ig8ccYNIlZtX",
        "outputId": "cc8b2e1a-f901-4171-aefe-222d1bb71981"
      },
      "id": "Ig8ccYNIlZtX",
      "execution_count": null,
      "outputs": [
        {
          "output_type": "stream",
          "name": "stdout",
          "text": [
            "[1, 2]\n",
            "[1]\n",
            "[1, 3]\n",
            "[1, 3]\n"
          ]
        }
      ]
    },
    {
      "cell_type": "markdown",
      "source": [
        "`__add__()`메서드는 덧셈 연산을 수행하고 그 결과를 다시 a에 저장하지 않지만, `__iadd__()`메서드는 덧셈 연산을 수행하고 그 결과를 다시 a에 저장합니다. 따라서 다시 a에 그 결과를 저장하고 안하고의 차이가 있습니다."
      ],
      "metadata": {
        "id": "wG5poaXHn_Ba"
      },
      "id": "wG5poaXHn_Ba"
    },
    {
      "cell_type": "markdown",
      "source": [
        "Fraction 클래스에서 `__iadd__()`메서드를 구현하여 활용해보겠습니다."
      ],
      "metadata": {
        "id": "hhnKBOkJvwyr"
      },
      "id": "hhnKBOkJvwyr"
    },
    {
      "cell_type": "code",
      "execution_count": null,
      "metadata": {
        "id": "Bky2MCU5uYr2"
      },
      "outputs": [],
      "source": [
        "def gcd(m, n):        # 유클리드 호젯법이 아닌 다른 알고리즘을 사용합니다.   \n",
        "  if m < 0:          # 음수인 m과 n을 다 양수로 바꾸어줍니다.\n",
        "    m = -m\n",
        "  if n < 0:\n",
        "    n = -n \n",
        "  for i in range(min(m,n),0,-1): \n",
        "    \n",
        "    if m%i==0 and n%i==0: \n",
        "      return i\n",
        "\n",
        "class Fraction:\n",
        "    \"\"\"Fraction 클래스\"\"\"\n",
        "\n",
        "    def __init__(self, top, bottom):\n",
        "        \"\"\"생성자 메서드\n",
        "        top: 분자\n",
        "        bottom: 분모\n",
        "        \"\"\"\n",
        "        if isinstance(top, int) and isinstance(bottom, int):     # 분모와 분자의 값 정수인지 확인합니다.\n",
        "\n",
        "          if bottom < 0:             # 분모가 음수이면 양수로 만들고 분자에 그 바꾼 부호를 반영해 준다.\n",
        "            bottom = -bottom\n",
        "            top = -top\n",
        "             \n",
        "\n",
        "          common = gcd(top, bottom)        #  분자와 분모의 최대공약수를 찾습니다.\n",
        "\n",
        "          self.num = top // common          # 분자를 최대공약수로 나누어 줍니다.\n",
        "          self.den = bottom // common          # 분모를 최대공약수로 나누어 줍니다. 결국 기약 분수 꼴입니다.\n",
        "\n",
        "        else:                                                    # 정수 이외의 값이 입력되면 예외가 발생합니다.\n",
        "          raise TypeError(\"분자와 분모는 정수값만 가능합니다.\")\n",
        "\n",
        "        \n",
        "\n",
        "    def __repr__(self):               # __str__()을 __repr()__ 로 변경\n",
        "        return f\"{self.num}/{self.den}\"\n",
        "\n",
        "    def __add__(self, other_fraction):\n",
        "        new_num = self.num * other_fraction.den + \\\n",
        "                     self.den * other_fraction.num\n",
        "        new_den = self.den * other_fraction.den\n",
        "        #common = gcd(new_num, new_den)      add에서도 최대공약수를 찾을 필요 없습니다.\n",
        "        \n",
        "        return Fraction(new_num, new_den)\n",
        "    \n",
        "    def __radd__(self, int_value):           # __radd__() 메서드를 구현합니다.\n",
        "                                                  # 같은 Fraction 클래스끼리의 덧셈은 __add__()가 적용되므로 정수 + Fraction 클래스를 정의하겠습니다.\n",
        "        new_num = self.num + \\\n",
        "                  self.den * int_value            # 분수의 분자에 정수만큼을 더해줍니다.\n",
        "        new_den = self.den \n",
        "        #common = gcd(new_num, new_den)      radd에서도 최대공약수를 찾을 필요 없습니다.\n",
        "        \n",
        "        return Fraction(new_num, new_den)\n",
        "    \n",
        "    def __iadd__(self, other_fraction):            # __iadd__() 메서드를 구현합니다.\n",
        "      new_num = self.num * other_fraction.den + \\\n",
        "                     self.den * other_fraction.num\n",
        "      new_den = self.den * other_fraction.den\n",
        "      common = gcd(new_num, new_den)      # iadd에서는 새로운 Fraction 객체를 만들지 않으므로 최대공약수를 최대공약수를 찾아서 활용합니다..\n",
        "      self.num = new_num // common\n",
        "      self.den = new_den // common\n",
        "      \n",
        "\n",
        "      return self\n",
        "    \n",
        "    def __sub__(self, other_fraction):                       # 빼기를 구현한 메서드 입니다.\n",
        "      new_num = self.num * other_fraction.den - \\\n",
        "                  self.den * other_fraction.num\n",
        "      new_den = self.den * other_fraction.den\n",
        "\n",
        "      return Fraction(new_num, new_den)\n",
        "    \n",
        "    def __mul__(self, other_fraction):                          # 곱하기를 구현한 메서드 입니다.\n",
        "      new_num = self.num * other_fraction.num\n",
        "      new_den = self.den * other_fraction.den\n",
        "\n",
        "      return Fraction(new_num, new_den)\n",
        "\n",
        "    def __truediv__(self, other_fraction):                      # 나누기를 구현한 메서드 입니다.\n",
        "      new_num = self.num * other_fraction.den\n",
        "      new_den = self.den * other_fraction.num\n",
        "\n",
        "      return Fraction(new_num, new_den)\n",
        "\n",
        "    def __eq__(self, other_fraction):\n",
        "        first_num = self.num * other_fraction.den\n",
        "        second_num = other_fraction.num * self.den\n",
        "\n",
        "        return first_num == second_num\n",
        "\n",
        "    # __gt__(), __ge__(), __lt__(), __le__(), __ne__()\n",
        "\n",
        "    def __gt__(self, other_fraction):                  # > 비교연산자를 구현합니다. 즉, 큰 경우 True를 반환합니다.\n",
        "      first_num = self.num * other_fraction.den\n",
        "      second_num = other_fraction.num * self.den\n",
        "\n",
        "      return first_num > second_num\n",
        "    \n",
        "    def __ge__(self, other_fraction):                  # >= 비교연산자를 구현합니다. 즉, 크거나 같은 경우 True를 반환합니다.\n",
        "      first_num = self.num * other_fraction.den\n",
        "      second_num = other_fraction.num * self.den\n",
        "\n",
        "      return first_num >= second_num\n",
        "\n",
        "    def __lt__(self, other_fraction):                  # < 비교연산자를 구현합니다. 즉, 작은 경우 True를 반환합니다.\n",
        "      first_num = self.num * other_fraction.den\n",
        "      second_num = other_fraction.num * self.den\n",
        "\n",
        "      return first_num < second_num\n",
        "\n",
        "    def __le__(self, other_fraction):                  # <= 비교연산자를 구현합니다. 즉, 작거나 같은 경우 True를 반환합니다.\n",
        "      first_num = self.num * other_fraction.den\n",
        "      second_num = other_fraction.num * self.den\n",
        "\n",
        "      return first_num <= second_num\n",
        "\n",
        "    def __ne__(self, other_fraction):                    # != 비교연산자를 구현합니다. 즉, 다른 경우 True를 반환합니다.\n",
        "        first_num = self.num * other_fraction.den\n",
        "        second_num = other_fraction.num * self.den\n",
        "\n",
        "        return first_num != second_num\n",
        "\n",
        "\n",
        "    \n",
        "    def get_num(self):            # 분자를 반환하는 메소드\n",
        "      return self.num\n",
        "\n",
        "    def get_den(self):            # 분모를 반환하는 메소드\n",
        "      return self.den"
      ],
      "id": "Bky2MCU5uYr2"
    },
    {
      "cell_type": "code",
      "source": [
        "# 활용 예제\n",
        "\n",
        "f1 = Fraction(1, 4)     \n",
        "\n",
        "f1 += f1        # __iadd__() 메서드가 호출됩니다.\n",
        "f1"
      ],
      "metadata": {
        "colab": {
          "base_uri": "https://localhost:8080/"
        },
        "id": "Xx2ucCH9wdDC",
        "outputId": "2e998a54-c221-4199-b626-f9ea44a8866e"
      },
      "id": "Xx2ucCH9wdDC",
      "execution_count": null,
      "outputs": [
        {
          "output_type": "execute_result",
          "data": {
            "text/plain": [
              "1/2"
            ]
          },
          "metadata": {},
          "execution_count": 31
        }
      ]
    },
    {
      "cell_type": "markdown",
      "id": "0f9a4999",
      "metadata": {
        "id": "0f9a4999"
      },
      "source": [
        "**문제 10**"
      ]
    },
    {
      "cell_type": "markdown",
      "id": "e9f532b3",
      "metadata": {
        "id": "e9f532b3"
      },
      "source": [
        "컴퓨터가 제공하는 부동소수점은 불완전하다.\n",
        "예를 들어, 아래 코드는 100만분의 1을 100만번 더했을 때 \n",
        "1이 계산되지 않음을 보여준다."
      ]
    },
    {
      "cell_type": "code",
      "execution_count": null,
      "id": "0efa98a7",
      "metadata": {
        "id": "0efa98a7",
        "outputId": "9a8c9576-0b26-4166-bcba-44c5c27fa6f2",
        "colab": {
          "base_uri": "https://localhost:8080/"
        }
      },
      "outputs": [
        {
          "output_type": "stream",
          "name": "stdout",
          "text": [
            "1.000000000007918\n",
            "False\n"
          ]
        }
      ],
      "source": [
        "x = 0.000001\n",
        "y = 0\n",
        "\n",
        "for _ in range(1000000):\n",
        "    y += x\n",
        "\n",
        "print(y)\n",
        "print(y == 1)"
      ]
    },
    {
      "cell_type": "markdown",
      "id": "29787b22",
      "metadata": {
        "id": "29787b22"
      },
      "source": [
        "분수 클래스 `Fraction`를 이용하면 보다 엄밀한 계산이 가능함을 보여라."
      ]
    },
    {
      "cell_type": "markdown",
      "source": [
        "GPU를 사용하지 않으면 시간이 엄청 오래 걸린다. 기존의 최대공약수를 구하는 gcd()의 방법이 문제가 됨을 파악하여 math 모듈을 임포트하여 math에 있는 최대공약수를 구하는 함수인 math.gcd() 함수를 이용하였다."
      ],
      "metadata": {
        "id": "wGDdFm_e2kv0"
      },
      "id": "wGDdFm_e2kv0"
    },
    {
      "cell_type": "code",
      "execution_count": null,
      "metadata": {
        "id": "A3meXVqO21IO"
      },
      "outputs": [],
      "source": [
        "import math\n",
        "\n",
        "def gcd(m, n):        # 유클리드 호젯법이 아닌 다른 알고리즘을 사용합니다.   \n",
        "  if m < 0:          # 음수인 m과 n을 다 양수로 바꾸어줍니다.\n",
        "    m = -m\n",
        "  if n < 0:\n",
        "    n = -n \n",
        "  for i in range(min(m,n),0,-1): \n",
        "    \n",
        "    if m%i==0 and n%i==0: \n",
        "      return i\n",
        "\n",
        "class Fraction:\n",
        "    \"\"\"Fraction 클래스\"\"\"\n",
        "\n",
        "    def __init__(self, top, bottom):\n",
        "        \"\"\"생성자 메서드\n",
        "        top: 분자\n",
        "        bottom: 분모\n",
        "        \"\"\"\n",
        "        if isinstance(top, int) and isinstance(bottom, int):     # 분모와 분자의 값 정수인지 확인합니다.\n",
        "\n",
        "          if bottom < 0:             # 분모가 음수이면 양수로 만들고 분자에 그 바꾼 부호를 반영해 준다.\n",
        "            bottom = -bottom\n",
        "            top = -top\n",
        "             \n",
        "\n",
        "          common = gcd(top, bottom)        #  분자와 분모의 최대공약수를 찾습니다.\n",
        "\n",
        "          self.num = top // common          # 분자를 최대공약수로 나누어 줍니다.\n",
        "          self.den = bottom // common          # 분모를 최대공약수로 나누어 줍니다. 결국 기약 분수 꼴입니다.\n",
        "\n",
        "        else:                                                    # 정수 이외의 값이 입력되면 예외가 발생합니다.\n",
        "          raise TypeError(\"분자와 분모는 정수값만 가능합니다.\")\n",
        "\n",
        "        \n",
        "\n",
        "    def __repr__(self):               # __str__()을 __repr()__ 로 변경\n",
        "        return f\"{self.num}/{self.den}\"\n",
        "\n",
        "    def __add__(self, other_fraction):\n",
        "        new_num = self.num * other_fraction.den + \\\n",
        "                     self.den * other_fraction.num\n",
        "        new_den = self.den * other_fraction.den\n",
        "        #common = gcd(new_num, new_den)      add에서도 최대공약수를 찾을 필요 없습니다.\n",
        "        \n",
        "        return Fraction(new_num, new_den)\n",
        "    \n",
        "    def __radd__(self, int_value):           # __radd__() 메서드를 구현합니다.\n",
        "                                                  # 같은 Fraction 클래스끼리의 덧셈은 __add__()가 적용되므로 정수 + Fraction 클래스를 정의하겠습니다.\n",
        "        new_num = self.num + \\\n",
        "                  self.den * int_value            # 분수의 분자에 정수만큼을 더해줍니다.\n",
        "        new_den = self.den \n",
        "        #common = gcd(new_num, new_den)      radd에서도 최대공약수를 찾을 필요 없습니다.\n",
        "        \n",
        "        return Fraction(new_num, new_den)\n",
        "    \n",
        "    def __iadd__(self, other_fraction):            # __iadd__() 메서드를 구현합니다.\n",
        "      new_num = self.num * other_fraction.den + \\\n",
        "                     self.den * other_fraction.num\n",
        "      new_den = self.den * other_fraction.den\n",
        "      common = math.gcd(new_num, new_den)      # iadd에서는 새로운 Fraction 객체를 만들지 않으므로 최대공약수를 최대공약수를 찾아서 활용합니다.\n",
        "                                              # math를 이용하였다. math.gdc()함수 이용.\n",
        "      self.num = new_num // common\n",
        "      self.den = new_den // common\n",
        "      \n",
        "\n",
        "      return self\n",
        "    \n",
        "    def __sub__(self, other_fraction):                       # 빼기를 구현한 메서드 입니다.\n",
        "      new_num = self.num * other_fraction.den - \\\n",
        "                  self.den * other_fraction.num\n",
        "      new_den = self.den * other_fraction.den\n",
        "\n",
        "      return Fraction(new_num, new_den)\n",
        "    \n",
        "    def __mul__(self, other_fraction):                          # 곱하기를 구현한 메서드 입니다.\n",
        "      new_num = self.num * other_fraction.num\n",
        "      new_den = self.den * other_fraction.den\n",
        "\n",
        "      return Fraction(new_num, new_den)\n",
        "\n",
        "    def __truediv__(self, other_fraction):                      # 나누기를 구현한 메서드 입니다.\n",
        "      new_num = self.num * other_fraction.den\n",
        "      new_den = self.den * other_fraction.num\n",
        "\n",
        "      return Fraction(new_num, new_den)\n",
        "\n",
        "    def __eq__(self, other_fraction):\n",
        "        first_num = self.num * other_fraction.den\n",
        "        second_num = other_fraction.num * self.den\n",
        "\n",
        "        return first_num == second_num\n",
        "\n",
        "    # __gt__(), __ge__(), __lt__(), __le__(), __ne__()\n",
        "\n",
        "    def __gt__(self, other_fraction):                  # > 비교연산자를 구현합니다. 즉, 큰 경우 True를 반환합니다.\n",
        "      first_num = self.num * other_fraction.den\n",
        "      second_num = other_fraction.num * self.den\n",
        "\n",
        "      return first_num > second_num\n",
        "    \n",
        "    def __ge__(self, other_fraction):                  # >= 비교연산자를 구현합니다. 즉, 크거나 같은 경우 True를 반환합니다.\n",
        "      first_num = self.num * other_fraction.den\n",
        "      second_num = other_fraction.num * self.den\n",
        "\n",
        "      return first_num >= second_num\n",
        "\n",
        "    def __lt__(self, other_fraction):                  # < 비교연산자를 구현합니다. 즉, 작은 경우 True를 반환합니다.\n",
        "      first_num = self.num * other_fraction.den\n",
        "      second_num = other_fraction.num * self.den\n",
        "\n",
        "      return first_num < second_num\n",
        "\n",
        "    def __le__(self, other_fraction):                  # <= 비교연산자를 구현합니다. 즉, 작거나 같은 경우 True를 반환합니다.\n",
        "      first_num = self.num * other_fraction.den\n",
        "      second_num = other_fraction.num * self.den\n",
        "\n",
        "      return first_num <= second_num\n",
        "\n",
        "    def __ne__(self, other_fraction):                    # != 비교연산자를 구현합니다. 즉, 다른 경우 True를 반환합니다.\n",
        "        first_num = self.num * other_fraction.den\n",
        "        second_num = other_fraction.num * self.den\n",
        "\n",
        "        return first_num != second_num\n",
        "\n",
        "\n",
        "    \n",
        "    def get_num(self):            # 분자를 반환하는 메소드\n",
        "      return self.num\n",
        "\n",
        "    def get_den(self):            # 분모를 반환하는 메소드\n",
        "      return self.den"
      ],
      "id": "A3meXVqO21IO"
    },
    {
      "cell_type": "markdown",
      "source": [
        "이제 본격적으로 확인해보자."
      ],
      "metadata": {
        "id": "YzwkJOjz3hpR"
      },
      "id": "YzwkJOjz3hpR"
    },
    {
      "cell_type": "code",
      "source": [
        "x = Fraction(1, 1000000)           # 100만분의 1입니다.\n",
        "start = Fraction(1, 1000000)           # 처음에 더해줄 Fraction 클래스 입니다.\n",
        "\n",
        "for _ in range(1, 1000000):       # 100만분의 1을 100만번 더하는 것입니다. 100만 분의 1에 다가 100만분의 1을 999999번 더하는 겁니다.      \n",
        "  start += x                          \n",
        "\n",
        "print(start)                       # x의 값을 확인합니다.\n",
        "print(start == Fraction(1,1))      # 1과 같은지 확인합니다."
      ],
      "metadata": {
        "colab": {
          "base_uri": "https://localhost:8080/"
        },
        "id": "58BbPNveoR9T",
        "outputId": "3fd81426-d9f0-4b6a-b943-c965fa28e461"
      },
      "id": "58BbPNveoR9T",
      "execution_count": null,
      "outputs": [
        {
          "output_type": "stream",
          "name": "stdout",
          "text": [
            "1/1\n",
            "True\n"
          ]
        }
      ]
    },
    {
      "cell_type": "markdown",
      "source": [
        "Fraction 클래스를 이용하니 엄밀한 계산이 가능하다. 부동소수점이 아닌 int 정수 계산을 기반으로 하기 때문이다."
      ],
      "metadata": {
        "id": "OdZRVlSB6Int"
      },
      "id": "OdZRVlSB6Int"
    }
  ],
  "metadata": {
    "kernelspec": {
      "display_name": "Python 3 (ipykernel)",
      "language": "python",
      "name": "python3"
    },
    "language_info": {
      "codemirror_mode": {
        "name": "ipython",
        "version": 3
      },
      "file_extension": ".py",
      "mimetype": "text/x-python",
      "name": "python",
      "nbconvert_exporter": "python",
      "pygments_lexer": "ipython3",
      "version": "3.9.7"
    },
    "colab": {
      "name": "2016250012 김진상 파이썬 7차",
      "provenance": [],
      "collapsed_sections": [],
      "include_colab_link": true
    },
    "accelerator": "GPU"
  },
  "nbformat": 4,
  "nbformat_minor": 5
}