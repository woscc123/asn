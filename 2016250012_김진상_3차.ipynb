{
  "cells": [
    {
      "cell_type": "markdown",
      "metadata": {
        "id": "view-in-github",
        "colab_type": "text"
      },
      "source": [
        "<a href=\"https://colab.research.google.com/github/woscc123/asn/blob/master/2016250012_%EA%B9%80%EC%A7%84%EC%83%81_3%EC%B0%A8.ipynb\" target=\"_parent\"><img src=\"https://colab.research.google.com/assets/colab-badge.svg\" alt=\"Open In Colab\"/></a>"
      ]
    },
    {
      "cell_type": "markdown",
      "id": "2d03d247-e2d3-4afe-ab5e-83dc989ed62d",
      "metadata": {
        "id": "2d03d247-e2d3-4afe-ab5e-83dc989ed62d"
      },
      "source": [
        "# (실습) 기본자료형"
      ]
    },
    {
      "cell_type": "markdown",
      "id": "fd12dc3c",
      "metadata": {
        "id": "fd12dc3c"
      },
      "source": [
        "**문제 1**"
      ]
    },
    {
      "cell_type": "markdown",
      "id": "1539888f",
      "metadata": {
        "id": "1539888f"
      },
      "source": [
        "`input()` 함수를 이용하여 입력받은 정수를 지정된 방식으로 출력하는 코드를 작성하라.\n",
        "단, 정수는 최대 6자리의 수를 입력한다고 가정한다.\n",
        "\n",
        "입력: \n",
        "\n",
        "```python\n",
        "123\n",
        "```\n",
        "\n",
        "출력:\n",
        "\n",
        "```python\n",
        "입력하신 숫자는 000123입니다.\n",
        "```"
      ]
    },
    {
      "cell_type": "code",
      "execution_count": null,
      "id": "7a594361",
      "metadata": {
        "id": "7a594361",
        "colab": {
          "base_uri": "https://localhost:8080/"
        },
        "outputId": "306b8d5c-4ef8-44fb-e169-896d28314715"
      },
      "outputs": [
        {
          "output_type": "stream",
          "name": "stdout",
          "text": [
            "123\n",
            "입력하신 숫자는 000123입니다.\n"
          ]
        }
      ],
      "source": [
        "# 코드를 작성하세요.\n",
        "# 필요하면 코드셀 또는 텍스트셀을 추가할 수 있습니다.\n",
        "\n",
        "N = input()                              # 사용자로부터 문자열을 입력을 받습니다.\n",
        "\n",
        "print(f'입력하신 숫자는 {N:0>6}입니다.')  # 문자열 포멧팅을 이용하여 print()함수로 출력합니다."
      ]
    },
    {
      "cell_type": "markdown",
      "id": "e6920a3e",
      "metadata": {
        "id": "e6920a3e"
      },
      "source": [
        " **문제 2**"
      ]
    },
    {
      "cell_type": "markdown",
      "id": "6f1738d6",
      "metadata": {
        "id": "6f1738d6"
      },
      "source": [
        "오늘의 요일이 주어질 때, 100일 후의 요일을 출력하는 코드를 작성하여라.\n",
        "단, 일, 월, 화, 수, 목, 금, 토, 일 각각은 0, 1, 2, 3, 4, 5, 6 으로 대신한다.\n",
        "\n",
        "입력:\n",
        "\n",
        "```python\n",
        "2\n",
        "```\n",
        "\n",
        "출력:\n",
        "\n",
        "```python\n",
        "4\n",
        "```"
      ]
    },
    {
      "cell_type": "code",
      "execution_count": null,
      "id": "6d0bc43b",
      "metadata": {
        "id": "6d0bc43b",
        "colab": {
          "base_uri": "https://localhost:8080/"
        },
        "outputId": "1f13efc2-fd7a-4f60-8119-a3b8fde0b3ca"
      },
      "outputs": [
        {
          "output_type": "stream",
          "name": "stdout",
          "text": [
            "2\n",
            "4\n"
          ]
        }
      ],
      "source": [
        "# 코드를 작성하세요.\n",
        "# 필요하면 코드셀 또는 텍스트셀을 추가할 수 있습니다.\n",
        "\n",
        "today = int(input())       # 오늘의 날짜를 숫자로 입력 받습니다. 그리고 int 형으로 형변환합니다.\n",
        "\n",
        "later = (today + 100) % 7          # 100일 후 이므로 100을 today에 더해준다. 그리고 일주일은 7일 이기에 7로 나눈 나머지가 그 100일 후 요일에 해당된다.\n",
        "\n",
        "print(later)               # 100일 후 요일을 출력한다."
      ]
    },
    {
      "cell_type": "markdown",
      "id": "f8b61e28",
      "metadata": {
        "id": "f8b61e28"
      },
      "source": [
        "**문제 3**"
      ]
    },
    {
      "cell_type": "markdown",
      "id": "a96e8d1d",
      "metadata": {
        "id": "a96e8d1d"
      },
      "source": [
        "홍길동의 주민등록번호는 881120-1068234이다.\n",
        "홍길동의 주민등록번호를 연월일(YYYYMMDD) 부분과 그 뒤의 숫자 부분으로 나누어 출력해 보자.\n",
        "\n",
        "힌트: 문자열 슬라이싱을 활용한다."
      ]
    },
    {
      "cell_type": "code",
      "execution_count": null,
      "id": "a0a18ca2",
      "metadata": {
        "id": "a0a18ca2",
        "colab": {
          "base_uri": "https://localhost:8080/"
        },
        "outputId": "39b9c923-367c-4c10-873f-ccb533f60bfb"
      },
      "outputs": [
        {
          "output_type": "stream",
          "name": "stdout",
          "text": [
            "연월일 부분은 881120이고, 뒷 부분은 1068234입니다.\n"
          ]
        }
      ],
      "source": [
        "# 코드를 작성하세요.\n",
        "# 필요하면 코드셀 또는 텍스트셀을 추가할 수 있습니다.\n",
        "\n",
        "hong = '881120-1068234'\n",
        "\n",
        "first_part = hong[:6]\n",
        "\n",
        "second_part = hong[7:]\n",
        "\n",
        "print(f\"연월일 부분은 {first_part}이고, 뒷 부분은 {second_part}입니다.\")\n",
        "\n",
        "\n",
        "\n"
      ]
    },
    {
      "cell_type": "markdown",
      "id": "df172b35",
      "metadata": {
        "id": "df172b35"
      },
      "source": [
        "**문제 4**"
      ]
    },
    {
      "cell_type": "markdown",
      "id": "bb93953a",
      "metadata": {
        "id": "bb93953a"
      },
      "source": [
        "주민등록번호 뒷자리의 맨 첫 번째 숫자는 성별을 나타낸다. 주민등록번호에서 성별을 나타내는 숫자를 출력해 보자.\n",
        "\n",
        "힌트: 문자열 인덱싱을 활용한다."
      ]
    },
    {
      "cell_type": "code",
      "execution_count": null,
      "id": "38449d7a",
      "metadata": {
        "id": "38449d7a",
        "colab": {
          "base_uri": "https://localhost:8080/"
        },
        "outputId": "bb2772c2-4ae4-44d1-c2e3-c4d529b6dd6b"
      },
      "outputs": [
        {
          "output_type": "stream",
          "name": "stdout",
          "text": [
            "(앞6자리)-(뒷7자리) 형식에 맞게 써주세요 : 970727-1234567\n",
            "1 이고, 남자입니다.\n"
          ]
        }
      ],
      "source": [
        "# 코드를 작성하세요.\n",
        "# 필요하면 코드셀 또는 텍스트셀을 추가할 수 있습니다.\n",
        "number = input(\"(앞6자리)-(뒷7자리) 형식에 맞게 써주세요 : \")   # 입력을 받습니다.\n",
        "\n",
        "if number[7] == \"1\" :                           # 문자열 비교를 통해 \"1\"이면\n",
        "  print(f\"{number[7]} 이고, 남자입니다.\")       # 남자라고 출력합니다.\n",
        "elif number[7] == \"2\":                          # 문자열 비교로 \"2\"이면\n",
        "  print(f\"{number[7]} 이고, 여자입니다.\")       # 여자라고 출력합니다."
      ]
    },
    {
      "cell_type": "markdown",
      "id": "2ed2bcc5",
      "metadata": {
        "id": "2ed2bcc5"
      },
      "source": [
        "**문제 5**"
      ]
    },
    {
      "cell_type": "markdown",
      "id": "4331ac83",
      "metadata": {
        "id": "4331ac83"
      },
      "source": [
        "다음과 같이 `a`, `b` 두 변수를 선언한 후 `a` 의 두 번째 요솟값을 변경하면 `b` 의 값은 \n",
        "어떻게 되는지 확인하고 그 이유를 설명하라.\n",
        "\n",
        "```python\n",
        ">>> a = b = [1, 2, 3]\n",
        ">>> a[1] = 4\n",
        ">>> print(b)\n",
        "[1, 2, 4]\n",
        "```"
      ]
    },
    {
      "cell_type": "code",
      "execution_count": null,
      "id": "295df44f",
      "metadata": {
        "id": "295df44f",
        "colab": {
          "base_uri": "https://localhost:8080/"
        },
        "outputId": "93b053b6-0624-47d5-ed02-a7d31ba9fa92"
      },
      "outputs": [
        {
          "output_type": "stream",
          "name": "stdout",
          "text": [
            "[1, 4, 3]\n"
          ]
        }
      ],
      "source": [
        "# 코드를 작성하세요.\n",
        "# 필요하면 코드셀 또는 텍스트셀을 추가할 수 있습니다.\n",
        "\n",
        "\n",
        "a = b = [1, 2, 3]\n",
        "a[1] = 4\n",
        "print(b)"
      ]
    },
    {
      "cell_type": "markdown",
      "source": [
        "b의 두번 째 요소가 변경된 상태로 출력됩니다. 이유는 a와 b는 같은 메모리의 값을 참조하고 있기 때문입니다. 즉, 같은 값에 대해 접근할 수 있는 변수가 2개인 것입니다."
      ],
      "metadata": {
        "id": "s4P-EGQ64DhY"
      },
      "id": "s4P-EGQ64DhY"
    },
    {
      "cell_type": "code",
      "source": [
        "# 확인해 보겠습니다.\n",
        "\n",
        "print(id(a))   # id 함수는 변수가 참조하는 메모리 주소를 보여줍니다.\n",
        "print(id(b))\n",
        "\n",
        "print(id(a) == id(b))  # 즉 서로 참조하는 메모리 주소가 같다는 말입니다.\n",
        "\n",
        "# 다시 한번 말하자면 a와 b는 같은 메모리의 주소를 가르키기에 a를 통해 값을 바꾸었다고 하더라도 그 값은 b도 참조하고 있기에\n",
        "# b로 접근하여도 변경된 정보가 반영되어 반환됩니다. 하나의 값에 대해 참조하는 변수가 2개인 것입니다. "
      ],
      "metadata": {
        "colab": {
          "base_uri": "https://localhost:8080/"
        },
        "id": "6Wb1YheW4Nz_",
        "outputId": "f27bf2e6-aa9d-4492-9419-a99a0e57d32a"
      },
      "id": "6Wb1YheW4Nz_",
      "execution_count": null,
      "outputs": [
        {
          "output_type": "stream",
          "name": "stdout",
          "text": [
            "139759949627056\n",
            "139759949627056\n",
            "True\n"
          ]
        }
      ]
    },
    {
      "cell_type": "markdown",
      "id": "036a132a",
      "metadata": {
        "id": "036a132a"
      },
      "source": [
        "**문제 6**"
      ]
    },
    {
      "cell_type": "markdown",
      "id": "9003b7a9",
      "metadata": {
        "id": "9003b7a9"
      },
      "source": [
        "과일 이름으로 구성된 문자열 하나가 주어졌다."
      ]
    },
    {
      "cell_type": "code",
      "execution_count": null,
      "id": "fc8642e5",
      "metadata": {
        "id": "fc8642e5"
      },
      "outputs": [],
      "source": [
        "fruit = \"banana apple orange pineapple mango strawberry cherry\""
      ]
    },
    {
      "cell_type": "markdown",
      "id": "4fa6ee61",
      "metadata": {
        "id": "4fa6ee61"
      },
      "source": [
        "(1) `fruit` 변수로부터 her 문자열을 추출하는 코드를 작성하여라."
      ]
    },
    {
      "cell_type": "code",
      "execution_count": null,
      "id": "8afad734",
      "metadata": {
        "id": "8afad734",
        "colab": {
          "base_uri": "https://localhost:8080/",
          "height": 35
        },
        "outputId": "f6c52cfd-8003-4850-83a6-292ed44f4508"
      },
      "outputs": [
        {
          "output_type": "execute_result",
          "data": {
            "text/plain": [
              "'her'"
            ],
            "application/vnd.google.colaboratory.intrinsic+json": {
              "type": "string"
            }
          },
          "metadata": {},
          "execution_count": 8
        }
      ],
      "source": [
        "# 코드를 작성하세요.\n",
        "# 필요하면 코드셀 또는 텍스트셀을 추가할 수 있습니다.\n",
        "\n",
        "\n",
        "fruits = list(fruit.split())    # 먼저 fruit 문자열에 포함된 과일 이름들을 공백으로 나눠서 리스트 형태로 저장합니다.\n",
        "\n",
        "fruits[-1][1:4]            # 마지막 요소인 cherry에서 2번째부터 4번째 문자열까지 추출해냅니다."
      ]
    },
    {
      "cell_type": "markdown",
      "id": "0865ae3e",
      "metadata": {
        "id": "0865ae3e"
      },
      "source": [
        "(2) `fruit` 변수로부터 oae 문자열을 추출하는 코드를 작성하여라."
      ]
    },
    {
      "cell_type": "code",
      "execution_count": null,
      "id": "d4be7124",
      "metadata": {
        "id": "d4be7124",
        "colab": {
          "base_uri": "https://localhost:8080/",
          "height": 35
        },
        "outputId": "d048c57f-4c0a-4ff3-9461-9d1a071682e5"
      },
      "outputs": [
        {
          "output_type": "execute_result",
          "data": {
            "text/plain": [
              "'oae'"
            ],
            "application/vnd.google.colaboratory.intrinsic+json": {
              "type": "string"
            }
          },
          "metadata": {},
          "execution_count": 9
        }
      ],
      "source": [
        "# 코드를 작성하세요.\n",
        "# 필요하면 코드셀 또는 텍스트셀을 추가할 수 있습니다.\n",
        "\n",
        "fruit[-19:-26:-3]      # fruit 문자열의 망고에서 거꾸러 3칸씩 이동하여 출력하면 다음과 같은 문자열을 얻습니다.\n"
      ]
    },
    {
      "cell_type": "markdown",
      "id": "5caed8e2",
      "metadata": {
        "id": "5caed8e2"
      },
      "source": [
        "(3) `fruit` 변수로부터 yrrehc 문자열을 추출하는 코드를 작성하여라."
      ]
    },
    {
      "cell_type": "code",
      "execution_count": null,
      "id": "f6fb4d57",
      "metadata": {
        "id": "f6fb4d57",
        "colab": {
          "base_uri": "https://localhost:8080/",
          "height": 35
        },
        "outputId": "8c33f6b8-39c3-423d-a5ba-3ff27548a4f1"
      },
      "outputs": [
        {
          "output_type": "execute_result",
          "data": {
            "text/plain": [
              "'yrrehc'"
            ],
            "application/vnd.google.colaboratory.intrinsic+json": {
              "type": "string"
            }
          },
          "metadata": {},
          "execution_count": 10
        }
      ],
      "source": [
        "# 코드를 작성하세요.\n",
        "# 필요하면 코드셀 또는 텍스트셀을 추가할 수 있습니다.\n",
        "\n",
        "fruits[-1][::-1]               # fruits 리스트의 마지막 요소인 cherry를 거꾸로 추출하였습니다."
      ]
    },
    {
      "cell_type": "markdown",
      "id": "e613b028",
      "metadata": {
        "id": "e613b028"
      },
      "source": [
        "**문제 7**"
      ]
    },
    {
      "cell_type": "markdown",
      "id": "3de55c80",
      "metadata": {
        "id": "3de55c80"
      },
      "source": [
        "다음 문자열이 주어졌다.\n",
        "\n",
        "```python\n",
        "'n o r t h w e s t e r n'\n",
        "```\n",
        "\n",
        "위 문자열을 이용하여 아래 문자열을 생성하는 코드를 작성하라.\n",
        "\n",
        "```python\n",
        "'Northwestern'\n",
        "```"
      ]
    },
    {
      "cell_type": "code",
      "execution_count": null,
      "id": "be2a782b",
      "metadata": {
        "id": "be2a782b",
        "colab": {
          "base_uri": "https://localhost:8080/",
          "height": 35
        },
        "outputId": "06717f4d-004d-4396-b9e7-bcc42d92d4f2"
      },
      "outputs": [
        {
          "output_type": "execute_result",
          "data": {
            "text/plain": [
              "'Northwestern'"
            ],
            "application/vnd.google.colaboratory.intrinsic+json": {
              "type": "string"
            }
          },
          "metadata": {},
          "execution_count": 11
        }
      ],
      "source": [
        "# 코드를 작성하세요.\n",
        "# 필요하면 코드셀 또는 텍스트셀을 추가할 수 있습니다.\n",
        "\n",
        "given = 'n o r t h w e s t e r n'\n",
        "\n",
        "no_space = given.replace(\" \",\"\")       # 공백을 제거.    replace()로 공백을 빈문자열로 바꾼다.\n",
        "\n",
        "result = no_space.capitalize()         # capitalize()로 첫문자를 대문자로 변경해준다.\n",
        "\n",
        "result                               \n",
        "\n",
        "\n",
        "\n"
      ]
    },
    {
      "cell_type": "markdown",
      "id": "520b5dab",
      "metadata": {
        "id": "520b5dab"
      },
      "source": [
        "**문제 8**"
      ]
    },
    {
      "cell_type": "markdown",
      "id": "62b4ffe3",
      "metadata": {
        "id": "62b4ffe3"
      },
      "source": [
        "아래 노래 가사를 활용하는 문제이다."
      ]
    },
    {
      "cell_type": "code",
      "execution_count": null,
      "id": "de3b3096",
      "metadata": {
        "id": "de3b3096"
      },
      "outputs": [],
      "source": [
        "song = \"When you are smiling, the whole world smiles with you\""
      ]
    },
    {
      "cell_type": "markdown",
      "id": "b8cc3285",
      "metadata": {
        "id": "b8cc3285"
      },
      "source": [
        "(1) `for` 문을 사용하여 `song`에서 `a`가 등장하는 횟수를 구하는 코드를 작성하라.  "
      ]
    },
    {
      "cell_type": "code",
      "execution_count": null,
      "id": "0450781b",
      "metadata": {
        "id": "0450781b",
        "colab": {
          "base_uri": "https://localhost:8080/"
        },
        "outputId": "0e84b725-ce02-4499-9d1f-17db2b3fecc1"
      },
      "outputs": [
        {
          "output_type": "stream",
          "name": "stdout",
          "text": [
            "1\n"
          ]
        }
      ],
      "source": [
        "# 코드를 작성하세요.\n",
        "# 필요하면 코드셀 또는 텍스트셀을 추가할 수 있습니다.\n",
        "\n",
        "a_count = 0                     # a가 등장하는 횟수 \n",
        "\n",
        "for i in song :                 # 반복문으로 song 문자열 문자 하나하나에 대해 반복한다.\n",
        "  if i == \"a\":                  # \"a\"랑 문자 비교를 하여 맞다면\n",
        "    a_count += 1                # 횟수를 1증가 시킨다.\n",
        "\n",
        "\n",
        "print(a_count)\n"
      ]
    },
    {
      "cell_type": "markdown",
      "id": "73bd79a3",
      "metadata": {
        "id": "73bd79a3"
      },
      "source": [
        "(2) 반복문을 사용하여  `song`에서 대소문자 구별없이 `w`가 등장하는 횟수를 구하는 코드를 작성하라."
      ]
    },
    {
      "cell_type": "code",
      "execution_count": null,
      "id": "e559adb3",
      "metadata": {
        "id": "e559adb3",
        "colab": {
          "base_uri": "https://localhost:8080/"
        },
        "outputId": "32058f61-f277-4ec4-eb54-21e63c7dbb66"
      },
      "outputs": [
        {
          "output_type": "stream",
          "name": "stdout",
          "text": [
            "4\n"
          ]
        }
      ],
      "source": [
        "# 코드를 작성하세요.\n",
        "# 필요하면 코드셀 또는 텍스트셀을 추가할 수 있습니다.\n",
        "\n",
        "w_count = 0                       # w가 등장하는 횟수를 저장하는 변수\n",
        "\n",
        "song = song.lower()               # 전부다 소문자로 바꾸어준다. 대소문 구별 무시하기 위함\n",
        "\n",
        "for i in song :                  # for 반복으로 song의 문자열에 모든 문자 하나하나에 대해 반복한다.\n",
        "  if i == \"w\":                   # \"w\"랑 문자가 일치하면\n",
        "    w_count += 1                # 카운트를 1증가한다.\n",
        "\n",
        "\n",
        "print(w_count)\n"
      ]
    },
    {
      "cell_type": "markdown",
      "id": "264f343d",
      "metadata": {
        "id": "264f343d"
      },
      "source": [
        "**문제 9**"
      ]
    },
    {
      "cell_type": "markdown",
      "id": "2c45e398",
      "metadata": {
        "id": "2c45e398"
      },
      "source": [
        "`num`이 가리키는 정수가 3으로 시작하거나 3을 포함하는 경우에는\n",
        "`num` 의 세제곱을 출력하고, \n",
        "아닌 경우에는 `num` 에서 2를 뺀 값을 출력하는 코드를 작성하라."
      ]
    },
    {
      "cell_type": "code",
      "execution_count": null,
      "id": "d5d87f68",
      "metadata": {
        "id": "d5d87f68",
        "colab": {
          "base_uri": "https://localhost:8080/"
        },
        "outputId": "7b8f7163-150c-4253-eedc-f99841b6d6c8"
      },
      "outputs": [
        {
          "output_type": "stream",
          "name": "stdout",
          "text": [
            "정수를 입력해주세요 : 13\n",
            "2197\n"
          ]
        }
      ],
      "source": [
        "# 코드를 작성하세요.\n",
        "# 필요하면 코드셀 또는 텍스트셀을 추가할 수 있습니다.\n",
        "\n",
        "num = input(\"정수를 입력해주세요 : \")   # 입력받기\n",
        "\n",
        "have_3 = False                          # 3을 가지고 있는지 확인하는 것\n",
        "\n",
        "for i in num:                          # 입력받은 문자열에 대해 하나씩 반복한다.\n",
        "  if i == \"3\":                         # 3을 가지고 있는지 확인한다.\n",
        "    have_3 = True                      # 가지고 있다면 3을 가지고 있다고 판단하여 have_3을 True로 바꾼다.\n",
        "    break                              # 3이 있다면 즉시 반복문 탈출\n",
        "\n",
        "if have_3 :                              # 3이 있을때\n",
        "  result = int(num)**3\n",
        "else:                                   # 없을때\n",
        "  result = int(num)-2                \n",
        "\n",
        "print(result)\n",
        "\n",
        "\n"
      ]
    },
    {
      "cell_type": "code",
      "source": [
        "# 다른 방법\n",
        "\n",
        "N = input(\"정수를 입력 해 주세요 : \")\n",
        "\n",
        "if (\"3\" in N) :                      # in을 이용하여 \"3\"이 있는 확인한다.\n",
        "  print(int(N)**3)\n",
        "else:\n",
        "  print(int(N)-2)"
      ],
      "metadata": {
        "colab": {
          "base_uri": "https://localhost:8080/"
        },
        "id": "fYzA5zK-oi9q",
        "outputId": "e9e32930-f3c2-4f1a-f562-8fccb52ac317"
      },
      "id": "fYzA5zK-oi9q",
      "execution_count": null,
      "outputs": [
        {
          "output_type": "stream",
          "name": "stdout",
          "text": [
            "정수를 입력 해 주세요 : 13\n",
            "2197\n"
          ]
        }
      ]
    },
    {
      "cell_type": "markdown",
      "id": "93c7f510",
      "metadata": {
        "id": "93c7f510"
      },
      "source": [
        "**문제 10**"
      ]
    },
    {
      "cell_type": "markdown",
      "id": "629a533d",
      "metadata": {
        "id": "629a533d"
      },
      "source": [
        "정수 나눗셈의 몫을 계산하는 코드를 `while` 반복문을 이용하여 구현한다.\n",
        "단, 몫 연산자 `//` 는 절대 사용하지 않으며, 덧셈과 뺄셈만 사용한다. \n",
        "\n",
        "```\n",
        "number = 43\n",
        "divisor = 7\n",
        "answer = 0\n",
        "```"
      ]
    },
    {
      "cell_type": "code",
      "execution_count": null,
      "id": "5753542f",
      "metadata": {
        "id": "5753542f",
        "colab": {
          "base_uri": "https://localhost:8080/"
        },
        "outputId": "43387e6d-a96d-45a9-ecd2-a8150c5e9454"
      },
      "outputs": [
        {
          "output_type": "stream",
          "name": "stdout",
          "text": [
            "나누어질 숫자, 나눌 숫자 순으로 입력 해주세요 : 35 6\n",
            "몫은 5 입니다.\n"
          ]
        }
      ],
      "source": [
        "# 코드를 작성하세요.\n",
        "# 필요하면 코드셀 또는 텍스트셀을 추가할 수 있습니다.\n",
        "\n",
        "number, divisor = map(int, input(\"나누어질 숫자, 나눌 숫자 순으로 입력 해주세요 : \").split()) # 정수를 입력받습니다.\n",
        "\n",
        "answer = 0              # 몫을 초기화 합니다.\n",
        "\n",
        "while number >= divisor:     # 나누어질 숫자가 나눌 숫자보다 크거나 같으면 계속 반복됩니다.\n",
        "  number -= divisor          # 나누어질 숫자에 나눌 숫자를 뺍니다. 몫 1이 추가되는 겁니다.\n",
        "  answer += 1                # 몫을 1 증가합니다.\n",
        "\n",
        "print(f\"몫은 {answer} 입니다.\")\n"
      ]
    },
    {
      "cell_type": "markdown",
      "id": "a9bb5495",
      "metadata": {
        "id": "a9bb5495"
      },
      "source": [
        "**문제 11**"
      ]
    },
    {
      "cell_type": "markdown",
      "id": "2a18be3b",
      "metadata": {
        "id": "2a18be3b"
      },
      "source": [
        "어느 한 택배의 무게에 따른 가격표가 다음과 같다.\n",
        "\n",
        "| 5kg 미만 | 5kg 이상~10kg 미만 | 10kg 이상 |\n",
        "|:-------:|:--------------------:|:---------:|\n",
        "|5.000원 | 8,000원| 10,000원|\n",
        "\n",
        "우편물의 무게가 주어졌을 때, 택배 가격을 알려주는 프로그램을 만들어라.  "
      ]
    },
    {
      "cell_type": "code",
      "execution_count": null,
      "id": "988922a6",
      "metadata": {
        "id": "988922a6",
        "colab": {
          "base_uri": "https://localhost:8080/"
        },
        "outputId": "cbd1e707-73de-4ade-ab1c-8f0240db5b79"
      },
      "outputs": [
        {
          "output_type": "stream",
          "name": "stdout",
          "text": [
            "무게(kg)를 입력해 주세요 : 7\n",
            "8000원\n"
          ]
        }
      ],
      "source": [
        "# 코드를 작성하세요.\n",
        "# 필요하면 코드셀 또는 텍스트셀을 추가할 수 있습니다.\n",
        "\n",
        "weight = float(input(\"무게(kg)를 입력해 주세요 : \"))  # 무게를 입력받습니다. 무게는 소수점이 있을수도 있으니 float형으로 바꾸어줍니다.\n",
        "\n",
        "\n",
        "if weight < 5.0 :                # 5kg 미만일 때\n",
        "  print(\"5000원\")\n",
        "elif 5 <= weight < 10.0:            # 5kg 이상 10kg 미만일 때\n",
        "  print(\"8000원\")\n",
        "else:                              # 10kg 이상일 때 (무게는 음수가 없다.)\n",
        "  print(\"10000원\")\n"
      ]
    },
    {
      "cell_type": "markdown",
      "id": "6e53793d",
      "metadata": {
        "id": "6e53793d"
      },
      "source": [
        "**문제 12**"
      ]
    },
    {
      "cell_type": "markdown",
      "id": "a8aa77ea",
      "metadata": {
        "id": "a8aa77ea"
      },
      "source": [
        "0부터 100까지의 숫자 중에서 3의 배수와 7의 배수를 모두 찾아 출력한 다음, \n",
        "찾은 수들을 모두 더하여 아래와 같이 출력하는 코드를 작성하여라.\n",
        "\n",
        "```python\n",
        "0~100의 숫자 중 3의 배수와 7의 배수들의 합은 OOO이다.\n",
        "```"
      ]
    },
    {
      "cell_type": "code",
      "execution_count": null,
      "id": "55b1f86c",
      "metadata": {
        "id": "55b1f86c",
        "colab": {
          "base_uri": "https://localhost:8080/"
        },
        "outputId": "aa10c979-e4b5-4a6b-a3ec-8502057a9f54"
      },
      "outputs": [
        {
          "output_type": "stream",
          "name": "stdout",
          "text": [
            "찾은 3의 배수와 7의 배수는 [0, 3, 6, 7, 9, 12, 14, 15, 18, 21, 24, 27, 28, 30, 33, 35, 36, 39, 42, 45, 48, 49, 51, 54, 56, 57, 60, 63, 66, 69, 70, 72, 75, 77, 78, 81, 84, 87, 90, 91, 93, 96, 98, 99]이고\n",
            "0~100의 숫자 중 3의 배수와 7의 배수들의 합은 2208이다.\n"
          ]
        }
      ],
      "source": [
        "# 코드를 작성하세요.\n",
        "# 필요하면 코드셀 또는 텍스트셀을 추가할 수 있습니다.\n",
        "\n",
        "save_list = []                    # 찾은 숫자들을 저장할 리스트\n",
        "\n",
        "for i in range(101):            # 0~100까지 반복한다.\n",
        "  if (i % 3 == 0) or (i % 7 == 0):     # 3의 배수 혹은 7의 배수인지 찾는다.\n",
        "    save_list.append(i)             # 리스트에 저장 해 둔다.\n",
        "\n",
        "\n",
        "\n",
        "list_sum = sum(save_list)        #  sum함수를 통해 합을 구한다.\n",
        "\n",
        "print(f\"찾은 3의 배수와 7의 배수는 {save_list}이고\")\n",
        "print(f\"0~100의 숫자 중 3의 배수와 7의 배수들의 합은 {list_sum}이다.\")\n",
        "\n",
        "\n"
      ]
    },
    {
      "cell_type": "markdown",
      "id": "03e30c2a",
      "metadata": {
        "id": "03e30c2a"
      },
      "source": [
        "**문제 13**"
      ]
    },
    {
      "cell_type": "markdown",
      "id": "096af73f",
      "metadata": {
        "id": "096af73f"
      },
      "source": [
        "임의의 자연수 n이 주어졌을 때, 1부터 n까지의 자연수 중에서 3의 배수이거나 \n",
        "3을 포함하는 숫자들의 합을 구하여라. "
      ]
    },
    {
      "cell_type": "code",
      "execution_count": null,
      "id": "d5b08dc5",
      "metadata": {
        "id": "d5b08dc5",
        "colab": {
          "base_uri": "https://localhost:8080/"
        },
        "outputId": "1aefc5d1-9d4a-43df-e14a-62725db6eb0d"
      },
      "outputs": [
        {
          "output_type": "stream",
          "name": "stdout",
          "text": [
            "자연수를 입력해주세요 : 50\n",
            "694\n"
          ]
        }
      ],
      "source": [
        "# 코드를 작성하세요.\n",
        "# 필요하면 코드셀 또는 텍스트셀을 추가할 수 있습니다.\n",
        "\n",
        "n = int(input(\"자연수를 입력해주세요 : \"))    # 자연수를 입력 받는다.\n",
        "\n",
        "storage = []              # 찾은 숫자를 저장할 리스트\n",
        "\n",
        "for i in range(1,n+1):       # 1부터 n까지 반복\n",
        "  if (i % 3 == 0) :           # 3의 배수이면 리스트에 추가\n",
        "    storage.append(i)\n",
        "  else:                      # 3의 배수가 아닌 경우\n",
        "    for j in str(i):         # 숫자에 3이 포함되는지 확인을 위해 문자열로 바꾼다음 숫자 자릿수 하나하나 반복한다.\n",
        "      if (j == \"3\"):        # 3이 포함되어 있다면 리스트에 추가\n",
        "        storage.append(i)\n",
        "\n",
        "\n",
        "print(sum(storage))      # 합을 출력\n"
      ]
    },
    {
      "cell_type": "markdown",
      "id": "fd2fc091",
      "metadata": {
        "id": "fd2fc091"
      },
      "source": [
        "**문제 14**"
      ]
    },
    {
      "cell_type": "markdown",
      "id": "67fa0cc6",
      "metadata": {
        "id": "67fa0cc6"
      },
      "source": [
        "자연수 n이 주어졌을 때, n의 약수를 모두 출력하는 코드를 작성하여라. 단, n은 임의로 둔다."
      ]
    },
    {
      "cell_type": "code",
      "execution_count": null,
      "id": "b8c82db8",
      "metadata": {
        "id": "b8c82db8",
        "colab": {
          "base_uri": "https://localhost:8080/"
        },
        "outputId": "11a31a02-2713-4351-fc32-d47b5b1e972e"
      },
      "outputs": [
        {
          "output_type": "stream",
          "name": "stdout",
          "text": [
            "자연수를 입력해주세요 : 51\n",
            "51의 약수는 [1, 3, 17, 51] 입니다.\n"
          ]
        }
      ],
      "source": [
        "# 코드를 작성하세요.\n",
        "# 필요하면 코드셀 또는 텍스트셀을 추가할 수 있습니다.\n",
        "\n",
        "n = int(input(\"자연수를 입력해주세요 : \")) # 자연수를 입력을 받습니다.\n",
        "\n",
        "divisor_list = []                # 약수를 저장할 리스트\n",
        "\n",
        "for i in range(1, n+1):         # 1부터 n까지 숫자를 반복합니다.\n",
        "  if (n % i == 0) :              # n을 나누어서 나머지가 없이 나누어진다면 리스트에 추가합니다.\n",
        "    divisor_list.append(i)\n",
        "\n",
        "print(f\"{n}의 약수는 {divisor_list} 입니다.\") # 출력합니다."
      ]
    },
    {
      "cell_type": "markdown",
      "id": "beba89dc",
      "metadata": {
        "id": "beba89dc"
      },
      "source": [
        "**문제 15**"
      ]
    },
    {
      "cell_type": "markdown",
      "id": "f9febfa4",
      "metadata": {
        "id": "f9febfa4"
      },
      "source": [
        "일찍 태어난 사람이 늦게 태어난 사람보다 정확히 두 배의 나이를 갖는 경우가 발생한다. \n",
        "예를 들어, 2003년 7월 12일에 태어난 사람과 2006년 9월 30일에 태어난 사람은\n",
        "2009년 12월 19일에 서로의 나이가 딱 두 배가 된다.\n",
        "\n",
        "이를 확인하는 코드를 `Timestamp` 자료형을 이용하여 작성하라."
      ]
    },
    {
      "cell_type": "code",
      "execution_count": null,
      "id": "04a0dc66",
      "metadata": {
        "id": "04a0dc66"
      },
      "outputs": [],
      "source": [
        "import pandas as pd \n",
        "\n",
        "d1 = pd.Timestamp('2003-07-12')\n",
        "d2 = pd.Timestamp('2006-09-30')"
      ]
    },
    {
      "cell_type": "code",
      "execution_count": null,
      "id": "291e563f",
      "metadata": {
        "id": "291e563f",
        "colab": {
          "base_uri": "https://localhost:8080/"
        },
        "outputId": "da5dff13-4e4f-4079-f3dc-a70e828758be"
      },
      "outputs": [
        {
          "output_type": "stream",
          "name": "stdout",
          "text": [
            "일찍 태어난 사람의 생년월일을 yyyy-mm-dd 형식에 맞춰 입력해주세요 : 2003-07-12\n",
            "늦게 태어난 사람의 생년월일을 yyyy-mm-dd 형식에 맞춰 입력해주세요 : 2006-09-30\n",
            "두사람의 나이가 2배가 되는 날짜는 2009-12-19 입니다.\n"
          ]
        }
      ],
      "source": [
        "# 코드를 작성하세요.\n",
        "# 필요하면 코드셀 또는 텍스트셀을 추가할 수 있습니다.\n",
        "\n",
        "import pandas as pd        # 시간을 다루기 위해 필요한 모듈을 임포트합니다.\n",
        "import numpy as np         # 넘파이 모듈도 가져옵니다.\n",
        "\n",
        "d1 = pd.Timestamp(input(\"일찍 태어난 사람의 생년월일을 yyyy-mm-dd 형식에 맞춰 입력해주세요 : \"))   # 연장자의 나이를 받습니다. 그리고 Timestamp 자료형으로 다룹니다.\n",
        "d2 = pd.Timestamp(input(\"늦게 태어난 사람의 생년월일을 yyyy-mm-dd 형식에 맞춰 입력해주세요 : \"))   # 어린 사람의 나이를 받습니다. 마찬가지로 Timestamp 자료형입니다.\n",
        "\n",
        "\n",
        "difference = d2 - d1               # 두 사람의 차이를 계산합니다.\n",
        "twice_day = d2 + difference        # 두 사람의 나이 차이는 고정되어 있기 때문에 그 차이만큼 어린 사람이 나이를 먹으면 서로 2배 관계가 됩니다.\n",
        "\n",
        "\n",
        "\n",
        "print(f\"두사람의 나이가 2배가 되는 날짜는 {twice_day.date()} 입니다.\")\n",
        "\n",
        "  \n"
      ]
    },
    {
      "cell_type": "markdown",
      "metadata": {
        "id": "5d91f83d"
      },
      "source": [
        "**문제 16**"
      ],
      "id": "5d91f83d"
    },
    {
      "cell_type": "markdown",
      "metadata": {
        "id": "db3d1a42"
      },
      "source": [
        "아래 명령문을 실행할 때 오류가 발생한다. 이유가 무엇인가?\n",
        "\n",
        "```python\n",
        "if 3/0 or True:\n",
        "    print(\"나는 출력되지 않아요.\")\n",
        "```\n",
        "\n",
        "이유를 설명하세요."
      ],
      "id": "db3d1a42"
    },
    {
      "cell_type": "code",
      "source": [
        "if 3/0 or True:\n",
        "    print(\"나는 출력되지 않아요.\")"
      ],
      "metadata": {
        "colab": {
          "base_uri": "https://localhost:8080/",
          "height": 190
        },
        "id": "Gha6Dr5CQrD7",
        "outputId": "e6e74450-932b-42b8-d6a4-18f0dc79492d"
      },
      "id": "Gha6Dr5CQrD7",
      "execution_count": null,
      "outputs": [
        {
          "output_type": "error",
          "ename": "ZeroDivisionError",
          "evalue": "ignored",
          "traceback": [
            "\u001b[0;31m---------------------------------------------------------------------------\u001b[0m",
            "\u001b[0;31mZeroDivisionError\u001b[0m                         Traceback (most recent call last)",
            "\u001b[0;32m<ipython-input-24-7a7b81c904ea>\u001b[0m in \u001b[0;36m<module>\u001b[0;34m()\u001b[0m\n\u001b[0;32m----> 1\u001b[0;31m \u001b[0;32mif\u001b[0m \u001b[0;36m3\u001b[0m\u001b[0;34m/\u001b[0m\u001b[0;36m0\u001b[0m \u001b[0;32mor\u001b[0m \u001b[0;32mTrue\u001b[0m\u001b[0;34m:\u001b[0m\u001b[0;34m\u001b[0m\u001b[0;34m\u001b[0m\u001b[0m\n\u001b[0m\u001b[1;32m      2\u001b[0m     \u001b[0mprint\u001b[0m\u001b[0;34m(\u001b[0m\u001b[0;34m\"나는 출력되지 않아요.\"\u001b[0m\u001b[0;34m)\u001b[0m\u001b[0;34m\u001b[0m\u001b[0;34m\u001b[0m\u001b[0m\n",
            "\u001b[0;31mZeroDivisionError\u001b[0m: division by zero"
          ]
        }
      ]
    },
    {
      "cell_type": "markdown",
      "source": [
        "파이썬에서는 or 연산과 and 연산을 할 때, 시간 절약을 위해 왼쪽의 식으로 전체가 결정되면 오른쪽 비교식은 판단하지 않는 것이다. 따라서 위의 코드에서 왼쪽 연산인 3/0은 0으로 나누는 것은 오류가 발생하기에 if문 내부가 실행되지 못하고 오류 발생했다는 문구가 출력됩니다."
      ],
      "metadata": {
        "id": "M1xJOI8qQCJ-"
      },
      "id": "M1xJOI8qQCJ-"
    },
    {
      "cell_type": "markdown",
      "metadata": {
        "id": "d4b81c5f"
      },
      "source": [
        "**문제 17**"
      ],
      "id": "d4b81c5f"
    },
    {
      "cell_type": "markdown",
      "metadata": {
        "id": "c5d52f6b"
      },
      "source": [
        "아래 명령문을 실행할 때 오류가 발생하지 않는다. 이유가 무엇인가?\n",
        "\n",
        "```python\n",
        "if True or 3/0:\n",
        "    print(\"오류가 발생하지 않아요.\")\n",
        "```\n",
        "\n",
        "이유를 설명하세요."
      ],
      "id": "c5d52f6b"
    },
    {
      "cell_type": "code",
      "source": [
        "if True or 3/0:\n",
        "    print(\"오류가 발생하지 않아요.\")"
      ],
      "metadata": {
        "colab": {
          "base_uri": "https://localhost:8080/"
        },
        "id": "e7swHf47QxOP",
        "outputId": "94893ac7-a214-42ec-dfd3-0923f87aec1b"
      },
      "id": "e7swHf47QxOP",
      "execution_count": null,
      "outputs": [
        {
          "output_type": "stream",
          "name": "stdout",
          "text": [
            "오류가 발생하지 않아요.\n"
          ]
        }
      ]
    },
    {
      "cell_type": "markdown",
      "source": [
        "16번과 같은 이유로 or은 둘 중 하나만 참이어도 전체가 참인 연산입니다. 이 때 위의 코드는 왼쪽식부터 연산하는데 True이기 때문에 전체 결과도 참으로 결정됩니다. 따라서 3/0은 판단하지 않고, 전체를 참으로 판단합니다. 따라서 if문 내부가 실행됩니다."
      ],
      "metadata": {
        "id": "wB9Y60SdQzPp"
      },
      "id": "wB9Y60SdQzPp"
    }
  ],
  "metadata": {
    "kernelspec": {
      "display_name": "Python 3 (ipykernel)",
      "language": "python",
      "name": "python3"
    },
    "language_info": {
      "codemirror_mode": {
        "name": "ipython",
        "version": 3
      },
      "file_extension": ".py",
      "mimetype": "text/x-python",
      "name": "python",
      "nbconvert_exporter": "python",
      "pygments_lexer": "ipython3",
      "version": "3.9.7"
    },
    "toc-autonumbering": true,
    "toc-showcode": false,
    "toc-showmarkdowntxt": false,
    "colab": {
      "name": "2016250012 김진상 3차",
      "provenance": [],
      "collapsed_sections": [],
      "include_colab_link": true
    }
  },
  "nbformat": 4,
  "nbformat_minor": 5
}