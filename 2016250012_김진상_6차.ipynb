{
  "cells": [
    {
      "cell_type": "markdown",
      "metadata": {
        "id": "view-in-github",
        "colab_type": "text"
      },
      "source": [
        "<a href=\"https://colab.research.google.com/github/woscc123/asn/blob/master/2016250012_%EA%B9%80%EC%A7%84%EC%83%81_6%EC%B0%A8.ipynb\" target=\"_parent\"><img src=\"https://colab.research.google.com/assets/colab-badge.svg\" alt=\"Open In Colab\"/></a>"
      ]
    },
    {
      "cell_type": "markdown",
      "id": "bd286fa2",
      "metadata": {
        "id": "bd286fa2"
      },
      "source": [
        "# (실습) 모음 자료형"
      ]
    },
    {
      "cell_type": "markdown",
      "id": "88745e8b",
      "metadata": {
        "id": "88745e8b"
      },
      "source": [
        "## 문자열"
      ]
    },
    {
      "cell_type": "markdown",
      "id": "d32f57f0",
      "metadata": {
        "id": "d32f57f0"
      },
      "source": [
        "**문제 1**"
      ]
    },
    {
      "cell_type": "markdown",
      "id": "3cba19ed",
      "metadata": {
        "id": "3cba19ed"
      },
      "source": [
        "문자열 `a:b:c:d` 을 이용하여 문자열 `a#b#c#d` 생성하는 코드를 작성하라.\n",
        "단, 문자열의 메서드만 사용한다."
      ]
    },
    {
      "cell_type": "code",
      "execution_count": null,
      "id": "b7d1715b",
      "metadata": {
        "id": "b7d1715b"
      },
      "outputs": [],
      "source": [
        "# pass 와  None을 적절한 명령문과 표현식으로 대체하라.\n",
        "# 단, 문자열 \"a#b#c#d\" 가 직접 언급되지 않아야 한다.\n",
        "\n",
        "input_str = \"a:b:c:d\"\n",
        "\n",
        "output_str = input_str.replace(\":\",\"#\")  #  replece() 메서드로 \":\"을 \"#\"으로 바꿉니다.\n",
        "\n"
      ]
    },
    {
      "cell_type": "code",
      "source": [
        "assert output_str == \"a#b#c#d\" # 오류가 발생하지 않습니다."
      ],
      "metadata": {
        "id": "HnJRd2SkCEWU"
      },
      "id": "HnJRd2SkCEWU",
      "execution_count": null,
      "outputs": []
    },
    {
      "cell_type": "code",
      "execution_count": null,
      "id": "f333e359",
      "metadata": {
        "id": "f333e359"
      },
      "outputs": [],
      "source": [
        "# 아래 코드의 주석 기호를 삭제하고 실행할 때 오류가 발생하지 않아야 한다.\n",
        "\n",
        "# assert output_str == \"a#b#c#d\""
      ]
    },
    {
      "cell_type": "markdown",
      "id": "afe9bac7",
      "metadata": {
        "id": "afe9bac7"
      },
      "source": [
        "**문제 2**"
      ]
    },
    {
      "cell_type": "markdown",
      "id": "bef57d51",
      "metadata": {
        "id": "bef57d51"
      },
      "source": [
        "메뉴와 가격이 공백으로 구분된 두 개의 문자열로 주어졌다."
      ]
    },
    {
      "cell_type": "code",
      "execution_count": null,
      "id": "d9f9519d",
      "metadata": {
        "id": "d9f9519d"
      },
      "outputs": [],
      "source": [
        "menu = \"ham bread chicken egg\"\n",
        "prices = \"1200 5000 17000 500\""
      ]
    },
    {
      "cell_type": "markdown",
      "id": "13373741",
      "metadata": {
        "id": "13373741"
      },
      "source": [
        "가장 저렴한 메뉴와 가장 비싼 메뉴를 추천하는 문자열을 \n",
        "다음과 같이 출력하는 프로그램을 구현하라.\n",
        "\n",
        "```python\n",
        "가장 저렴한 메뉴: egg  \n",
        "가장 비  싼 메뉴: chicken  \n",
        "```"
      ]
    },
    {
      "cell_type": "code",
      "execution_count": null,
      "id": "a9fde44d",
      "metadata": {
        "id": "a9fde44d"
      },
      "outputs": [],
      "source": [
        "# pass 를 적절한 명령문과 표현식으로 대체하라.\n",
        "# 단, 출력해야 하는 문자열이 직접 언급되지 않아야 한다.\n",
        "\n",
        "menu = menu.split()                       # 공백을 기준으로 메뉴를 리스트로 바꿉니다.\n",
        "prices = list(map(int, prices.split()))   # 공백을 기준으로 가격을 정수형으로 바꿔서 리스트로 바꿉니다.\n",
        "                                          #  지금 메뉴와 가격은 서로 같은 인덱스에 메뉴에 그 메뉴의 가격이 담겨있습니다.\n",
        "\n",
        "max = max(prices)                         # 가장 비싼 메뉴의 가격입니다.\n",
        "min = min(prices)                         # 가장 저렴한 메뉴의 가격입니다.\n",
        "\n",
        "max_index = prices.index(max)             # 가장 비싼 메뉴의 인덱스 값입니다.\n",
        "min_index = prices.index(min)             # 가장 저렴한 메뉴의 인덱스 값입니다."
      ]
    },
    {
      "cell_type": "code",
      "source": [
        "print(f\"가장 저렴한 메뉴: {menu[min_index]}\")                  # 메뉴 리스트에서 저렴한 가격의 해당 인덱스로 메뉴를 찾을 수 있습니다.\n",
        "print(f\"가장 비 싼 메뉴: {menu[max_index]}\")                   # 메뉴 리스트에서 비싼 가격의 해당 인덱스로 메뉴를 찾을 수 있습니다."
      ],
      "metadata": {
        "colab": {
          "base_uri": "https://localhost:8080/"
        },
        "id": "03_ARCwOEyPl",
        "outputId": "cae98525-ea8e-47ff-d0a2-82c2798a0bda"
      },
      "id": "03_ARCwOEyPl",
      "execution_count": null,
      "outputs": [
        {
          "output_type": "stream",
          "name": "stdout",
          "text": [
            "가장 저렴한 메뉴: egg\n",
            "가장 비 싼 메뉴: chicken\n"
          ]
        }
      ]
    },
    {
      "cell_type": "markdown",
      "id": "354be079",
      "metadata": {
        "id": "354be079"
      },
      "source": [
        "**문제 3**"
      ]
    },
    {
      "cell_type": "markdown",
      "id": "8dd82085",
      "metadata": {
        "id": "8dd82085"
      },
      "source": [
        "n! 은 1부터 n 까지의 자연수의 곱을 나타내며, \n",
        "n 의 계승 또는 팩토리얼<font size=\"2\">factorial</fotn>이라 부른다. \n",
        "\n",
        "자연수 n 이 주어졌을 때, n! 의 끝에 있는 0 의 개수를 반환하는 `terminalZeroCount()` 함수를 \n",
        "작성하라. \n",
        "단, n 은 1보다 크고 100보다 작은 자연수라고 가정하며, 문자열 메서드를 활용해야 한다."
      ]
    },
    {
      "cell_type": "code",
      "execution_count": null,
      "id": "ac2fe290",
      "metadata": {
        "id": "ac2fe290"
      },
      "outputs": [],
      "source": [
        "# pass 와  None을 적절한 명령문과 표현식으로 대체하라.\n",
        "\n",
        "def terminalZeroCount(n):\n",
        "    assert 1<n<100                     # 먼저 주어진 입력값이 해당 범위인지 확인합니다.\n",
        "\n",
        "    sum = 1                             # 팩토리얼 값을 저장하는 값\n",
        "    for i in range(1, n+1):            # 1부터 n까지 반복\n",
        "      sum *= i                        # 팩토리얼 값을 반복하며 갱신해줍니다.\n",
        "\n",
        "    result = str(sum)                 # 팩토리얼 값을 문자열로 바꿔줍니다.\n",
        "\n",
        "    Nozero_result = result.rstrip(\"0\")     # 끝에 0을 제거한 문자열을 저장합니다.\n",
        "\n",
        "    terminalZero = len(result) - len(Nozero_result)   # 두 문자열의 차이가 끝에 0의 갯수 차이입니다.\n",
        " \n",
        "    return terminalZero                       # 끝에 있는 0의 갯수를 반환합니다."
      ]
    },
    {
      "cell_type": "code",
      "source": [
        "assert terminalZeroCount(5) == 1\n",
        "assert terminalZeroCount(10) == 2\n",
        "assert terminalZeroCount(20) == 4"
      ],
      "metadata": {
        "id": "3SpicnvjKVec"
      },
      "id": "3SpicnvjKVec",
      "execution_count": null,
      "outputs": []
    },
    {
      "cell_type": "code",
      "execution_count": null,
      "id": "c3f0fbc5",
      "metadata": {
        "id": "c3f0fbc5"
      },
      "outputs": [],
      "source": [
        "# 아래 코드의 주석 기호를 삭제하고 실행할 때 오류가 발생하지 않아야 한다.\n",
        "\n",
        "# assert terminalZeroCount(5) == 1\n",
        "# assert terminalZeroCount(10) == 2\n",
        "# assert terminalZeroCount(20) == 4"
      ]
    },
    {
      "cell_type": "markdown",
      "id": "d2152213",
      "metadata": {
        "id": "d2152213"
      },
      "source": [
        "**문제 4**"
      ]
    },
    {
      "cell_type": "markdown",
      "id": "515fa524",
      "metadata": {
        "id": "515fa524"
      },
      "source": [
        "거꾸로 노래 부르기 좋아하는 청개구리는 아래와 같이 노래를 부른다.  \n",
        "\n",
        "> 끼토산 야끼토 로디어 냐느가 총깡총깡 서면뛰 를디어 냐느가\n",
        "\n",
        "문자열이 주어졌을 때, 공백을 단위로 각 단어를 거꾸로 뒤집은 문자열을 반환하는 \n",
        "`revers_words()` 함수를 작성하라.\n",
        "단, 입력 문자열은 줄바꿈 없이 주어진다고 가정한다."
      ]
    },
    {
      "cell_type": "code",
      "execution_count": null,
      "id": "9cb7052e",
      "metadata": {
        "id": "9cb7052e"
      },
      "outputs": [],
      "source": [
        "# pass 와  None을 적절한 명령문과 표현식으로 대체하라.\n",
        "\n",
        "def reverse_words(s):\n",
        "    s = s.split()        # 일단 주어진 문자열을 일단 공백을 기준으로 나눠서 리스트로 바꾼다.\n",
        "    result = \"\"          # 최종 반환할 문자열을 저장하는 변수\n",
        "    for lylic in s:        # 공백으로 나눠 둔 리스트의 가사 단어 하나 하나마다 반복합니다. \n",
        "      reverse = \"\"        # 가사 단어 하나를 뒤집을 때 저장할 변수\n",
        "      for i in range(len(lylic)):    # 가사 단어의 길이만큼 반복합니다.\n",
        "        reverse += (lylic[len(lylic)-1-i])   # 뒤에서부터 순서대로 reverse변수에 저장합니다.\n",
        "      result += (reverse + \" \")   # 뒤집어 진 단어에 공뱅글 추가하여 최종 반환할 문자열 변수에 붙여줍니다.\n",
        "\n",
        "    return result.rstrip()        # 맨 오른쪽 공백을 제거하여 각 가사 단어를 뒤집은 문자열을 반환합니다."
      ]
    },
    {
      "cell_type": "code",
      "execution_count": null,
      "id": "64101fa1",
      "metadata": {
        "id": "64101fa1"
      },
      "outputs": [],
      "source": [
        "# 아래 코드의 주석 기호를 삭제하고 실행할 때 오류가 발생하지 않아야 한다.\n",
        "\n",
        "lyrics = '산토끼 토끼야 어디로 가느냐'\n",
        "rev_lyrics = '끼토산 야끼토 로디어 냐느가'\n",
        "\n",
        "# assert reverse_words(lyrics) == rev_lyrics"
      ]
    },
    {
      "cell_type": "code",
      "source": [
        "assert reverse_words(lyrics) == rev_lyrics   # 오류가 발생하지 않는다."
      ],
      "metadata": {
        "id": "yk0r5XKBURSb"
      },
      "id": "yk0r5XKBURSb",
      "execution_count": null,
      "outputs": []
    },
    {
      "cell_type": "code",
      "execution_count": null,
      "id": "1355a6d7",
      "metadata": {
        "id": "1355a6d7"
      },
      "outputs": [],
      "source": [
        "# 아래 코드의 주석 기호를 삭제하고 실행할 때 오류가 발생하지 않아야 한다.\n",
        "\n",
        "lyrics2 = '깡총깡총 뛰면서 어디를 가느냐'\n",
        "rev_lyrics2 = '총깡총깡 서면뛰 를디어 냐느가'\n",
        "\n",
        "# assert reverse_words(lyrics2) == rev_lyrics2"
      ]
    },
    {
      "cell_type": "code",
      "source": [
        "assert reverse_words(lyrics2) == rev_lyrics2      #  오류가 발생하지 않습니다."
      ],
      "metadata": {
        "id": "FXfmSjVhVK94"
      },
      "id": "FXfmSjVhVK94",
      "execution_count": null,
      "outputs": []
    },
    {
      "cell_type": "markdown",
      "id": "eb60dd52",
      "metadata": {
        "id": "eb60dd52"
      },
      "source": [
        "**문제 5**"
      ]
    },
    {
      "cell_type": "markdown",
      "id": "5c79cde1",
      "metadata": {
        "id": "5c79cde1"
      },
      "source": [
        "사용자의 이름과 전화번호를 입력 받으면 다음과 같이 반환하는 \n",
        "`phone_book()` 함수를 구현하라.\n",
        "단, 사용자의 이름은 두 글자에서 네 글자 사이며, \n",
        "핸드폰 번호는 9개에서 11개의 숫자가 다양한 방식으로 주어진다."
      ]
    },
    {
      "cell_type": "code",
      "execution_count": null,
      "id": "8c8c762d",
      "metadata": {
        "id": "8c8c762d"
      },
      "outputs": [],
      "source": [
        "# pass 와  None을 적절한 명령문과 표현식으로 대체하라.\n",
        "\n",
        "def phone_book(name, phone):\n",
        "    assert 2<=len(name)<=4       # 입력 이름이 2글자 이상 4글자 이하 입니다.\n",
        "    \n",
        "\n",
        "    star_name = \"\"               # 최종 반환할 이름을 저장할 변수 입니다.\n",
        "\n",
        "    for i in range(len(name)):          # 이름의 길이만큼 반복합니다.\n",
        "      if i == 1 :                       # 두번째 글자를 \"*\"로 바꾸는 부분입니다.\n",
        "        star_name += \"*\"\n",
        "      else:                             # 나머지 글자는 그대로 사용합니다.\n",
        "        star_name += name[i]\n",
        "      \n",
        "    last_number = phone[-1:-5:-1]         # 뒤의 4개의 숫자를 거꾸로 저장합니다.\n",
        "    last_number = list(last_number)       # 리스트로 바꾸어줍니다.\n",
        "    last_number.reverse()                 # 4개의 숫자를 뒤집어 원래 순서대로 만들어 줍니다.\n",
        "    last_number = \"\".join(last_number)    # join함수를 사용하여 문자열로 바꾸어줍니다.\n",
        "\n",
        "    \n",
        "    return (star_name, int(last_number)) # 바꾼 이름과 int형으로 바꿔 준 끝 4자리 숫자를 튜플로 반환합니다."
      ]
    },
    {
      "cell_type": "code",
      "source": [
        "assert phone_book('김강현', '010-1234-5678') == ('김*현', 5678)      # 오류가 발생하지 않습니다.\n",
        "assert phone_book('강현', '01012345678') == ('강*', 5678)\n",
        "assert phone_book('김강현이', '031-123-5678') == ('김*현이', 5678)\n",
        "assert phone_book('강현이', '02-123-5678') == ('강*이', 5678)\n",
        "assert phone_book('김강현', '010.1234.5678') == ('김*현', 5678)"
      ],
      "metadata": {
        "id": "UNhmD5a6a0t-"
      },
      "id": "UNhmD5a6a0t-",
      "execution_count": null,
      "outputs": []
    },
    {
      "cell_type": "code",
      "execution_count": null,
      "id": "a83d2bc7",
      "metadata": {
        "id": "a83d2bc7"
      },
      "outputs": [],
      "source": [
        "# 아래 코드의 주석 기호를 삭제하고 실행할 때 오류가 발생하지 않아야 한다.\n",
        "\n",
        "# assert phone_book('김강현', '010-1234-5678'`) == ('김*현', 5678)\n",
        "# assert phone_book('강현', '01012345678'`) == ('강*', 5678)\n",
        "# assert phone_book('김강현이', '031-123-5678'`) == ('김*현이', 5678)\n",
        "# assert phone_book('강현이', '02-123-5678'`) == ('강*이', 5678)\n",
        "# assert phone_book('김강현', '010.1234.5678'`) == ('김*현', 5678)"
      ]
    },
    {
      "cell_type": "markdown",
      "id": "6aa9fb5f",
      "metadata": {
        "id": "6aa9fb5f"
      },
      "source": [
        "**문제 6**"
      ]
    },
    {
      "cell_type": "markdown",
      "id": "b9d29417",
      "metadata": {
        "id": "b9d29417"
      },
      "source": [
        "변수와 함수의 이름을 지정할 때 **카멜**<font size = \"2\">camel</font> 표기법 또는 \n",
        "**팟홀**<font size=\"2\">pothole</font> 표기법(**스네이크**<font size=\"2\">snake</font> 표기법으로도 불림)을 \n",
        "사용한다.\n",
        "\n",
        "* 카멜 표기법 : 소문자로 시작하고, 이어지는 단어의 시작은 대문자로 작성하는 표기법.\n",
        "    - 예제: `userName`, `printMessage`, `countA` 등. \n",
        "\n",
        "* 팟홀 표기법 또는 스네이크 표기법 : 모두 소문자를 사용하고, 단어 사이에 밑줄기호(`_`)를 사용하는 표기법. \n",
        "    - 예제: `user_name`, `print_message`, `count_a` 등.   \n",
        "\n",
        "\n",
        "카멜 표기법을 팟홀 표기법으로 변환하는 `camel2pothole()` 함수를 구현하라.\n",
        "\n",
        "힌트: `str.isupper()`메서드는 문자열이 대문자인지를 확인해준다.  "
      ]
    },
    {
      "cell_type": "code",
      "execution_count": null,
      "id": "ffc2f7ff",
      "metadata": {
        "id": "ffc2f7ff"
      },
      "outputs": [],
      "source": [
        "# pass 와  None을 적절한 명령문과 표현식으로 대체하라.\n",
        "\n",
        "def camel2pothole(s):\n",
        "\n",
        "    pothole = \"\"           # 팟홀로 저장할 문자열 변수\n",
        "\n",
        "    for i in s:            # 받은 문자열을 한글자씩 반복합니다.\n",
        "      if i.isupper():      # 대문자인지 확인합니다.\n",
        "        pothole += (\"_\" + i.lower())   # 대문자라면 \"_\"을 앞에 추가하고 소문자로 바꾸어 반환할 팟홀문자열 변수에 이어 붙여줍니다.\n",
        "      else:\n",
        "        pothole += i        # 소문자라면 그대로 이어 붙여줍니다.\n",
        "\n",
        "\n",
        "    return pothole      # 바꾼 팟홀 방식 문자열을 반환합니다."
      ]
    },
    {
      "cell_type": "code",
      "source": [
        "assert camel2pothole(\"userName\") == \"user_name\"      # 오류가 발생하지 않습니다.\n",
        "assert camel2pothole(\"printMessage\") == \"print_message\"\n",
        "assert camel2pothole(\"countA\") == \"count_a\""
      ],
      "metadata": {
        "id": "B2SvJvb-cf0A"
      },
      "id": "B2SvJvb-cf0A",
      "execution_count": null,
      "outputs": []
    },
    {
      "cell_type": "code",
      "execution_count": null,
      "id": "950b763d",
      "metadata": {
        "id": "950b763d"
      },
      "outputs": [],
      "source": [
        "# 아래 코드의 주석 기호를 삭제하고 실행할 때 오류가 발생하지 않아야 한다.\n",
        "\n",
        "# assert camel2pothole(\"userName\") == \"user_name\"\n",
        "# assert camel2pothole(\"printMessage\") == \"print_message\"\n",
        "# assert camel2pothole(\"countA\") == \"count_a\""
      ]
    },
    {
      "cell_type": "markdown",
      "id": "851481ba",
      "metadata": {
        "id": "851481ba"
      },
      "source": [
        "**문제 7**"
      ]
    },
    {
      "cell_type": "markdown",
      "id": "261638db",
      "metadata": {
        "id": "261638db"
      },
      "source": [
        "아래 조건을 만족하는 `zip_strings()` 함수를 구현하라.\n",
        "\n",
        "* 세 개의 문자열을 각각 입력 받는 `str1`, `str2`, `str3` 매개 변수를 사용한다.\n",
        "* `str3`가 가리키는 값이 `str1` 과 `str2` 이 가리키는 문자열에 포함된 문자들을\n",
        "    번갈아가며 결합한 결과이면 `True`를, 아니면 `False` 를 반환한다.\n",
        "* 두 문자열의 길이가 다르면, 가능한 데까지만 문자를 번갈아가며 결합하고 나머지는 그대로 적어준다.    \n",
        "\n",
        "힌트: `zip()` 함수 활용 가능."
      ]
    },
    {
      "cell_type": "code",
      "execution_count": null,
      "id": "047f15e3",
      "metadata": {
        "id": "047f15e3"
      },
      "outputs": [],
      "source": [
        "# pass 와  None을 적절한 명령문과 표현식으로 대체하라.\n",
        "\n",
        "def zip_strings(str1, str2, str3):\n",
        "    \n",
        "    if len(str1) <= len(str2):      # 둘 중에 더 긴 문자열과 짧은 문자열을 구분하여 저장해줍니다.\n",
        "      long_str = str2\n",
        "      short_str = str1\n",
        "    else:\n",
        "      long_str = str1\n",
        "      short_str = str2\n",
        "\n",
        "    len_dif = len(long_str) - len(short_str)       # 두 문자열 길이의 차이를 저장합니다.\n",
        "\n",
        "    swich_str1 = \"\"                         # 어떤 문자열을 먼저 쓰냐에 따라 번갈아 만들 수 있는 문자열 첫번째 경우 \n",
        "    swich_str2 = \"\"                         # 두번째 경우\n",
        "\n",
        "    for (first, second) in zip(str1, str2):\n",
        "      swich_str1 += (first + second)           # str1을 먼저 하는 경우\n",
        "      swich_str2 += (second + first)           # str2를 먼저 하는 경우\n",
        "\n",
        "    if len_dif != 0:                           # 문자열의 길이가 차이가 있을때 번갈아 쓴 후 남은 긴 문자열을 덧붙여준다\n",
        "        swich_str1 += long_str[-(len_dif):] \n",
        "        swich_str2 += long_str[-(len_dif):]  \n",
        "    \n",
        "    \n",
        "    return (str3 == swich_str1) or (str3 == swich_str2)  # str3가 번갈아 만들수 있는 2가지 문자열 중에 하나라도 해당되는지 확인하여\n",
        "                                                        # 하나라도 있다면 True를 반환 아니라면 False를 반환"
      ]
    },
    {
      "cell_type": "code",
      "source": [
        "assert zip_strings('dog', 'cat', 'dcoagt') == True        #  오류가 발생하지 않습니다.\n",
        "assert zip_strings('cat', 'dog', 'dcoagt') == True\n",
        "assert zip_strings('dog', 'cat', 'cdoagt') == False\n",
        "assert zip_strings('computing', 'math','cmoamtphuting') == True\n",
        "assert zip_strings('math', 'computing','cmoamtphuting') == True\n",
        "assert zip_strings('math', 'computing', 'mcoamtphuting') == False"
      ],
      "metadata": {
        "id": "VSAEumnljE6d"
      },
      "id": "VSAEumnljE6d",
      "execution_count": null,
      "outputs": []
    },
    {
      "cell_type": "code",
      "execution_count": null,
      "id": "11477807",
      "metadata": {
        "id": "11477807"
      },
      "outputs": [],
      "source": [
        "# 아래 코드의 주석 기호를 삭제하고 실행할 때 오류가 발생하지 않아야 한다.\n",
        "\n",
        "# assert zip_strings('dog', 'cat', 'dcoagt') == True\n",
        "# assert zip_strings('cat', 'dog', 'dcoagt') == True\n",
        "# assert zip_strings('dog', 'cat', 'cdoagt') == False\n",
        "# assert zip_strings('computing', 'math','cmoamtphuting') == True\n",
        "# assert zip_strings('math', 'computing','cmoamtphuting') == True\n",
        "# assert zip_strings('math', 'computing', 'mcoamtphuting') == False"
      ]
    },
    {
      "cell_type": "markdown",
      "id": "c5dcc540",
      "metadata": {
        "id": "c5dcc540"
      },
      "source": [
        "## 리스트"
      ]
    },
    {
      "cell_type": "markdown",
      "id": "e8233271",
      "metadata": {
        "id": "e8233271"
      },
      "source": [
        "**문제 8**"
      ]
    },
    {
      "cell_type": "markdown",
      "id": "7b1ec1be",
      "metadata": {
        "id": "7b1ec1be"
      },
      "source": [
        "`num_list` 변수가 아래처럼 선언되었다."
      ]
    },
    {
      "cell_type": "code",
      "execution_count": null,
      "id": "e3cdd991",
      "metadata": {
        "id": "e3cdd991"
      },
      "outputs": [],
      "source": [
        "num_list = [[1, 2, 3, [4, 5]], [6, 7, 8], 9]"
      ]
    },
    {
      "cell_type": "markdown",
      "id": "08c4ddd2",
      "metadata": {
        "id": "08c4ddd2"
      },
      "source": [
        "(1) `9`를 츨력하는 코드를 작성하여라.   "
      ]
    },
    {
      "cell_type": "code",
      "execution_count": null,
      "id": "219b9ae3",
      "metadata": {
        "id": "219b9ae3",
        "colab": {
          "base_uri": "https://localhost:8080/"
        },
        "outputId": "78e38ea5-8bbd-4b19-b432-cf8155c339a7"
      },
      "outputs": [
        {
          "output_type": "stream",
          "name": "stdout",
          "text": [
            "9\n"
          ]
        }
      ],
      "source": [
        "# pass 적절한 명령문 또는 표현식으로 대체하라.\n",
        "\n",
        "print(num_list[-1])  "
      ]
    },
    {
      "cell_type": "markdown",
      "id": "6ad2f609",
      "metadata": {
        "id": "6ad2f609"
      },
      "source": [
        "(2) `7`를 출력하는 코드를 작성하여라.   "
      ]
    },
    {
      "cell_type": "code",
      "execution_count": null,
      "id": "40efea4e",
      "metadata": {
        "id": "40efea4e",
        "colab": {
          "base_uri": "https://localhost:8080/"
        },
        "outputId": "b9aed631-3915-4e35-da1b-e3a2938014ee"
      },
      "outputs": [
        {
          "output_type": "stream",
          "name": "stdout",
          "text": [
            "7\n"
          ]
        }
      ],
      "source": [
        "# pass 적절한 명령문 또는 표현식으로 대체하라.\n",
        "\n",
        "print(num_list[1][1])     "
      ]
    },
    {
      "cell_type": "markdown",
      "id": "df7d4671",
      "metadata": {
        "id": "df7d4671"
      },
      "source": [
        "(3) `[3, [4, 5]]`를 출력하는 코드를 작성하여라.  "
      ]
    },
    {
      "cell_type": "code",
      "execution_count": null,
      "id": "90388f2c",
      "metadata": {
        "id": "90388f2c",
        "colab": {
          "base_uri": "https://localhost:8080/"
        },
        "outputId": "b95ee01f-8545-4edc-b1f0-58ddf2e63955"
      },
      "outputs": [
        {
          "output_type": "stream",
          "name": "stdout",
          "text": [
            "[3, [4, 5]]\n"
          ]
        }
      ],
      "source": [
        "# pass 적절한 명령문 또는 표현식으로 대체하라.\n",
        "\n",
        "print(num_list[0][2:4])"
      ]
    },
    {
      "cell_type": "markdown",
      "id": "e1d3f8c8",
      "metadata": {
        "id": "e1d3f8c8"
      },
      "source": [
        "**문제 9**"
      ]
    },
    {
      "cell_type": "markdown",
      "id": "36126643",
      "metadata": {
        "id": "36126643"
      },
      "source": [
        "어느 평가위원회는 평가 점수 중 최고점과 최저점을 제외한 점수들의 평균을 최종 평가 점수로 부여하려고 한다. \n",
        "선수 A의 점수가 다음 리스트로 주어졌다."
      ]
    },
    {
      "cell_type": "code",
      "execution_count": null,
      "id": "9d75ee5b",
      "metadata": {
        "id": "9d75ee5b"
      },
      "outputs": [],
      "source": [
        "A = [85, 96, 78, 88, 81, 92, 73]"
      ]
    },
    {
      "cell_type": "markdown",
      "id": "640baea1",
      "metadata": {
        "id": "640baea1"
      },
      "source": [
        "선수 A의 최종 평가 점수를 출력하는 코드를 작성하여라.\n",
        "\n",
        "힌트: `sum()` 함수 또는 `numpy.mean()` 함수 활용"
      ]
    },
    {
      "cell_type": "code",
      "execution_count": null,
      "id": "26b04a54",
      "metadata": {
        "id": "26b04a54",
        "colab": {
          "base_uri": "https://localhost:8080/"
        },
        "outputId": "82324dba-cb2c-4594-c014-6816850502e6"
      },
      "outputs": [
        {
          "output_type": "execute_result",
          "data": {
            "text/plain": [
              "84.8"
            ]
          },
          "metadata": {},
          "execution_count": 26
        }
      ],
      "source": [
        "# pass 와  None을 적절한 명령문과 표현식으로 대체하라.\n",
        "max_A = max(A)       # A의 최댓값을 찾습니다.\n",
        "min_A = min(A)      # A의 최솟값을 찾습니다.\n",
        "\n",
        "A.remove(max_A)     # 최댓값을 제거 합니다.\n",
        "A.remove(min_A)     # 최솟값을 제거 합니다.\n",
        "\n",
        "sum_A = sum(A)      # 남은 A의 점수들의 합을 구합니다.\n",
        "\n",
        "average_A = sum_A / len(A) # 그리고 그 합을 A 리스트의 갯수만큼 나누어 평균을 구해줍니다."
      ]
    },
    {
      "cell_type": "code",
      "source": [
        "assert average_A == 84.8   # 오류가 발생하지 않습니다."
      ],
      "metadata": {
        "id": "WFMiT2ysl0qx"
      },
      "id": "WFMiT2ysl0qx",
      "execution_count": null,
      "outputs": []
    },
    {
      "cell_type": "code",
      "execution_count": null,
      "id": "1ff9cf76",
      "metadata": {
        "id": "1ff9cf76"
      },
      "outputs": [],
      "source": [
        "# 아래 코드의 주석 기호를 삭제하고 실행할 때 오류가 발생하지 않아야 한다.\n",
        "\n",
        "# assert average_A == 84.8"
      ]
    },
    {
      "cell_type": "markdown",
      "id": "6f2a748d",
      "metadata": {
        "id": "6f2a748d"
      },
      "source": [
        "**문제 10**"
      ]
    },
    {
      "cell_type": "markdown",
      "id": "7bd89970",
      "metadata": {
        "id": "7bd89970"
      },
      "source": [
        "리스트을 항목을 내림차순으로 정렬한 값을 반환하는 `rev_list()` 함수를 구현하라."
      ]
    },
    {
      "cell_type": "code",
      "execution_count": null,
      "id": "4175bdf6",
      "metadata": {
        "id": "4175bdf6"
      },
      "outputs": [],
      "source": [
        "# pass 와  None을 적절한 명령문과 표현식으로 대체하라.\n",
        "\n",
        "def rev_list(aList):\n",
        "    aList.sort()   # sort() 메서드를 이용하여 작은 값부터 순서대로 정렬한다.\n",
        "    aList.reverse()  # reverse() 메서드를 이용하여 순서를 뒤집어서 큰값부터 내림차순으로 정렬합니다.\n",
        "\n",
        "    return aList     # 정리한 리스트를 반환합니다."
      ]
    },
    {
      "cell_type": "code",
      "source": [
        "assert rev_list([2, 4, 1, 2]) == [4, 2, 2, 1]       # 오류가 발생하지 않습니다.\n",
        "assert rev_list(['c', 'f', 'a']) == ['f', 'c', 'a']\n",
        "assert rev_list(['_ff', 'ABC', 'abd']) == ['abd', '_ff', 'ABC']"
      ],
      "metadata": {
        "id": "n6dw7Wb2mnmR"
      },
      "id": "n6dw7Wb2mnmR",
      "execution_count": null,
      "outputs": []
    },
    {
      "cell_type": "code",
      "execution_count": null,
      "id": "d09f18c3",
      "metadata": {
        "id": "d09f18c3"
      },
      "outputs": [],
      "source": [
        "# 아래 코드의 주석 기호를 삭제하고 실행할 때 오류가 발생하지 않아야 한다.\n",
        "\n",
        "# assert rev_list([2, 4, 1, 2]) == [4, 2, 2, 1]\n",
        "# assert rev_list(['c', 'f', 'a']) == ['f', 'c', 'a']\n",
        "# assert rev_list(['_ff', 'ABC', 'abd']) == ['abd', '_ff', 'ABC']"
      ]
    },
    {
      "cell_type": "markdown",
      "id": "47bf8991",
      "metadata": {
        "id": "47bf8991"
      },
      "source": [
        "**문제 11**"
      ]
    },
    {
      "cell_type": "markdown",
      "id": "83a2b626",
      "metadata": {
        "id": "83a2b626"
      },
      "source": [
        "리스트 `['Life', 'is', 'too', 'short']` 를 이용하여\n",
        "문자열 `\"Life is too short\"` 을 생성하는 코드를 작성하라.\n",
        "단, 리스트의 `pop()` 메서드를 사용해야 한다."
      ]
    },
    {
      "cell_type": "code",
      "execution_count": null,
      "id": "104e6207",
      "metadata": {
        "id": "104e6207"
      },
      "outputs": [],
      "source": [
        "# pass 와  None을 적절한 명령문과 표현식으로 대체하라.\n",
        "# 단, 문자열 \"Life is too short\" 이 직접 언급되지 않아야 한다.\n",
        "\n",
        "input_list = ['Life', 'is', 'too', 'short']\n",
        "\n",
        "output_str = \"\"                 # 문자열 변수입니다.\n",
        "\n",
        "input_list.reverse()          # input_list의 순서를 뒤집어 줍니다.\n",
        "for i in range(len(input_list)):    # 리스트의 크기만큼 반복해줍니다.\n",
        "  output_str += (input_list.pop() + \" \") # pop을 이용해 뒤에서부터 꺼내어 공백을 더해서 output_str에 붙여줍니다. \n",
        "\n",
        "output_str = output_str.rstrip()  # 맨 마지막 오른쪽 공백을 제거하여 저장합니다."
      ]
    },
    {
      "cell_type": "code",
      "source": [
        "assert output_str == \"Life is too short\"   # 오류가 발생하지 않습니다."
      ],
      "metadata": {
        "id": "TSoRcmXlpMWf"
      },
      "id": "TSoRcmXlpMWf",
      "execution_count": null,
      "outputs": []
    },
    {
      "cell_type": "code",
      "execution_count": null,
      "id": "7e6a4b7b",
      "metadata": {
        "id": "7e6a4b7b"
      },
      "outputs": [],
      "source": [
        "# 아래 코드의 주석 기호를 삭제하고 실행할 때 오류가 발생하지 않아야 한다.\n",
        "\n",
        "# assert output_str == \"Life is too short\""
      ]
    },
    {
      "cell_type": "markdown",
      "id": "c638540c",
      "metadata": {
        "id": "c638540c"
      },
      "source": [
        "**문제 12**"
      ]
    },
    {
      "cell_type": "markdown",
      "id": "fa3c8b22",
      "metadata": {
        "id": "fa3c8b22"
      },
      "source": [
        "정수 `a`와 자연수 `n`을 입력받아, `n`개의 항목을 갖는 리스트를 출력하는 \n",
        "`int_clone()` 함수를 작성하여라.\n",
        "단, 리스트의 항목은 `a`부터 시작하고, 그 다음 항목은 이전 항목보다 `a`만큼 크다.        "
      ]
    },
    {
      "cell_type": "code",
      "execution_count": null,
      "id": "fbc85c96",
      "metadata": {
        "id": "fbc85c96"
      },
      "outputs": [],
      "source": [
        "# pass 와  None을 적절한 명령문과 표현식으로 대체하라.\n",
        "\n",
        "def int_clone(a, n):\n",
        "    assert n > 0      # n은 0보다 크다\n",
        "    result = []        # 최종 반환할 리스트이다.\n",
        "\n",
        "    if a >= 0 :      # a가 0 또는 0보다 큰 경우\n",
        "      for i in range(n):      # n 횟수만큼 반복한다.\n",
        "        result.append(a + (a*i))     # a부터 시작해서 n번 반복하여 a를 점점 더해준 값들을 최종 리스트에 더해준다. \n",
        "\n",
        "    else:                    # a가 음수인 경우이다.\n",
        "      for i in range(n):     # n 횟수 반복한다.\n",
        "        result.append(a - (a*i))   #이번에는 a가 음수이므로 빼주는 것이 더 큰 값이 나온다. 그것을 리스트에 추가해준다.\n",
        "      \n",
        "\n",
        "    return result      # 최종 리스트를 반환한다."
      ]
    },
    {
      "cell_type": "code",
      "source": [
        "assert int_clone(3, 4) == [3, 6, 9, 12]        # 오류가 발생하지 않는다.\n",
        "assert int_clone(2, 3) == [2, 4, 6]"
      ],
      "metadata": {
        "id": "plAcBxuMr3vP"
      },
      "id": "plAcBxuMr3vP",
      "execution_count": null,
      "outputs": []
    },
    {
      "cell_type": "code",
      "execution_count": null,
      "id": "d55a7143",
      "metadata": {
        "id": "d55a7143"
      },
      "outputs": [],
      "source": [
        "# 아래 코드의 주석 기호를 삭제하고 실행할 때 오류가 발생하지 않아야 한다.\n",
        "\n",
        "# assert int_clone(3, 4) == [3, 6, 9, 12]\n",
        "# assert int_clone(2, 3) == [2, 4, 6]"
      ]
    },
    {
      "cell_type": "markdown",
      "id": "96a3365c",
      "metadata": {
        "id": "96a3365c"
      },
      "source": [
        "**문제 13**"
      ]
    },
    {
      "cell_type": "markdown",
      "id": "f6f65528",
      "metadata": {
        "id": "f6f65528"
      },
      "source": [
        "주어진 정수를 오름차순으로 정렬하여, 리스트 형태로 반환하는 `int2sorted_list()` 함수를 작성하라.\n",
        "단, 양의 정수만 입력값으로 사용한다."
      ]
    },
    {
      "cell_type": "code",
      "execution_count": null,
      "id": "f71f7786",
      "metadata": {
        "id": "f71f7786"
      },
      "outputs": [],
      "source": [
        "# pass 와  None을 적절한 명령문과 표현식으로 대체하라.\n",
        "\n",
        "def int2sorted_list(an_int):\n",
        "    assert an_int > 0\n",
        "\n",
        "    result = []            # 최종 반환할 리스트입니다.\n",
        "\n",
        "    for i in str(an_int):   # 입력받은 정수를 문자열로 바꾸어 하나씩 반복합니다. \n",
        "      result.append(i)       # 리스트에 하나씩 추가해줍니다.\n",
        "      \n",
        "    result.sort()            # sort() 메소드를 통해 오름차순으로 정렬해줍니다.\n",
        "\n",
        "    return result               # 최종 리스트를 반환합니다."
      ]
    },
    {
      "cell_type": "code",
      "source": [
        "assert int2sorted_list(32145) == ['1', '2', '3', '4', '5']      # 오류가 발생하지 않습니다.\n",
        "assert int2sorted_list(435) == ['3', '4', '5']"
      ],
      "metadata": {
        "id": "bUXh0SjOtAOW"
      },
      "id": "bUXh0SjOtAOW",
      "execution_count": null,
      "outputs": []
    },
    {
      "cell_type": "code",
      "execution_count": null,
      "id": "5d645f23",
      "metadata": {
        "id": "5d645f23"
      },
      "outputs": [],
      "source": [
        "# 아래 코드의 주석 기호를 삭제하고 실행할 때 오류가 발생하지 않아야 한다.\n",
        "\n",
        "# assert int2sorted_list(32145) == ['1', '2', '3', '4', '5']\n",
        "# assert int2sorted_list(435) == ['3', '4', '5']"
      ]
    },
    {
      "cell_type": "markdown",
      "id": "9c748f5d",
      "metadata": {
        "id": "9c748f5d"
      },
      "source": [
        "**문제 14**"
      ]
    },
    {
      "cell_type": "markdown",
      "id": "af16f521",
      "metadata": {
        "id": "af16f521"
      },
      "source": [
        "교육 참가자 명단과 수료자 명단이 아래처럼 리스트로 주어다."
      ]
    },
    {
      "cell_type": "code",
      "execution_count": null,
      "id": "1d533922",
      "metadata": {
        "id": "1d533922"
      },
      "outputs": [],
      "source": [
        "participant = ['Apeach', 'Ryan', 'Muzi', 'Choonsik', 'Neo', 'Tube']\n",
        "completion = ['Ryan', 'Muzi', 'Neo', 'Choonsik']"
      ]
    },
    {
      "cell_type": "markdown",
      "id": "24680079",
      "metadata": {
        "id": "24680079"
      },
      "source": [
        "수료하지 못한 사람들의 명단을 리스트로 출력하는 코드를 작성하여라.\n",
        "단, 참여자 중 동명이인은 없고, 순서는 중요하지 않다. "
      ]
    },
    {
      "cell_type": "code",
      "execution_count": null,
      "id": "53354ffd",
      "metadata": {
        "id": "53354ffd"
      },
      "outputs": [],
      "source": [
        "# pass 와  None을 적절한 명령문과 표현식으로 대체하라.\n",
        "# 단, 답을 직접 언급하지 말아야 한다.\n",
        "\n",
        "unfinished = participant       # 참가자를 먼저 수료 못한 사람 리스트에 복사합니다.\n",
        "\n",
        "for finished in completion:          # 수료자를 반복합니다.\n",
        "  unfinished.remove(finished)       # 수료자가 수료 못한 리스트에 있으면 제거합니다.\n",
        "\n",
        "  # 결과적으로 수료 못한 사람만 남은 리스트가 unfinished에 남게 됩니다.\n"
      ]
    },
    {
      "cell_type": "code",
      "source": [
        "assert unfinished == ['Apeach', 'Tube']      # 오류가 발생하지 않습니다."
      ],
      "metadata": {
        "id": "wVIgHUijuHUv"
      },
      "id": "wVIgHUijuHUv",
      "execution_count": null,
      "outputs": []
    },
    {
      "cell_type": "code",
      "execution_count": null,
      "id": "41881253",
      "metadata": {
        "id": "41881253"
      },
      "outputs": [],
      "source": [
        "# 아래 코드의 주석 기호를 삭제하고 실행할 때 오류가 발생하지 않아야 한다.\n",
        "\n",
        "# assert unfinished == ['Apeach', 'Tube']"
      ]
    },
    {
      "cell_type": "markdown",
      "id": "f77664cd",
      "metadata": {
        "id": "f77664cd"
      },
      "source": [
        "**문제 15**"
      ]
    },
    {
      "cell_type": "markdown",
      "id": "48ff4c36",
      "metadata": {
        "id": "48ff4c36"
      },
      "source": [
        "어느 평가위원회는 평가 점수 중 최고점과 최저점을 제외한 점수들의 평균을 최종 평가 점수로 부여하려고 한다. \n",
        "선수 A의 점수가 다음 리스트로 주어졌다."
      ]
    },
    {
      "cell_type": "code",
      "execution_count": null,
      "id": "94d16e53",
      "metadata": {
        "id": "94d16e53"
      },
      "outputs": [],
      "source": [
        "A = [85, 96, 78, 88, 81, 92, 73]"
      ]
    },
    {
      "cell_type": "markdown",
      "id": "c69784c0",
      "metadata": {
        "id": "c69784c0"
      },
      "source": [
        "선수 A의 최종 평가 점수를 출력하는 코드를 작성하여라.\n",
        "\n",
        "힌트: `sum()` 함수 또는 `numpy.mean()` 함수 활용"
      ]
    },
    {
      "cell_type": "code",
      "execution_count": null,
      "id": "611fac8c",
      "metadata": {
        "id": "611fac8c"
      },
      "outputs": [],
      "source": [
        "# pass 와  None을 적절한 명령문과 표현식으로 대체하라.\n",
        "max_A = max(A)       # A의 최댓값을 찾습니다.\n",
        "min_A = min(A)      # A의 최솟값을 찾습니다.\n",
        "\n",
        "A.remove(max_A)     # 최댓값을 제거 합니다.\n",
        "A.remove(min_A)     # 최솟값을 제거 합니다.\n",
        "\n",
        "sum_A = sum(A)      # 남은 A의 점수들의 합을 구합니다.\n",
        "\n",
        "average_A = sum_A / len(A) # 그리고 그 합을 A 리스트의 갯수만큼 나누어 평균을 구해줍니다."
      ]
    },
    {
      "cell_type": "code",
      "source": [
        "assert average_A == 84.8      #  오류가 발생하지 않습니다."
      ],
      "metadata": {
        "id": "ywxdhneLvBio"
      },
      "id": "ywxdhneLvBio",
      "execution_count": null,
      "outputs": []
    },
    {
      "cell_type": "code",
      "execution_count": null,
      "id": "a4833c91",
      "metadata": {
        "id": "a4833c91"
      },
      "outputs": [],
      "source": [
        "# 아래 코드의 주석 기호를 삭제하고 실행할 때 오류가 발생하지 않아야 한다.\n",
        "\n",
        "# assert average_A == 84.8"
      ]
    },
    {
      "cell_type": "markdown",
      "id": "af20a677",
      "metadata": {
        "id": "af20a677"
      },
      "source": [
        "**문제 16**"
      ]
    },
    {
      "cell_type": "markdown",
      "id": "7953bb77",
      "metadata": {
        "id": "7953bb77"
      },
      "source": [
        "임의로 중첩된 리스트를 풀어헤쳐 중첩이 없는 리스트를 생성하는\n",
        "`flatten()` 함수를 `while` 반복문을 이용하여 구현하라.\n",
        "단, 재귀는 허용되지 않는다.\n",
        "\n",
        "참고: 이 문제는 조금 어려우며, [stackoverflow: 임의로 중첩된 리스트 납작하게 만들기](https://stackoverflow.com/questions/10823877/what-is-the-fastest-way-to-flatten-arbitrarily-nested-lists-in-python) 를 참고할 수 있다."
      ]
    },
    {
      "cell_type": "code",
      "source": [
        "def flatten(aList):\n",
        "\n",
        "  i = 0                 # 주어진 리스트에 접근할 인덱스 값을 0으로 초기화 해줍니다.\n",
        "\n",
        "  while i < len(aList):          # 리스트의 끝까지 반복해줍니다.\n",
        "        while True:              # 항목을 하나하나 검사해주는 부분입니다.\n",
        "\n",
        "          if isinstance(aList[i], str):   # 요소가 문자형일 때 시퀀스로 판단되어 무한루프를 돌게 되므로\n",
        "            break                         # 문자형일 때 처리하는 방법이다.\n",
        "            \n",
        "          try:                    # 리스트 슬라이싱은 시퀀스 자료형이 필요합니다. 따라서 중첩된 리스트가 있다면 try문이 실행됩니다.\n",
        "            aList[i:i+1] = aList[i]   # 중첩된 리스트가 하나 제거 됩니다.\n",
        "                                      # 그리고 while문을 돌면서 중첩된 리스트들이 제거됩니다.\n",
        "          except (TypeError, IndexError):   # 중첩되지 않은 항목이라면 안에 while문을 벗어납니다.\n",
        "            break\n",
        "\n",
        "        i += 1 # 다음 항목에 접근하기 위해 인덱스를 올려줍니다.\n",
        "\n",
        "  return aList           # 중첩된 리스트를 제거한 중첩이 없는 리스트를 반환합니다."
      ],
      "metadata": {
        "id": "V324WE3I_zGb"
      },
      "id": "V324WE3I_zGb",
      "execution_count": null,
      "outputs": []
    },
    {
      "cell_type": "code",
      "source": [
        "a= [1,2,3,4,[5,6,[[7]],[15]], 8, [9,[10,11]], 12, 13, [14, 15]]\n",
        "\n",
        "flatten(a)          # 모든 중첩이 제거 되었습니다."
      ],
      "metadata": {
        "colab": {
          "base_uri": "https://localhost:8080/"
        },
        "id": "9d9bVinLEL72",
        "outputId": "59579506-cea5-4452-f069-28c6bdc6448a"
      },
      "id": "9d9bVinLEL72",
      "execution_count": null,
      "outputs": [
        {
          "output_type": "execute_result",
          "data": {
            "text/plain": [
              "[1, 2, 3, 4, 5, 6, 7, 15, 8, 9, 10, 11, 12, 13, 14, 15]"
            ]
          },
          "metadata": {},
          "execution_count": 2
        }
      ]
    },
    {
      "cell_type": "code",
      "source": [
        "b = ['a','b',[['c'],'d',['e'],['f',['g'],['e']],'f'],'g','h'] \n",
        "\n",
        "flatten(b)   # 문자열 요소에 대해서도 중첩이 제거되었습니다."
      ],
      "metadata": {
        "colab": {
          "base_uri": "https://localhost:8080/"
        },
        "id": "LvQf4rd_pKre",
        "outputId": "c9a9db0a-e36e-4a08-f258-d873708cf88d"
      },
      "id": "LvQf4rd_pKre",
      "execution_count": null,
      "outputs": [
        {
          "output_type": "execute_result",
          "data": {
            "text/plain": [
              "['a', 'b', 'c', 'd', 'e', 'f', 'g', 'e', 'f', 'g', 'h']"
            ]
          },
          "metadata": {},
          "execution_count": 3
        }
      ]
    },
    {
      "cell_type": "markdown",
      "id": "c7215317",
      "metadata": {
        "id": "c7215317"
      },
      "source": [
        "## 튜플"
      ]
    },
    {
      "cell_type": "markdown",
      "id": "f68d4fb4",
      "metadata": {
        "id": "f68d4fb4"
      },
      "source": [
        "**문제 17**"
      ]
    },
    {
      "cell_type": "markdown",
      "id": "24744bc6",
      "metadata": {
        "id": "24744bc6"
      },
      "source": [
        "튜플이 인자로 들어오면 튜플의 기존 항목들이 역순으로 추가된 튜플을 반환하는 \n",
        "`tuple_double_rev()` 함수를 구현하라."
      ]
    },
    {
      "cell_type": "code",
      "execution_count": null,
      "id": "d7512aaa",
      "metadata": {
        "id": "d7512aaa"
      },
      "outputs": [],
      "source": [
        "# pass 와  None을 적절한 명령문과 표현식으로 대체하라.\n",
        "\n",
        "def tuple_double_rev(t):\n",
        "\n",
        "    t2list = list(t)           # 리스트의 메서드를 사용하기 위해 리스트로 바꾼다.\n",
        "    t2list.reverse()            # reverse() 메서드를 사용하여 순서를 바꾼 리스트를 만든다.\n",
        "\n",
        "    t2tuple = tuple(t2list)     # 다시 튜플로 만들어준다.\n",
        "\n",
        "\n",
        "    return t + t2tuple           # 기존의 튜플에 순서를 바꾼 튜플을 이어붙인 튜플을 반환한다."
      ]
    },
    {
      "cell_type": "code",
      "source": [
        "assert tuple_double_rev((1, 2, 3)) == (1, 2, 3, 3, 2, 1)        # 오류가 나지 않습니다.\n",
        "assert tuple_double_rev(('a', 'b')) == ('a', 'b', 'b', 'a')"
      ],
      "metadata": {
        "id": "JORwmOk4DQ5A"
      },
      "id": "JORwmOk4DQ5A",
      "execution_count": null,
      "outputs": []
    },
    {
      "cell_type": "code",
      "execution_count": null,
      "id": "0654ee6c",
      "metadata": {
        "id": "0654ee6c"
      },
      "outputs": [],
      "source": [
        "# 아래 코드의 주석 기호를 삭제하고 실행할 때 오류가 발생하지 않아야 한다.\n",
        "\n",
        "# assert tuple_double_rev((1, 2, 3)) == (1, 2, 3, 3, 2, 1)\n",
        "# assert tuple_double_rev(('a', 'b')) == ('a', 'b', 'b', 'a')"
      ]
    },
    {
      "cell_type": "markdown",
      "id": "a5c511c1",
      "metadata": {
        "id": "a5c511c1"
      },
      "source": [
        "## 집합"
      ]
    },
    {
      "cell_type": "markdown",
      "id": "8d7431a2",
      "metadata": {
        "id": "8d7431a2"
      },
      "source": [
        "**문제 18**"
      ]
    },
    {
      "cell_type": "markdown",
      "id": "a8996e7c",
      "metadata": {
        "id": "a8996e7c"
      },
      "source": [
        "세 집합 A, B, C가 다음과 같이 주어졌다. "
      ]
    },
    {
      "cell_type": "code",
      "execution_count": null,
      "id": "40f7078d",
      "metadata": {
        "id": "40f7078d"
      },
      "outputs": [],
      "source": [
        "A = {2, 4, 5}\n",
        "B = {1, 2, 2, 1, 10, 4}\n",
        "C = {3, 3, 3, 4}"
      ]
    },
    {
      "cell_type": "markdown",
      "id": "3e8ae185",
      "metadata": {
        "id": "3e8ae185"
      },
      "source": [
        "* $A \\cap B \\cap C$"
      ]
    },
    {
      "cell_type": "code",
      "execution_count": null,
      "id": "a871f333",
      "metadata": {
        "id": "a871f333"
      },
      "outputs": [],
      "source": [
        "# pass 와  None을 적절한 명령문과 표현식으로 대체하라.\n",
        "\n",
        "\n",
        "AnBnC = A & B & C        # 교집합 연산자 사용"
      ]
    },
    {
      "cell_type": "code",
      "source": [
        "assert AnBnC == {4}   # 오류가 발생하지 않습니다."
      ],
      "metadata": {
        "id": "-_05J_J8D2Q8"
      },
      "id": "-_05J_J8D2Q8",
      "execution_count": null,
      "outputs": []
    },
    {
      "cell_type": "code",
      "execution_count": null,
      "id": "23f462d7",
      "metadata": {
        "id": "23f462d7"
      },
      "outputs": [],
      "source": [
        "# 아래 코드의 주석 기호를 삭제하고 실행할 때 오류가 발생하지 않아야 한다.\n",
        "\n",
        "# assert AnBnC == {4}"
      ]
    },
    {
      "cell_type": "markdown",
      "id": "e6de4d9e",
      "metadata": {
        "id": "e6de4d9e"
      },
      "source": [
        "* $(A \\cup B \\cup C) - A$"
      ]
    },
    {
      "cell_type": "code",
      "execution_count": null,
      "id": "7c5d05be",
      "metadata": {
        "id": "7c5d05be"
      },
      "outputs": [],
      "source": [
        "# pass 와  None을 적절한 명령문과 표현식으로 대체하라.\n",
        " \n",
        "\n",
        "ArBrCmA = (A|B|C)-A   # 합집합 연산자와 차집합 연산자 사용"
      ]
    },
    {
      "cell_type": "code",
      "source": [
        "assert ArBrCmA == {1, 3, 10}   # 오류가 발생하지 않습니다."
      ],
      "metadata": {
        "id": "AU-p6-zpEDCH"
      },
      "id": "AU-p6-zpEDCH",
      "execution_count": null,
      "outputs": []
    },
    {
      "cell_type": "code",
      "execution_count": null,
      "id": "5701a40f",
      "metadata": {
        "id": "5701a40f"
      },
      "outputs": [],
      "source": [
        "# 아래 코드의 주석 기호를 삭제하고 실행할 때 오류가 발생하지 않아야 한다.\n",
        "\n",
        "# assert ArBrCmA == {1, 3, 10}"
      ]
    },
    {
      "cell_type": "markdown",
      "id": "66466065",
      "metadata": {
        "id": "66466065"
      },
      "source": [
        "**문제 19**"
      ]
    },
    {
      "cell_type": "markdown",
      "id": "4b1ab94f",
      "metadata": {
        "id": "4b1ab94f"
      },
      "source": [
        "리스트가 입력되면 중복된 항목은 제거하고 남은 항목들을 내림차순으로 정렬한\n",
        "리스트를 반환하는 `unique_values()` 함수를 구현하라. "
      ]
    },
    {
      "cell_type": "code",
      "execution_count": null,
      "id": "d87b4c29",
      "metadata": {
        "id": "d87b4c29"
      },
      "outputs": [],
      "source": [
        "# pass 와  None을 적절한 명령문과 표현식으로 대체하라.\n",
        "\n",
        "def unique_values(aList):\n",
        "\n",
        "    aSet = set(aList)           # aList를 집합으로 자료형을 바꿉니다. 그러면 중복된 항목들이 삭제되고 하나만 남습니다.\n",
        "    aList = list(aSet)          # 다시 집합으로 바꾼것을 리스트로 바꿉니다.\n",
        "    aList.sort()                # 오름차순으로 정리하는 sort()메소드를 사용합니다.\n",
        "    aList.reverse()             # reverse() 메소드로 순서를 바꿔주면 내림차순으로 정렬이 됩니다.\n",
        "\n",
        "    return aList                # 최종적으로 조건을 맞춘 리스트를 반환합니다."
      ]
    },
    {
      "cell_type": "code",
      "source": [
        "assert unique_values([1, 2, 1, 3]) == [3, 2, 1]\n",
        "assert unique_values(['z', 'f', 'a', 'z']) == ['z', 'f', 'a']"
      ],
      "metadata": {
        "id": "G6-f-wdaE4Km"
      },
      "id": "G6-f-wdaE4Km",
      "execution_count": null,
      "outputs": []
    },
    {
      "cell_type": "code",
      "execution_count": null,
      "id": "247e8ee8",
      "metadata": {
        "id": "247e8ee8"
      },
      "outputs": [],
      "source": [
        "# 아래 코드의 주석 기호를 삭제하고 실행할 때 오류가 발생하지 않아야 한다.\n",
        "\n",
        "# assert unique_values([1, 2, 1, 3]) == [3, 2, 1]\n",
        "# assert unique_values(['z', 'f', 'a', 'z']) == ['z', 'f', 'a']"
      ]
    },
    {
      "cell_type": "markdown",
      "id": "a20b4710",
      "metadata": {
        "id": "a20b4710"
      },
      "source": [
        "## 사전"
      ]
    },
    {
      "cell_type": "markdown",
      "id": "0932631b",
      "metadata": {
        "id": "0932631b"
      },
      "source": [
        "**문제 20**"
      ]
    },
    {
      "cell_type": "markdown",
      "id": "aa4161ad",
      "metadata": {
        "id": "aa4161ad"
      },
      "source": [
        "다음 `participants` 변수는 모임일과 그날 참석한 사람들의 이름을 저장하는 사전을 가리킨다."
      ]
    },
    {
      "cell_type": "code",
      "execution_count": null,
      "id": "2ee676cc",
      "metadata": {
        "id": "2ee676cc"
      },
      "outputs": [],
      "source": [
        "participants = {'1월3일' : ['현성', '문정', '현무', '강현'], \n",
        "                '2월10일' : ['문정', '강현', '정훈'], \n",
        "                '3월7일' : ['현성', '연아', '현무', '지아']}"
      ]
    },
    {
      "cell_type": "markdown",
      "id": "b2c0c0f6",
      "metadata": {
        "id": "b2c0c0f6"
      },
      "source": [
        "(1) 그런데 3월7일 모임에 강현이가 참석하였는데, 이 정보가 누락되었다.  \n",
        "3월7일 참석자 명단 마지막에 '강현'을 추가한 다음, 아래와 같은 형식으로 출력하는 코드를 작성하여라.   \n",
        "\n",
        "```python\n",
        "3월7일 모임에는 ['현성', '연아', '현무', '지아', '강현'], 총 5명이 참석했습니다.\n",
        "```"
      ]
    },
    {
      "cell_type": "code",
      "execution_count": null,
      "id": "9a1592f4",
      "metadata": {
        "id": "9a1592f4",
        "colab": {
          "base_uri": "https://localhost:8080/"
        },
        "outputId": "35e8010d-3de4-4024-a56c-750979e39cd1"
      },
      "outputs": [
        {
          "output_type": "stream",
          "name": "stdout",
          "text": [
            "3월7일 모임에는 ['현성', '연아', '현무', '지아', '강현'], 총 5명이 참석했습니다.\n"
          ]
        }
      ],
      "source": [
        "# pass 를 적절한 명령문과 표현식으로 대체하라.\n",
        "# 단, 앞서 언급된 출력값을 직접 사용하지는 않아야 한다.\n",
        "\n",
        "participants['3월7일'].append('강현')            # 사전의 3월7일 key에 해당하는 값의 리스트에 강현을 추가해줍니다.\n",
        "\n",
        "key = '3월7일'                                     # key를 3월7일로 했습니다.\n",
        "print(f\"{key} 모임에는 {participants[key]}, 총 {len(participants[key])}명이 참석했습니다.\")  # 조건에 따라 포메팅에 맞춰\n",
        "                                                                                      # 키, 해당 값, 해당값의 길이로 출력했습니다."
      ]
    },
    {
      "cell_type": "markdown",
      "id": "5a278630",
      "metadata": {
        "id": "5a278630"
      },
      "source": [
        "(2) 이름을 입력받아 1월3일 모임에 참석했으면 `True`, 아니면 `False`를 출력하는 \n",
        "`attended()` 함수를 작성하라.   "
      ]
    },
    {
      "cell_type": "code",
      "execution_count": null,
      "id": "5afe29a5",
      "metadata": {
        "id": "5afe29a5"
      },
      "outputs": [],
      "source": [
        "# pass 와  None을 적절한 명령문과 표현식으로 대체하라.\n",
        "\n",
        "def attended(name):\n",
        "    if name in participants['1월3일']:    # 1월 3일 모임 리스트에 해당 이름이 있다면 \n",
        "      return True                       # True 반환\n",
        "    else:                             # 없다면\n",
        "      return False                    # False 반환\n"
      ]
    },
    {
      "cell_type": "code",
      "source": [
        "assert attended(\"현성\") == True\n",
        "assert attended(\"찬호\") == False"
      ],
      "metadata": {
        "id": "FwErddJJH5zv"
      },
      "id": "FwErddJJH5zv",
      "execution_count": null,
      "outputs": []
    },
    {
      "cell_type": "code",
      "execution_count": null,
      "id": "f7d7d317",
      "metadata": {
        "id": "f7d7d317"
      },
      "outputs": [],
      "source": [
        "# 아래 코드의 주석 기호를 삭제하고 실행할 때 오류가 발생하지 않아야 한다.\n",
        "\n",
        "# assert attended(\"현성\") == True\n",
        "# assert attended(\"찬호\") == False"
      ]
    },
    {
      "cell_type": "markdown",
      "id": "faa26cd6",
      "metadata": {
        "id": "faa26cd6"
      },
      "source": [
        "**문제 21**"
      ]
    },
    {
      "cell_type": "markdown",
      "id": "ca952ba4",
      "metadata": {
        "id": "ca952ba4"
      },
      "source": [
        "어느 반 학생들의 이름이 리스트로 주어졌다."
      ]
    },
    {
      "cell_type": "code",
      "execution_count": null,
      "id": "aed88923",
      "metadata": {
        "id": "aed88923"
      },
      "outputs": [],
      "source": [
        "students = ['Apeach', 'Ryan', 'Muzi', 'Choonsik', 'Neo', 'Tube']"
      ]
    },
    {
      "cell_type": "markdown",
      "id": "1b676b52",
      "metadata": {
        "id": "1b676b52"
      },
      "source": [
        "번호와 이름을 키와 값으로 갖는 사전을 출력하는 코드를 작성하여라.\n",
        "단, 번호는 이름의 오름차순으로 부여되고, 동명이인은 없다고 가정한다.  \n",
        "\n",
        "힌트: `sorted()` 함수와 `enumerate()` 함수를 이용할 수 있다."
      ]
    },
    {
      "cell_type": "code",
      "execution_count": null,
      "id": "d51ed57c",
      "metadata": {
        "id": "d51ed57c"
      },
      "outputs": [],
      "source": [
        "# pass 와  None을 적절한 명령문과 표현식으로 대체하라.\n",
        "\n",
        "sort_student = sorted(students)  # 오름차순으로 정렬된 학생 리스트 입니다.\n",
        "\n",
        "result_dic = {}                     # 결과를 담을 사전을 생성한다.\n",
        "\n",
        "for i, name in enumerate(sort_student, start = 1):   # enumerate() 함수를 사용하여 이름 순서대로 1부터 부여되며 반복됩니다.\n",
        "  result_dic[str(i)] = name                       # 부여된 번호의 문자열을 키값으로 하고 이름을 값으로 하여 사전에 추가해줍니다.\n",
        "\n",
        "name_numbers = result_dic                          # 만들어진 사전을 name_numbers에 저장해줍니다."
      ]
    },
    {
      "cell_type": "code",
      "source": [
        "assert name_numbers == {'1': 'Apeach', '2': 'Choonsik', '3': 'Muzi', '4': 'Neo', '5': 'Ryan', '6': 'Tube'}\n",
        "\n",
        "# 오류가 발생하지 않습니다."
      ],
      "metadata": {
        "id": "olg7i7EfKXkj"
      },
      "id": "olg7i7EfKXkj",
      "execution_count": null,
      "outputs": []
    },
    {
      "cell_type": "code",
      "execution_count": null,
      "id": "b1f125dc",
      "metadata": {
        "id": "b1f125dc"
      },
      "outputs": [],
      "source": [
        "# 아래 코드의 주석 기호를 삭제하고 실행할 때 오류가 발생하지 않아야 한다.\n",
        "\n",
        "# assert name_numbers == {'1': 'Apeach', '2': 'Choonsik', '3': 'Muzi', '4': 'Neo', '5': 'Ryan', '6': 'Tube'}`"
      ]
    },
    {
      "cell_type": "markdown",
      "id": "8d72c674",
      "metadata": {
        "id": "8d72c674"
      },
      "source": [
        "**문제 22**"
      ]
    },
    {
      "cell_type": "markdown",
      "id": "41c01768",
      "metadata": {
        "id": "41c01768"
      },
      "source": [
        "A대학의 일반차량에 대한 주차요금은 아래와 같다.   \n",
        "\n",
        "* 2,000원/최초 30분, 초과 10분마다 500원, 1일(24시간)은 40,000원   \n",
        "\n",
        "일반차량에 대한 입출차 기록이 리스트로 주어졌다."
      ]
    },
    {
      "cell_type": "code",
      "execution_count": null,
      "id": "eb201274",
      "metadata": {
        "id": "eb201274"
      },
      "outputs": [],
      "source": [
        "car_in_out = ['07:30 1234 IN', \n",
        "              '07:35 2580 IN',\n",
        "              '08:15 0328 IN',\n",
        "              '08:45 2580 OUT',\n",
        "              '08:55 9876 IN',\n",
        "              '09:20 9876 OUT',\n",
        "              '11:00 1597 IN',\n",
        "              '15:15 1234 OUT',\n",
        "              '21:00 0328 OUT']"
      ]
    },
    {
      "cell_type": "markdown",
      "id": "c13d654a",
      "metadata": {
        "id": "c13d654a"
      },
      "source": [
        "차량별로 주차시간과 주차요금이 사전 자료형으로 정리하는 코드를 작성하라.\n",
        "단, 아래 사항을 가정한다.\n",
        "\n",
        "* 차량번호는 차량 뒷번호 4자리를 기록하고, 동일한 차량번호는 없다.\n",
        "* 시간은 24시간제를 사용하고, 모든 차량은 00:00부터 23:59분 사이에 한 번씩만 입출차 한다.\n",
        "* 아직 출차하지 않은 차량에 대해서는 주차시간과 주차요금을 정리할 수 없다.  "
      ]
    },
    {
      "cell_type": "code",
      "execution_count": null,
      "id": "5c5e9735",
      "metadata": {
        "id": "5c5e9735",
        "colab": {
          "base_uri": "https://localhost:8080/"
        },
        "outputId": "734b303b-2e20-4508-99b3-e14c99112a7a"
      },
      "outputs": [
        {
          "output_type": "execute_result",
          "data": {
            "text/plain": [
              "{'0328': {'IN': '08:15',\n",
              "  'OUT': '21:00',\n",
              "  'parking_duration': 765,\n",
              "  'parking_fee': 39000},\n",
              " '1234': {'IN': '07:30',\n",
              "  'OUT': '15:15',\n",
              "  'parking_duration': 465,\n",
              "  'parking_fee': 24000},\n",
              " '1597': {'IN': '11:00'},\n",
              " '2580': {'IN': '07:35',\n",
              "  'OUT': '08:45',\n",
              "  'parking_duration': 70,\n",
              "  'parking_fee': 4000},\n",
              " '9876': {'IN': '08:55',\n",
              "  'OUT': '09:20',\n",
              "  'parking_duration': 25,\n",
              "  'parking_fee': 2000}}"
            ]
          },
          "metadata": {},
          "execution_count": 2
        }
      ],
      "source": [
        "# pass 와 None 을 적절한 명령문과 표현식으로 대체하라.\n",
        "# 결과값을 직접 사용할 수는 없다.\n",
        "car_parking_log = {}             # 사전형으로 선언합니다.\n",
        "log = {}               # 각 차의 입출차를 기록할 사전입니다.\n",
        "\n",
        "for each_log in car_in_out:                    # 입출차 기록 리스트를 하나하나 반복한다.\n",
        "  time, number, inorout = each_log.split()     # 시간, 차 번호, 입출차 종류로 나눈다.\n",
        "  if inorout == \"IN\":                          # 입차인 경우\n",
        "    car_parking_log[number] = {inorout:time}               # log 사전에 차번호를 키로 하고 \n",
        "                                               # 다시 입출차를 키로 하고 시간을 값으로 하는 사전을 값으로 하는 사전을 기록합니다.\n",
        "  else:                                       # 출차인 경우\n",
        "    car_parking_log[number].update({inorout:time})        # 해당 차 번호 키의 값에 출차를 키로 하고 시간을 값으로 하는 키와 값을 추가해줍니다.\n",
        "\n",
        "for car_number in car_parking_log.keys():                       # 이제 log 사전을 바탕으로 입출차의 시간을 계산할것입니다.\n",
        "                                              # log의 키인 차 번호에 대해 반복 합니다.\n",
        "  if car_parking_log[car_number].get(\"OUT\") == None:            # 만약 차가 아직 출차를 하지 않았다면\n",
        "    pass                                              # 그냥 넘어갑니다.                   \n",
        "\n",
        "  else:                                               # 출차하였다면\n",
        "    start_hour = int(car_parking_log[car_number].get(\"IN\")[0:2])   # 차의 입차 시간의 시(hour)\n",
        "    start_minute = int(car_parking_log[car_number].get(\"IN\")[3:])  # 차의 입차 시간의 분(minute)\n",
        "  \n",
        "    end_hour = int(car_parking_log[car_number].get(\"OUT\")[0:2])    # 차의 출차 시간의 시(hour)\n",
        "    end_minute = int(car_parking_log[car_number].get(\"OUT\")[3:])   # 차의 출차 시간의 분(minute)\n",
        "\n",
        "    start_minutes = (start_hour * 60) + start_minute   # 입차 시간을 하루를 기준으로 분으로 환산\n",
        "    end_minutes = (end_hour * 60) + end_minute          # 출차 시간을 하루를 기준으로 분으로 환산\n",
        "\n",
        "    minutes_dif = end_minutes - start_minutes              # 차의 주차시간을 분으로 환산\n",
        "\n",
        "    car_parking_log[car_number].update({\"parking_duration\" : minutes_dif})  # log 사전에 parking_duration을 키로하고 주차시간을 값으로 하는\n",
        "                                                               # 키와 값 쌍을 추가해줍니다.\n",
        "\n",
        "    # 이제 여기선 요금을 계산합니다.\n",
        "\n",
        "    if minutes_dif <= 30:           # 최초 20분에서 10분 초과 전까지입니다.                                                                   \n",
        "      price = 2000                  # 2000원 입니다.\n",
        "    elif minutes_dif > 30:          # 최초 20분에서 10분 초과 할때 10분초과 할 때마다 500원 추가된다.\n",
        "      addi_fee = 500 * ((minutes_dif - 20-1) // 10)    # 추가 요금 계산 과정 딱 10분은 초과가 아니므로 1을 빼주어 반영시킨다.\n",
        "      price = 2000 + addi_fee                # 최초요금과 추가 요금을 더한 최종 요금이다. \n",
        "\n",
        "      if price >= 40000:                 # 요금이 4만원이 넘어가면 24시간권으로 넘어간다.\n",
        "        price = 40000                    # 요금 4만원이다.\n",
        "\n",
        "                                        # (60 * 24 - 30) // 10 * 500 + 2000 = 72500 24시간을 초과 요금으로 계산하면\n",
        "                                        # 4만원이 넘으므로 40000원이 넘는 시점부터 24시간 요금으로 바꿔준다.\n",
        "    \n",
        "    car_parking_log[car_number].update({\"parking_fee\" : price})\n",
        "\n",
        "\n",
        "  \n",
        "\n",
        "  \n",
        "car_parking_log"
      ]
    },
    {
      "cell_type": "markdown",
      "id": "1df61440",
      "metadata": {
        "id": "1df61440"
      },
      "source": [
        "위 코드를 실행하면 다음과 같이 보여져야 한다."
      ]
    },
    {
      "cell_type": "code",
      "execution_count": null,
      "id": "edf60fb7",
      "metadata": {
        "id": "edf60fb7"
      },
      "outputs": [],
      "source": [
        "answer = {'1234': {'IN': '07:30',\n",
        "                   'OUT': '15:15',\n",
        "                   'parking_duration': 465,\n",
        "                   'parking_fee': 24000},\n",
        "          '2580': {'IN': '07:35',\n",
        "                   'OUT': '08:45',\n",
        "                   'parking_duration': 70,\n",
        "                   'parking_fee': 4000},\n",
        "          '0328': {'IN': '08:15',\n",
        "                   'OUT': '21:00',\n",
        "                   'parking_duration': 765,\n",
        "                   'parking_fee': 39000},\n",
        "          '9876': {'IN': '08:55',\n",
        "                   'OUT': '09:20',\n",
        "                   'parking_duration': 25,\n",
        "                   'parking_fee': 2000},\n",
        "          '1597': {'IN': '11:00'}}"
      ]
    },
    {
      "cell_type": "code",
      "source": [
        "assert car_parking_log == answer  # 오류가 발생하지 않는다."
      ],
      "metadata": {
        "id": "yInZLFaEB-dy"
      },
      "id": "yInZLFaEB-dy",
      "execution_count": null,
      "outputs": []
    },
    {
      "cell_type": "code",
      "execution_count": null,
      "id": "9c6a529d",
      "metadata": {
        "id": "9c6a529d"
      },
      "outputs": [],
      "source": [
        "# 아래 코드의 주석 기호를 삭제하고 실행할 때 오류가 발생하지 않아야 한다.\n",
        "\n",
        "# assert car_parking_log == answer"
      ]
    }
  ],
  "metadata": {
    "kernelspec": {
      "display_name": "Python 3 (ipykernel)",
      "language": "python",
      "name": "python3"
    },
    "language_info": {
      "codemirror_mode": {
        "name": "ipython",
        "version": 3
      },
      "file_extension": ".py",
      "mimetype": "text/x-python",
      "name": "python",
      "nbconvert_exporter": "python",
      "pygments_lexer": "ipython3",
      "version": "3.9.7"
    },
    "colab": {
      "name": "2016250012 김진상 6차",
      "provenance": [],
      "collapsed_sections": [],
      "include_colab_link": true
    }
  },
  "nbformat": 4,
  "nbformat_minor": 5
}